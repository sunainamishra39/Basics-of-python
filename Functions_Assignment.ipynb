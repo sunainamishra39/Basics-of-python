{
  "nbformat": 4,
  "nbformat_minor": 0,
  "metadata": {
    "colab": {
      "provenance": [],
      "authorship_tag": "ABX9TyNOJeSN45XE+enrVobvOn+5",
      "include_colab_link": true
    },
    "kernelspec": {
      "name": "python3",
      "display_name": "Python 3"
    },
    "language_info": {
      "name": "python"
    }
  },
  "cells": [
    {
      "cell_type": "markdown",
      "metadata": {
        "id": "view-in-github",
        "colab_type": "text"
      },
      "source": [
        "<a href=\"https://colab.research.google.com/github/sunainamishra39/Basics-of-python/blob/main/Functions_Assignment.ipynb\" target=\"_parent\"><img src=\"https://colab.research.google.com/assets/colab-badge.svg\" alt=\"Open In Colab\"/></a>"
      ]
    },
    {
      "cell_type": "markdown",
      "source": [
        "#Theoretical Questions"
      ],
      "metadata": {
        "id": "wA_v3d6Wln42"
      }
    },
    {
      "cell_type": "markdown",
      "source": [
        "1. What is the difference between a function and a method in Python?\n",
        "* A function is a block of reusable code that performs a specific task, while a method is a function that is associated with an object and is called on that object.\n",
        "\n",
        "* Here's an example:"
      ],
      "metadata": {
        "id": "UcdgnXeSluAW"
      }
    },
    {
      "cell_type": "code",
      "source": [
        "# Function example\n",
        "def greet(name):\n",
        "  return f\"Hello, {name}!\"\n",
        "\n",
        "print(greet(\"Alice\"))"
      ],
      "metadata": {
        "colab": {
          "base_uri": "https://localhost:8080/"
        },
        "id": "8Z7uerPdmO1d",
        "outputId": "8ac67217-b1cc-4878-a109-72cabca2542a"
      },
      "execution_count": 1,
      "outputs": [
        {
          "output_type": "stream",
          "name": "stdout",
          "text": [
            "Hello, Alice!\n"
          ]
        }
      ]
    },
    {
      "cell_type": "code",
      "execution_count": 2,
      "metadata": {
        "colab": {
          "base_uri": "https://localhost:8080/"
        },
        "id": "0EQBYb2Cli5f",
        "outputId": "080665b1-14c3-4fa4-b2df-bb6e989f5f92"
      },
      "outputs": [
        {
          "output_type": "stream",
          "name": "stdout",
          "text": [
            "HELLO\n"
          ]
        }
      ],
      "source": [
        "# Method example\n",
        "my_string = \"hello\"\n",
        "print(my_string.upper()) # upper() is a method of the string object"
      ]
    },
    {
      "cell_type": "markdown",
      "metadata": {
        "id": "3c1471eb"
      },
      "source": [
        "2. Explain the concept of function arguments and parameters in Python.\n",
        "* In Python, **parameters** are the names listed in the function definition. They are placeholders for the values that will be passed into the function.\n",
        "* **Arguments** are the actual values passed to the function when it is called.\n",
        "\n",
        "Here's an example:"
      ]
    },
    {
      "cell_type": "code",
      "metadata": {
        "colab": {
          "base_uri": "https://localhost:8080/"
        },
        "id": "9fe3bd9f",
        "outputId": "79f2d4d8-ca44-4511-d1be-9ed30c639fb3"
      },
      "source": [
        "# Define a function with parameters 'a' and 'b'\n",
        "def add_numbers(a, b):\n",
        "  return a + b\n",
        "\n",
        "# Call the function with arguments 5 and 3\n",
        "result = add_numbers(5, 3)\n",
        "print(result)"
      ],
      "execution_count": 3,
      "outputs": [
        {
          "output_type": "stream",
          "name": "stdout",
          "text": [
            "8\n"
          ]
        }
      ]
    },
    {
      "cell_type": "markdown",
      "metadata": {
        "id": "0874e7c9"
      },
      "source": [
        "3. What are the different ways to define and call a function in Python?\n",
        "\n",
        "In Python, functions are typically defined using the `def` keyword. Here are some common ways to define and call functions:\n",
        "\n",
        "*   **Basic function definition and call:**\n",
        "    Define a function with a name and parameters, then call it using its name followed by parentheses containing the arguments.\n",
        "*   **Function with default arguments:**\n",
        "    Parameters can have default values, making them optional when calling the function.\n",
        "*   **Function with variable-length arguments (`*args` and `**kwargs`):**\n",
        "    `*args` allows a function to accept an arbitrary number of positional arguments, while `**kwargs` allows it to accept an arbitrary number of keyword arguments.\n",
        "*   **Lambda functions (anonymous functions):**\n",
        "    Small, anonymous functions defined using the `lambda` keyword.\n",
        "\n",
        "Here's an example demonstrating some of these:"
      ]
    },
    {
      "cell_type": "code",
      "metadata": {
        "colab": {
          "base_uri": "https://localhost:8080/"
        },
        "id": "d260d34a",
        "outputId": "c4e24c8d-0c6e-45db-ca9a-98eb2bfd686e"
      },
      "source": [
        "# Basic function definition and call\n",
        "def greet(name):\n",
        "  return f\"Hello, {name}!\"\n",
        "\n",
        "print(greet(\"Alice\"))\n",
        "\n",
        "# Function with a default argument\n",
        "def greet_with_default(name=\"World\"):\n",
        "  return f\"Hello, {name}!\"\n",
        "\n",
        "print(greet_with_default())\n",
        "print(greet_with_default(\"Bob\"))\n",
        "\n",
        "# Function with variable-length arguments (*args)\n",
        "def sum_all(*args):\n",
        "  return sum(args)\n",
        "\n",
        "print(sum_all(1, 2, 3, 4))\n",
        "\n",
        "# Function with variable-length keyword arguments (**kwargs)\n",
        "def print_info(**kwargs):\n",
        "  for key, value in kwargs.items():\n",
        "    print(f\"{key}: {value}\")\n",
        "\n",
        "print_info(name=\"Charlie\", age=30)\n",
        "\n",
        "# Lambda function\n",
        "add = lambda x, y: x + y\n",
        "print(add(5, 7))"
      ],
      "execution_count": 4,
      "outputs": [
        {
          "output_type": "stream",
          "name": "stdout",
          "text": [
            "Hello, Alice!\n",
            "Hello, World!\n",
            "Hello, Bob!\n",
            "10\n",
            "name: Charlie\n",
            "age: 30\n",
            "12\n"
          ]
        }
      ]
    },
    {
      "cell_type": "markdown",
      "metadata": {
        "id": "e61142d7"
      },
      "source": [
        "4. What is the purpose of the `return` statement in a Python function?\n",
        "\n",
        "The `return` statement in a Python function has two main purposes:\n",
        "\n",
        "*   **To exit the function:** When a `return` statement is encountered, the function immediately stops executing, and the control is passed back to the caller.\n",
        "*   **To send a value back to the caller:** The `return` statement can optionally include a value or expression. This value is then returned to the part of the code that called the function. If no value is specified, or if the function doesn't have a `return` statement, it implicitly returns `None`.\n",
        "\n",
        "Here's an example:"
      ]
    },
    {
      "cell_type": "code",
      "metadata": {
        "colab": {
          "base_uri": "https://localhost:8080/"
        },
        "id": "622c1240",
        "outputId": "decf3b45-4490-46b1-fcc1-1669e1505d6c"
      },
      "source": [
        "# Function that returns a value\n",
        "def multiply(x, y):\n",
        "  return x * y\n",
        "\n",
        "result = multiply(4, 5)\n",
        "print(f\"The result of multiplication is: {result}\")\n",
        "\n",
        "# Function that returns None implicitly\n",
        "def greet(name):\n",
        "  print(f\"Hello, {name}!\")\n",
        "\n",
        "greet(\"David\")\n",
        "\n",
        "# Function that returns None explicitly\n",
        "def say_goodbye(name):\n",
        "  print(f\"Goodbye, {name}!\")\n",
        "  return None\n",
        "\n",
        "return_value = say_goodbye(\"Eve\")\n",
        "print(f\"The return value of say_goodbye is: {return_value}\")"
      ],
      "execution_count": 5,
      "outputs": [
        {
          "output_type": "stream",
          "name": "stdout",
          "text": [
            "The result of multiplication is: 20\n",
            "Hello, David!\n",
            "Goodbye, Eve!\n",
            "The return value of say_goodbye is: None\n"
          ]
        }
      ]
    },
    {
      "cell_type": "markdown",
      "metadata": {
        "id": "f4745e7e"
      },
      "source": [
        "5. What are iterators in Python and how do they differ from iterables?\n",
        "\n",
        "In Python, the terms \"iterable\" and \"iterator\" are related but distinct:\n",
        "\n",
        "*   An **iterable** is an object that can be iterated over. This means you can loop through its elements. Examples of iterables include lists, tuples, strings, dictionaries, and sets. Objects that are iterable have an `__iter__()` method, which returns an iterator.\n",
        "\n",
        "*   An **iterator** is an object that represents a stream of data. It is used to iterate over an iterable. Iterators have two main methods:\n",
        "    *   `__iter__()`: Returns the iterator object itself.\n",
        "    *   `__next__()`: Returns the next item from the stream. If there are no more items, it raises a `StopIteration` exception.\n",
        "\n",
        "In essence, an iterable is something you can loop over, while an iterator is an object that keeps track of the current position during the iteration.\n",
        "\n",
        "Here's an example:"
      ]
    },
    {
      "cell_type": "code",
      "metadata": {
        "colab": {
          "base_uri": "https://localhost:8080/"
        },
        "id": "5b0d6611",
        "outputId": "69ea31b8-71a2-4645-9d39-fdeea5323020"
      },
      "source": [
        "# An iterable (a list)\n",
        "my_list = [1, 2, 3, 4]\n",
        "\n",
        "# Getting an iterator from the iterable\n",
        "my_iterator = iter(my_list)\n",
        "\n",
        "# Using the iterator to get elements one by one\n",
        "print(next(my_iterator))\n",
        "print(next(my_iterator))\n",
        "print(next(my_iterator))\n",
        "print(next(my_iterator))\n",
        "\n",
        "# Trying to get the next element after the last one raises StopIteration\n",
        "try:\n",
        "  print(next(my_iterator))\n",
        "except StopIteration:\n",
        "  print(\"End of iteration\")\n",
        "\n",
        "# You can also iterate over an iterable directly using a for loop (which implicitly uses an iterator)\n",
        "print(\"\\nIterating using a for loop:\")\n",
        "for item in my_list:\n",
        "  print(item)"
      ],
      "execution_count": 6,
      "outputs": [
        {
          "output_type": "stream",
          "name": "stdout",
          "text": [
            "1\n",
            "2\n",
            "3\n",
            "4\n",
            "End of iteration\n",
            "\n",
            "Iterating using a for loop:\n",
            "1\n",
            "2\n",
            "3\n",
            "4\n"
          ]
        }
      ]
    },
    {
      "cell_type": "markdown",
      "metadata": {
        "id": "01960a0c"
      },
      "source": [
        "6. Explain the concept of generators in Python and how they are defined.\n",
        "\n",
        "In Python, generators are a simple way to create iterators. They are defined using functions and the `yield` keyword. When a generator function is called, it returns a generator object, which is an iterator. Unlike regular functions that use `return` to send back a value and terminate, generator functions use `yield` to produce a sequence of values over time. Each time `yield` is encountered, the generator pauses and saves its state, allowing it to resume from where it left off when `next()` is called on the generator object.\n",
        "\n",
        "Here's how they are defined and an example:\n",
        "\n",
        "*   **Defined with a function and `yield`:** A function becomes a generator function if it contains at least one `yield` expression.\n",
        "*   **Lazy evaluation:** Generators produce items one by one and only when requested, making them memory-efficient for working with large datasets or infinite sequences.\n",
        "\n",
        "Here's an example:"
      ]
    },
    {
      "cell_type": "code",
      "metadata": {
        "id": "40f538ee"
      },
      "source": [
        "# Define a generator function\n",
        "def my_generator():\n",
        "  n = 1\n",
        "  print(\"This is printed first\")\n",
        "  yield n\n",
        "\n",
        "  n += 1\n",
        "  print(\"This is printed second\")\n",
        "  yield n\n",
        "\n",
        "  n += 1\n",
        "  print(\"This is printed third\")\n",
        "  yield n\n",
        "\n",
        "# Create a generator object\n",
        "a = my_generator()\n",
        "\n",
        "# Using next() to get the next value from the generator\n",
        "print(next(a))\n",
        "print(next(a))\n",
        "print(next(a))\n",
        "\n",
        "# Trying to get the next element after the last one raises StopIteration\n",
        "try:\n",
        "  print(next(a))\n",
        "except StopIteration:\n",
        "  print(\"End of generation\")\n",
        "\n",
        "# Generators can also be used directly in a for loop\n",
        "print(\"\\nIterating using a for loop:\")\n",
        "for item in my_generator():\n",
        "  print(item)"
      ],
      "execution_count": null,
      "outputs": []
    },
    {
      "cell_type": "markdown",
      "metadata": {
        "id": "2f8f6a65"
      },
      "source": [
        "7. What are the advantages of using generators over regular functions?\n",
        "\n",
        "Generators offer several advantages over regular functions when dealing with sequences of data:\n",
        "\n",
        "*   **Memory Efficiency:** Generators produce items one at a time and only when requested. This \"lazy evaluation\" means they don't store the entire sequence in memory, which is crucial for large datasets or infinite sequences. Regular functions that return a list, for instance, would build the entire list in memory before returning it.\n",
        "*   **Performance:** For the same reason of not building the entire sequence at once, generators can be more performant, especially when you only need to process a few items from a very large sequence.\n",
        "*   **Readability and Simplicity:** For certain types of sequence generation, generators can lead to cleaner and more concise code compared to writing custom iterator classes.\n",
        "*   **Infinite Sequences:** Generators can easily produce infinite sequences, which is not possible with regular functions that return finite data structures like lists.\n",
        "\n",
        "Here's an example demonstrating the memory efficiency advantage:"
      ]
    },
    {
      "cell_type": "code",
      "metadata": {
        "colab": {
          "base_uri": "https://localhost:8080/"
        },
        "id": "8b4eff10",
        "outputId": "d3ea39c4-6a07-48ed-c448-4b33b400f6c9"
      },
      "source": [
        "import sys\n",
        "\n",
        "# Regular function that creates a list of squares\n",
        "def list_of_squares(n):\n",
        "  return [i*i for i in range(n)]\n",
        "\n",
        "# Generator function that yields squares\n",
        "def generate_squares(n):\n",
        "  for i in range(n):\n",
        "    yield i*i\n",
        "\n",
        "# Compare memory usage for a large number\n",
        "n = 1000000\n",
        "\n",
        "list_result = list_of_squares(n)\n",
        "gen_result = generate_squares(n)\n",
        "\n",
        "print(f\"Memory usage of list_of_squares({n}): {sys.getsizeof(list_result)} bytes\")\n",
        "print(f\"Memory usage of generate_squares({n}): {sys.getsizeof(gen_result)} bytes\")\n",
        "\n",
        "# Note that you can iterate over the generator just like a list\n",
        "print(\"\\nIterating through the first few generated squares:\")\n",
        "for i, square in enumerate(gen_result):\n",
        "    if i < 5:\n",
        "        print(square)\n",
        "    else:\n",
        "        break"
      ],
      "execution_count": 7,
      "outputs": [
        {
          "output_type": "stream",
          "name": "stdout",
          "text": [
            "Memory usage of list_of_squares(1000000): 8448728 bytes\n",
            "Memory usage of generate_squares(1000000): 208 bytes\n",
            "\n",
            "Iterating through the first few generated squares:\n",
            "0\n",
            "1\n",
            "4\n",
            "9\n",
            "16\n"
          ]
        }
      ]
    },
    {
      "cell_type": "markdown",
      "metadata": {
        "id": "a5027cfd"
      },
      "source": [
        "8. What is a lambda function in Python and when is it typically used?\n",
        "\n",
        "In Python, a **lambda function** is a small, anonymous function defined using the `lambda` keyword. Unlike regular functions defined with `def`, lambda functions are restricted to a single expression. They are typically used for short, simple operations where a full function definition would be overly verbose.\n",
        "\n",
        "Lambda functions are often used in situations where a function object is required for a short period, such as:\n",
        "\n",
        "*   As arguments to higher-order functions like `map()`, `filter()`, and `sorted()`.\n",
        "*   For simple callbacks or event handlers.\n",
        "\n",
        "Here's an example:"
      ]
    },
    {
      "cell_type": "code",
      "metadata": {
        "colab": {
          "base_uri": "https://localhost:8080/"
        },
        "id": "d79a6d13",
        "outputId": "203920a4-899f-4c3b-fe4e-45f2f779d08d"
      },
      "source": [
        "# Example of a lambda function\n",
        "add = lambda x, y: x + y\n",
        "\n",
        "# Using the lambda function\n",
        "print(add(5, 3))\n",
        "\n",
        "# Example of using lambda with filter()\n",
        "my_list = [1, 2, 3, 4, 5, 6]\n",
        "even_numbers = list(filter(lambda x: x % 2 == 0, my_list))\n",
        "print(even_numbers)\n",
        "\n",
        "# Example of using lambda with sorted()\n",
        "pairs = [(1, 'one'), (2, 'two'), (3, 'three'), (4, 'four')]\n",
        "pairs.sort(key=lambda pair: pair[1])\n",
        "print(pairs)"
      ],
      "execution_count": 9,
      "outputs": [
        {
          "output_type": "stream",
          "name": "stdout",
          "text": [
            "8\n",
            "[2, 4, 6]\n",
            "[(4, 'four'), (1, 'one'), (3, 'three'), (2, 'two')]\n"
          ]
        }
      ]
    },
    {
      "cell_type": "markdown",
      "metadata": {
        "id": "ec899aca"
      },
      "source": [
        "9. Explain the purpose and usage of the `map()` function in Python.\n",
        "\n",
        "The `map()` function in Python is a built-in function that applies a given function to each item of an iterable (like a list or tuple) and returns an iterator that yields the results.\n",
        "\n",
        "Its purpose is to provide a concise way to perform the same operation on every item of an iterable without using an explicit `for` loop. This can make code more readable and sometimes more efficient for certain operations.\n",
        "\n",
        "The basic syntax of `map()` is:\n",
        "\n",
        "`map(function, iterable)`\n",
        "\n",
        "*   `function`: The function to apply to each item.\n",
        "*   `iterable`: The sequence (list, tuple, etc.) whose elements will be passed to the function.\n",
        "\n",
        "Here's an example:"
      ]
    },
    {
      "cell_type": "code",
      "metadata": {
        "colab": {
          "base_uri": "https://localhost:8080/"
        },
        "id": "facc3bd9",
        "outputId": "ec321bac-5eba-4612-d541-64af40d66856"
      },
      "source": [
        "# Define a function to square a number\n",
        "def square(x):\n",
        "  return x * x\n",
        "\n",
        "# A list of numbers\n",
        "numbers = [1, 2, 3, 4, 5]\n",
        "\n",
        "# Using map() to apply the square function to each number in the list\n",
        "squared_numbers_iterator = map(square, numbers)\n",
        "\n",
        "# map() returns an iterator, so you can convert it to a list to see the results\n",
        "squared_numbers_list = list(squared_numbers_iterator)\n",
        "\n",
        "print(f\"Original numbers: {numbers}\")\n",
        "print(f\"Squared numbers (using map): {squared_numbers_list}\")\n",
        "\n",
        "# You can also use a lambda function with map()\n",
        "cubes_iterator = map(lambda x: x**3, numbers)\n",
        "cubes_list = list(cubes_iterator)\n",
        "print(f\"Cubes of numbers (using map with lambda): {cubes_list}\")"
      ],
      "execution_count": 10,
      "outputs": [
        {
          "output_type": "stream",
          "name": "stdout",
          "text": [
            "Original numbers: [1, 2, 3, 4, 5]\n",
            "Squared numbers (using map): [1, 4, 9, 16, 25]\n",
            "Cubes of numbers (using map with lambda): [1, 8, 27, 64, 125]\n"
          ]
        }
      ]
    },
    {
      "cell_type": "markdown",
      "metadata": {
        "id": "9cfff21c"
      },
      "source": [
        "10. What is the difference between `map()`, `reduce()`, and `filter()` functions in Python?\n",
        "\n",
        "In Python, `map()`, `filter()`, and `reduce()` are functions that allow you to apply a function to an iterable in different ways. They are often used in functional programming contexts. Here are their main differences:\n",
        "\n",
        "*   **`map(function, iterable)`:** Applies the given `function` to each item of the `iterable` and returns an iterator that yields the results. It transforms each element individually.\n",
        "\n",
        "*   **`filter(function, iterable)`:** Constructs an iterator from elements of the `iterable` for which a `function` returns true. It selects elements based on a condition.\n",
        "\n",
        "*   **`reduce(function, iterable)`:** Applies a `function` of two arguments cumulatively to the items of an iterable, from left to right, so as to reduce the iterable to a single value. It is part of the `functools` module.\n",
        "\n",
        "Here's an example demonstrating their usage:"
      ]
    },
    {
      "cell_type": "code",
      "metadata": {
        "id": "261450d0"
      },
      "source": [
        "from functools import reduce\n",
        "\n",
        "# A list of numbers\n",
        "numbers = [1, 2, 3, 4, 5, 6]\n",
        "\n",
        "# Using map() to square each number\n",
        "squared_numbers = list(map(lambda x: x**2, numbers))\n",
        "print(f\"Original numbers: {numbers}\")\n",
        "print(f\"Squared numbers (using map): {squared_numbers}\")\n",
        "\n",
        "# Using filter() to get only even numbers\n",
        "even_numbers = list(filter(lambda x: x % 2 == 0, numbers))\n",
        "print(f\"Original numbers: {numbers}\")\n",
        "print(f\"Even numbers (using filter): {even_numbers}\")\n",
        "\n",
        "# Using reduce() to calculate the sum of all numbers\n",
        "sum_of_numbers = reduce(lambda x, y: x + y, numbers)\n",
        "print(f\"Original numbers: {numbers}\")\n",
        "print(f\"Sum of numbers (using reduce): {sum_of_numbers}\")"
      ],
      "execution_count": null,
      "outputs": []
    },
    {
      "cell_type": "markdown",
      "source": [
        "#Practical Questions"
      ],
      "metadata": {
        "id": "g3COCjROtdYX"
      }
    },
    {
      "cell_type": "code",
      "metadata": {
        "colab": {
          "base_uri": "https://localhost:8080/"
        },
        "id": "4c343fc4",
        "outputId": "6a691e68-59b9-4b76-df3d-bf3b946283f3"
      },
      "source": [
        "# 1. Write a Python function that takes a list of numbers as input and returns the sum of all even numbers in the list.\n",
        "def sum_even_numbers(numbers):\n",
        "  \"\"\"\n",
        "  This function takes a list of numbers and returns the sum of all even numbers.\n",
        "\n",
        "  Args:\n",
        "    numbers: A list of integers.\n",
        "\n",
        "  Returns:\n",
        "    The sum of all even numbers in the list.\n",
        "  \"\"\"\n",
        "  even_sum = 0\n",
        "  for number in numbers:\n",
        "    if number % 2 == 0:\n",
        "      even_sum += number\n",
        "  return even_sum\n",
        "\n",
        "# Example usage:\n",
        "my_list = [1, 2, 3, 4, 5, 6, 7, 8, 9, 10]\n",
        "even_sum = sum_even_numbers(my_list)\n",
        "print(f\"The sum of even numbers in the list is: {even_sum}\")"
      ],
      "execution_count": 13,
      "outputs": [
        {
          "output_type": "stream",
          "name": "stdout",
          "text": [
            "The sum of even numbers in the list is: 30\n"
          ]
        }
      ]
    },
    {
      "cell_type": "code",
      "source": [],
      "metadata": {
        "id": "B62KNFiGt5Kd"
      },
      "execution_count": null,
      "outputs": []
    },
    {
      "cell_type": "code",
      "metadata": {
        "colab": {
          "base_uri": "https://localhost:8080/"
        },
        "id": "e27a4694",
        "outputId": "43ee33a4-b2d8-4c49-dd78-e810061eceb6"
      },
      "source": [
        "# 2. Create a Python function that accepts a string and returns the reverse of that string.\n",
        "def reverse_string(input_string):\n",
        "  \"\"\"\n",
        "  This function takes a string and returns its reverse.\n",
        "\n",
        "  Args:\n",
        "    input_string: The string to reverse.\n",
        "\n",
        "  Returns:\n",
        "    The reversed string.\n",
        "  \"\"\"\n",
        "  return input_string[::-1]\n",
        "\n",
        "# Example usage:\n",
        "my_string = \"hello\"\n",
        "reversed_string = reverse_string(my_string)\n",
        "print(f\"The original string is: {my_string}\")\n",
        "print(f\"The reversed string is: {reversed_string}\")"
      ],
      "execution_count": 14,
      "outputs": [
        {
          "output_type": "stream",
          "name": "stdout",
          "text": [
            "The original string is: hello\n",
            "The reversed string is: olleh\n"
          ]
        }
      ]
    },
    {
      "cell_type": "code",
      "source": [],
      "metadata": {
        "id": "Jc5KrN7YuHkc"
      },
      "execution_count": null,
      "outputs": []
    },
    {
      "cell_type": "code",
      "metadata": {
        "colab": {
          "base_uri": "https://localhost:8080/"
        },
        "id": "43f2515a",
        "outputId": "8a733512-6a46-4ea7-b82e-0351f2725c55"
      },
      "source": [
        "# 3. Implement a Python function that takes a list of integers and returns a new list containing the squares of each number.\n",
        "def square_numbers(numbers):\n",
        "  \"\"\"\n",
        "  This function takes a list of integers and returns a new list with the squares of each number.\n",
        "\n",
        "  Args:\n",
        "    numbers: A list of integers.\n",
        "\n",
        "  Returns:\n",
        "    A new list containing the squares of each number.\n",
        "  \"\"\"\n",
        "  squared_list = [number ** 2 for number in numbers]\n",
        "  return squared_list\n",
        "\n",
        "# Example usage:\n",
        "my_list = [1, 2, 3, 4, 5]\n",
        "squared_numbers = square_numbers(my_list)\n",
        "print(f\"Original list: {my_list}\")\n",
        "print(f\"Squared list: {squared_numbers}\")"
      ],
      "execution_count": 15,
      "outputs": [
        {
          "output_type": "stream",
          "name": "stdout",
          "text": [
            "Original list: [1, 2, 3, 4, 5]\n",
            "Squared list: [1, 4, 9, 16, 25]\n"
          ]
        }
      ]
    },
    {
      "cell_type": "code",
      "metadata": {
        "colab": {
          "base_uri": "https://localhost:8080/"
        },
        "id": "870faed9",
        "outputId": "3668a24b-4c7d-47bd-ab98-39ad645d2558"
      },
      "source": [
        "#5. Create an iterator class in Python that generates the Fibonacci sequence up to a specified number of terms.\n",
        "class FibonacciIterator:\n",
        "  \"\"\"\n",
        "  An iterator class to generate the Fibonacci sequence up to a specified number of terms.\n",
        "  \"\"\"\n",
        "  def __init__(self, num_terms):\n",
        "    self.num_terms = num_terms\n",
        "    self.current_term = 0\n",
        "    self.a = 0\n",
        "    self.b = 1\n",
        "\n",
        "  def __iter__(self):\n",
        "    return self\n",
        "\n",
        "  def __next__(self):\n",
        "    if self.current_term < self.num_terms:\n",
        "      if self.current_term == 0:\n",
        "        self.current_term += 1\n",
        "        return self.a\n",
        "      elif self.current_term == 1:\n",
        "        self.current_term += 1\n",
        "        return self.b\n",
        "      else:\n",
        "        next_fib = self.a + self.b\n",
        "        self.a = self.b\n",
        "        self.b = next_fib\n",
        "        self.current_term += 1\n",
        "        return next_fib\n",
        "    else:\n",
        "      raise StopIteration\n",
        "\n",
        "# Example usage:\n",
        "fib_iterator = FibonacciIterator(10)\n",
        "\n",
        "print(\"Fibonacci sequence up to 10 terms:\")\n",
        "for term in fib_iterator:\n",
        "  print(term)"
      ],
      "execution_count": 16,
      "outputs": [
        {
          "output_type": "stream",
          "name": "stdout",
          "text": [
            "Fibonacci sequence up to 10 terms:\n",
            "0\n",
            "1\n",
            "1\n",
            "2\n",
            "3\n",
            "5\n",
            "8\n",
            "13\n",
            "21\n",
            "34\n"
          ]
        }
      ]
    },
    {
      "cell_type": "code",
      "metadata": {
        "colab": {
          "base_uri": "https://localhost:8080/"
        },
        "id": "a57307fe",
        "outputId": "4cbd31f1-f5ed-41c7-8771-b525c8e0995a"
      },
      "source": [
        "# 6. Write a generator function in Python that yields the powers of 2 up to a given exponent.\n",
        "def powers_of_two(exponent):\n",
        "  \"\"\"\n",
        "  Generator function that yields powers of 2 up to a given exponent.\n",
        "\n",
        "  Args:\n",
        "    exponent: The maximum exponent for the powers of 2.\n",
        "\n",
        "  Yields:\n",
        "    The powers of 2 from 2^0 up to 2^exponent.\n",
        "  \"\"\"\n",
        "  for i in range(exponent + 1):\n",
        "    yield 2**i\n",
        "\n",
        "# Example usage:\n",
        "powers_gen = powers_of_two(5)\n",
        "\n",
        "print(\"Powers of 2 up to exponent 5:\")\n",
        "for power in powers_gen:\n",
        "  print(power)"
      ],
      "execution_count": 17,
      "outputs": [
        {
          "output_type": "stream",
          "name": "stdout",
          "text": [
            "Powers of 2 up to exponent 5:\n",
            "1\n",
            "2\n",
            "4\n",
            "8\n",
            "16\n",
            "32\n"
          ]
        }
      ]
    },
    {
      "cell_type": "code",
      "source": [],
      "metadata": {
        "id": "CaB9fgFMvXg7"
      },
      "execution_count": null,
      "outputs": []
    },
    {
      "cell_type": "code",
      "metadata": {
        "id": "742e4d41"
      },
      "source": [
        "# 7. Implement a generator function that reads a file line by line and yields each line as a string.\n",
        "with open(\"sample.txt\", \"w\") as f:\n",
        "  f.write(\"This is line 1\\n\")\n",
        "  f.write(\"This is line 2\\n\")\n",
        "  f.write(\"This is line 3\\n\")"
      ],
      "execution_count": 19,
      "outputs": []
    },
    {
      "cell_type": "code",
      "metadata": {
        "colab": {
          "base_uri": "https://localhost:8080/"
        },
        "id": "9e297d10",
        "outputId": "44c9e19d-eceb-4bd5-960d-785a6a9e0c25"
      },
      "source": [
        "def read_file_lines(filepath):\n",
        "  \"\"\"\n",
        "  Generator function that reads a file line by line and yields each line.\n",
        "\n",
        "  Args:\n",
        "    filepath: The path to the file to read.\n",
        "\n",
        "  Yields:\n",
        "    Each line of the file as a string.\n",
        "  \"\"\"\n",
        "  try:\n",
        "    with open(filepath, 'r') as f:\n",
        "      for line in f:\n",
        "        yield line.strip() # .strip() to remove trailing newline characters\n",
        "  except FileNotFoundError:\n",
        "    print(f\"Error: File not found at {filepath}\")\n",
        "\n",
        "\n",
        "# Example usage:\n",
        "file_path = \"sample.txt\"\n",
        "line_generator = read_file_lines(file_path)\n",
        "\n",
        "print(f\"Reading lines from {file_path}:\")\n",
        "for line in line_generator:\n",
        "  print(line)"
      ],
      "execution_count": 20,
      "outputs": [
        {
          "output_type": "stream",
          "name": "stdout",
          "text": [
            "Reading lines from sample.txt:\n",
            "This is line 1\n",
            "This is line 2\n",
            "This is line 3\n"
          ]
        }
      ]
    },
    {
      "cell_type": "code",
      "metadata": {
        "colab": {
          "base_uri": "https://localhost:8080/"
        },
        "id": "b3a8b6ab",
        "outputId": "3e2436e6-ef1f-495b-80fe-71e9ad3a9b0e"
      },
      "source": [
        "# 8. Use a lambda function in Python to sort a list of tuples based on the second element of each tuple.\n",
        "# List of tuples\n",
        "my_list_of_tuples = [(1, 'banana'), (3, 'apple'), (2, 'cherry'), (4, 'date')]\n",
        "\n",
        "# Sort the list of tuples based on the second element using a lambda function\n",
        "my_list_of_tuples.sort(key=lambda x: x[1])\n",
        "\n",
        "print(\"Sorted list of tuples:\")\n",
        "print(my_list_of_tuples)"
      ],
      "execution_count": 21,
      "outputs": [
        {
          "output_type": "stream",
          "name": "stdout",
          "text": [
            "Sorted list of tuples:\n",
            "[(3, 'apple'), (1, 'banana'), (2, 'cherry'), (4, 'date')]\n"
          ]
        }
      ]
    },
    {
      "cell_type": "code",
      "source": [],
      "metadata": {
        "id": "WwFf7TGGv0cq"
      },
      "execution_count": null,
      "outputs": []
    },
    {
      "cell_type": "code",
      "metadata": {
        "colab": {
          "base_uri": "https://localhost:8080/"
        },
        "id": "7a6333ed",
        "outputId": "0f7682da-7a30-400e-bda2-ff02a906e9cb"
      },
      "source": [
        "#9. Write a Python program that uses `map()` to convert a list of temperatures from Celsius to Fahrenheit.\n",
        "# Function to convert Celsius to Fahrenheit\n",
        "def celsius_to_fahrenheit(celsius):\n",
        "  return (celsius * 9/5) + 32\n",
        "\n",
        "# List of temperatures in Celsius\n",
        "celsius_temperatures = [0, 10, 20, 30, 40, 50]\n",
        "\n",
        "# Use map() to convert Celsius temperatures to Fahrenheit\n",
        "fahrenheit_temperatures_iterator = map(celsius_to_fahrenheit, celsius_temperatures)\n",
        "\n",
        "# Convert the map iterator to a list to see the results\n",
        "fahrenheit_temperatures_list = list(fahrenheit_temperatures_iterator)\n",
        "\n",
        "print(f\"Celsius temperatures: {celsius_temperatures}\")\n",
        "print(f\"Fahrenheit temperatures (using map()): {fahrenheit_temperatures_list}\")"
      ],
      "execution_count": 22,
      "outputs": [
        {
          "output_type": "stream",
          "name": "stdout",
          "text": [
            "Celsius temperatures: [0, 10, 20, 30, 40, 50]\n",
            "Fahrenheit temperatures (using map()): [32.0, 50.0, 68.0, 86.0, 104.0, 122.0]\n"
          ]
        }
      ]
    },
    {
      "cell_type": "code",
      "source": [],
      "metadata": {
        "id": "NIWDweAxwAuG"
      },
      "execution_count": null,
      "outputs": []
    },
    {
      "cell_type": "code",
      "metadata": {
        "colab": {
          "base_uri": "https://localhost:8080/"
        },
        "id": "c03c34d3",
        "outputId": "ad721ec7-92c6-47c9-ea1a-49cb9f5c1fc7"
      },
      "source": [
        "#10. Create a Python program that uses `filter()` to remove all the vowels from a given string.\n",
        "def is_not_vowel(character):\n",
        "  \"\"\"\n",
        "  Checks if a character is not a vowel.\n",
        "  \"\"\"\n",
        "  vowels = \"aeiouAEIOU\"\n",
        "  return character not in vowels\n",
        "\n",
        "# Given string\n",
        "input_string = \"Hello World\"\n",
        "\n",
        "# Use filter() to remove vowels\n",
        "filtered_characters = filter(is_not_vowel, input_string)\n",
        "\n",
        "# Join the filtered characters back into a string\n",
        "result_string = \"\".join(filtered_characters)\n",
        "\n",
        "print(f\"Original string: {input_string}\")\n",
        "print(f\"String after removing vowels (using filter()): {result_string}\")"
      ],
      "execution_count": 23,
      "outputs": [
        {
          "output_type": "stream",
          "name": "stdout",
          "text": [
            "Original string: Hello World\n",
            "String after removing vowels (using filter()): Hll Wrld\n"
          ]
        }
      ]
    },
    {
      "cell_type": "code",
      "source": [
        "#11\n",
        "orders = [\n",
        "    [34587, \"Learning Python, Mark Lutz\", 4, 40.95],\n",
        "    [98762, \"Programming Python, Mark Lutz\", 5, 56.80],\n",
        "    [77226, \"Head First Python, Paul Barry\", 3, 32.95],\n",
        "    [88112, \"Einführung in Python3, Bernd Klein\", 3, 24.99]\n",
        "]\n",
        "\n",
        "# --- Part 1: Using a traditional loop for clarity ---\n",
        "\n",
        "def process_orders_traditional(order_list):\n",
        "    \"\"\"\n",
        "    Processes a list of book orders to calculate the total price per order.\n",
        "    Increases the total by 10 if the order value is less than 100.\n",
        "\n",
        "    Args:\n",
        "        order_list (list): A list of sublists, where each sublist represents an order.\n",
        "                           Format: [Order Number, Book Title and Author, Quantity, Price per Item]\n",
        "\n",
        "    Returns:\n",
        "        list: A list of 2-tuples (order_number, calculated_price).\n",
        "    \"\"\"\n",
        "    result = []\n",
        "    for order in order_list:\n",
        "        order_number = order[0]\n",
        "        quantity = order[2]\n",
        "        price_per_item = order[3]\n",
        "\n",
        "        # Calculate the product of price per item and quantity\n",
        "        calculated_price = quantity * price_per_item\n",
        "\n",
        "        # Apply the 10 Euro increase if the value is smaller than 100.00 €\n",
        "        if calculated_price < 100.00:\n",
        "            calculated_price += 10\n",
        "\n",
        "        result.append((order_number, calculated_price))\n",
        "    return result\n",
        "\n",
        "print(\"--- Traditional Loop Method ---\")\n",
        "processed_orders_traditional = process_orders_traditional(orders)\n",
        "print(processed_orders_traditional)\n",
        "print(\"-\" * 30)\n",
        "\n",
        "# --- Part 2: Using lambda and map ---\n",
        "\n",
        "# Define a lambda function to process each order\n",
        "# The lambda function takes an 'order' sublist as input.\n",
        "# It calculates the product, applies the 10 Euro increase if needed,\n",
        "# and returns a tuple of (order_number, final_calculated_price).\n",
        "process_order_lambda = lambda order: (\n",
        "    order[0],  # Order Number\n",
        "    (order[2] * order[3]) + (10 if (order[2] * order[3]) < 100 else 0)\n",
        "    # Quantity * Price per Item + 10 (if < 100) else 0\n",
        ")\n",
        "\n",
        "# Use map to apply the lambda function to each order in the 'orders' list\n",
        "# map returns an iterator, so we convert it to a list\n",
        "processed_orders_lambda_map = list(map(process_order_lambda, orders))\n",
        "\n",
        "print(\"--- Lambda and Map Method ---\")\n",
        "print(processed_orders_lambda_map)\n",
        "print(\"-\" * 30)\n",
        "\n",
        "# Verification (should produce the same output)\n",
        "assert processed_orders_traditional == processed_orders_lambda_map, \"Outputs from both methods do not match!\"\n",
        "print(\"Both methods produced the same results.\")\n",
        "\n"
      ],
      "metadata": {
        "colab": {
          "base_uri": "https://localhost:8080/"
        },
        "id": "pV76Mvnx0AzG",
        "outputId": "946e297f-89d6-4a00-edd7-6965a7a21d73"
      },
      "execution_count": 26,
      "outputs": [
        {
          "output_type": "stream",
          "name": "stdout",
          "text": [
            "--- Traditional Loop Method ---\n",
            "[(34587, 163.8), (98762, 284.0), (77226, 108.85000000000001), (88112, 84.97)]\n",
            "------------------------------\n",
            "--- Lambda and Map Method ---\n",
            "[(34587, 163.8), (98762, 284.0), (77226, 108.85000000000001), (88112, 84.97)]\n",
            "------------------------------\n",
            "Both methods produced the same results.\n"
          ]
        }
      ]
    },
    {
      "cell_type": "code",
      "source": [],
      "metadata": {
        "id": "xmTMs7Ai1tP2"
      },
      "execution_count": null,
      "outputs": []
    }
  ]
}