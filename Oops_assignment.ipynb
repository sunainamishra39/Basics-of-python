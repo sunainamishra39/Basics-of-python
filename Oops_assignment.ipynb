{
  "nbformat": 4,
  "nbformat_minor": 0,
  "metadata": {
    "colab": {
      "provenance": [],
      "authorship_tag": "ABX9TyNmOa1ZxxD3iMEslRWUqvT+",
      "include_colab_link": true
    },
    "kernelspec": {
      "name": "python3",
      "display_name": "Python 3"
    },
    "language_info": {
      "name": "python"
    }
  },
  "cells": [
    {
      "cell_type": "markdown",
      "metadata": {
        "id": "view-in-github",
        "colab_type": "text"
      },
      "source": [
        "<a href=\"https://colab.research.google.com/github/sunainamishra39/Basics-of-python/blob/main/Oops_assignment.ipynb\" target=\"_parent\"><img src=\"https://colab.research.google.com/assets/colab-badge.svg\" alt=\"Open In Colab\"/></a>"
      ]
    },
    {
      "cell_type": "markdown",
      "source": [
        "#Theory Questions"
      ],
      "metadata": {
        "id": "cQqveHuDoukM"
      }
    },
    {
      "cell_type": "markdown",
      "source": [
        "1. What is Object-Oriented Programming (OOP)?\n",
        "* Object-Oriented Programming (OOP) is a programming paradigm based on the concept of \"objects\", which can contain data and code: data in the form of fields (often known as attributes or properties), and code, in the form of procedures (often known as methods). OOP is a way to structure a program by bundling related properties and behaviors into individual objects.\n",
        "\n",
        "* Here are some key concepts in OOP:\n",
        "\n",
        "* Classes: Blueprints for creating objects. They define the attributes and methods that objects of that class will have.\n",
        "* Objects: Instances of a class. They are the actual entities that are created based on the class blueprint.\n",
        "* Encapsulation: The bundling of data and methods that operate on the data within a single unit (an object). This hides the internal state of an object and requires all interaction to be through the object's methods.\n",
        "* Abstraction: The concept of hiding complex implementation details and showing only the essential features of an object.\n",
        "* Inheritance: A mechanism that allows a new class to inherit properties and behaviors from an existing class (parent class). This promotes code reusability.\n",
        "* Polymorphism: The ability of objects of different classes to respond to the same method call in their own way. This allows for flexibility and extensibility in code.\n",
        "* OOP helps in organizing code, making it more modular, reusable, and easier to maintain."
      ],
      "metadata": {
        "id": "xbJ2s5vqoy7o"
      }
    },
    {
      "cell_type": "markdown",
      "source": [
        "2. What is a class in OOP?\n",
        "* In Object-Oriented Programming (OOP), a class is a blueprint or a template for creating objects. It defines the attributes (data or properties) and methods (functions or behaviors) that objects created from this class will have. Think of it like a blueprint for a house: the blueprint describes what the house will look like, how many rooms it will have, where the doors and windows will be, etc., but it's not the actual house itself. The actual houses built based on this blueprint are the objects."
      ],
      "metadata": {
        "id": "u9Gko9HupRO3"
      }
    },
    {
      "cell_type": "markdown",
      "source": [
        "3. What is an object in OOP?\n",
        "* In Object-Oriented Programming (OOP), an object is an instance of a class. While a class is the blueprint, an object is the actual entity created based on that blueprint. It possesses the attributes and methods defined by its class and has its own specific state (the values of its attributes). Using the house analogy again, if the class is the blueprint, then the individual houses built from that blueprint are the objects. Each house (object) will have the characteristics defined in the blueprint (class), but each house might have different paint colors or interior decorations, representing the object's state."
      ],
      "metadata": {
        "id": "1auzsS2rppQi"
      }
    },
    {
      "cell_type": "markdown",
      "source": [
        "4.  What is the difference between abstraction and encapsulation?\n",
        "* In Object-Oriented Programming (OOP), both abstraction and encapsulation are important concepts, but they serve different purposes:\n",
        "\n",
        "* Abstraction is about hiding complexity and showing only the essential features. It focuses on \"what\" an object does rather than \"how\" it does it. Think of driving a car: you interact with the steering wheel, pedals, and gear shift (the essential features), without needing to know the intricate details of how the engine works.\n",
        "* Encapsulation is about bundling data (attributes) and the methods (functions) that operate on that data within a single unit, which is the object. It's also about controlling access to that data, preventing direct modification from outside the object and ensuring that data is accessed and modified only through the object's defined methods. This protects the data's integrity and allows for easier maintenance and modification of the code.\n",
        "* In essence, abstraction is about simplifying the view of an object, while encapsulation is about protecting the object's internal state and controlling access to it. They often work together: encapsulation provides the mechanism to achieve abstraction by hiding the implementation details."
      ],
      "metadata": {
        "id": "PfwgeboGp1vk"
      }
    },
    {
      "cell_type": "markdown",
      "source": [
        "5. What are dunder methods in Python?\n",
        "* In Python, \"dunder methods\" are special methods that have double underscores before and after their names (e.g., __init__, __str__, __add__). The \"dunder\" comes from \"double underscore.\"\n",
        "\n",
        "* These methods are not meant to be called directly by the programmer. Instead, they are invoked by Python in specific situations or by built-in functions and operators. They allow Python's built-in operations to work with user-defined objects, enabling features like:\n",
        "\n",
        "* Object initialization: The __init__ method is called when an object is created.\n",
        "* String representation: The __str__ and __repr__ methods define how an object is represented as a string.\n",
        "* Operator overloading: Methods like __add__, __sub__, __mul__, etc., allow you to define how your objects behave with arithmetic and other operators.\n",
        "* Iteration: Methods like __iter__ and __next__ allow you to make your objects iterable.\n",
        "* In essence, dunder methods provide a way to customize the behavior of your objects and make them work seamlessly with Python's core language features."
      ],
      "metadata": {
        "id": "V-O5A94_qIec"
      }
    },
    {
      "cell_type": "markdown",
      "source": [
        "6. Explain the concept of inheritance in OOP.\n",
        "* In Object-Oriented Programming (OOP), inheritance is a fundamental concept that allows a new class (called the child class or derived class) to inherit properties (attributes) and behaviors (methods) from an existing class (called the parent class, base class, or superclass).\n",
        "\n",
        "* Think of it like real-world inheritance. A child inherits certain traits from their parents. Similarly, in OOP, a child class inherits the characteristics of its parent class. This means the child class automatically has access to the attributes and methods defined in the parent class without needing to rewrite them.\n",
        "\n",
        "* Here are the key benefits of inheritance:\n",
        "\n",
        "* Code Reusability: You can define common attributes and methods in a parent class and reuse them in multiple child classes. This avoids code duplication and makes your code more efficient and easier to maintain.\n",
        "* Extensibility: You can create new classes based on existing ones, adding new features or modifying existing ones without affecting the original class.\n",
        "Establishing Relationships: Inheritance helps establish a clear \"is-a\" relationship between classes. For example, a Dog \"is a\" Animal, or a Car \"is a\" Vehicle."
      ],
      "metadata": {
        "id": "-9aFrBu5qy23"
      }
    },
    {
      "cell_type": "markdown",
      "source": [
        "7. What is polymorphism in OOP?\n",
        "* In Object-Oriented Programming (OOP), polymorphism means \"many forms.\" It refers to the ability of different objects to respond to the same method call in their own specific ways. This allows you to treat objects of different classes in a uniform manner, as long as they share a common interface (i.e., they have the same method names).\n",
        "\n",
        "* Here's a simple way to think about it: Imagine you have a button. When you press the button, different things might happen depending on the context. If it's a light switch button, the light turns on or off. If it's a doorbell button, the doorbell rings. The action (pressing the button) is the same, but the result (what happens) is different because the objects (light switch, doorbell) have different implementations of that action.\n",
        "\n",
        "* In programming, polymorphism allows you to write code that can work with objects of various classes without needing to know the exact type of each object. This makes your code more flexible, extensible, and easier to maintain."
      ],
      "metadata": {
        "id": "CGluFysQrBl5"
      }
    },
    {
      "cell_type": "markdown",
      "source": [
        "8. How is encapsulation achieved in Python?\n",
        "* In Python, encapsulation is achieved primarily through conventions rather than strict access modifiers like public, private, or protected found in some other object-oriented languages (like Java or C++). Python has a concept of \"name mangling\" which provides a limited form of protection for attributes.\n",
        "\n",
        "* Here's how encapsulation is typically achieved in Python:\n",
        "\n",
        "* Bundling data and methods: You define attributes (data) and methods (functions that operate on the data) within a class. This bundles related data and behavior together into a single unit, which is the object.\n",
        "* **Using conventions for \"protected\" members:** By convention, attributes and methods that are intended for internal use within the class or its subclasses are prefixed with a single underscore (_). This is a signal to other developers that these members should not be accessed or modified directly from outside the class. However, this is just a convention, and you can still access them if you choose to.\n",
        "* **Using name mangling for \"private\" members:** For attributes and methods that are intended to be more strongly \"private\" and not easily accessible from outside the class, you can prefix them with a double underscore (__). This triggers Python's name mangling mechanism. The attribute name is internally changed to _ClassName__attribute_name. This makes it harder to access them directly from outside the class, but it's not impossible.\n",
        "* **Providing public methods for controlled access:** To interact with the object's data, you provide public methods (without underscores) that control how the data is accessed and modified. This allows you to add validation or other logic before modifying the data, ensuring data integrity.\n",
        "* In summary, while Python doesn't have strict access modifiers, encapsulation is achieved through a combination of:\n",
        "\n",
        "* Bundling data and methods within classes.\n",
        "Using naming conventions (single underscore) to indicate intended internal use.\n",
        "Using name mangling (double underscore) for a stronger form of \"privacy.\"\n",
        "Providing public methods to control access and modification of data.\n",
        "This approach emphasizes the idea that encapsulation is more about design and how you structure your code and communicate your intentions to other developers, rather than relying solely on language-enforced restrictions."
      ],
      "metadata": {
        "id": "rgr869rjrUT6"
      }
    },
    {
      "cell_type": "markdown",
      "source": [
        "9. What is a constructor in Python?\n",
        "* In Python, a constructor is a special method that is automatically called when you create a new object (an instance) of a class. The most common constructor method in Python is __init__ (a dunder method).\n",
        "\n",
        "* Its primary purpose is to initialize the object's attributes (the data or state of the object) when it is created. You can pass arguments to the constructor to set the initial values of these attributes."
      ],
      "metadata": {
        "id": "Rq3RJSAFsQw7"
      }
    },
    {
      "cell_type": "code",
      "execution_count": null,
      "metadata": {
        "colab": {
          "base_uri": "https://localhost:8080/"
        },
        "id": "LKh3fa-YopHX",
        "outputId": "140bd030-02bc-4c16-926c-5e50ed148c9f"
      },
      "outputs": [
        {
          "output_type": "stream",
          "name": "stdout",
          "text": [
            "A new dog named Buddy has been created!\n",
            "A new dog named Lucy has been created!\n",
            "My dog is a Golden Retriever named Buddy.\n",
            "Buddy says Woof!\n"
          ]
        }
      ],
      "source": [
        "class Dog:\n",
        "    # This is the constructor\n",
        "    def __init__(self, name, breed):\n",
        "        self.name = name  # Initialize the 'name' attribute\n",
        "        self.breed = breed # Initialize the 'breed' attribute\n",
        "        print(f\"A new dog named {self.name} has been created!\")\n",
        "\n",
        "    def bark(self):\n",
        "        print(f\"{self.name} says Woof!\")\n",
        "\n",
        "# Creating objects calls the constructor automatically\n",
        "my_dog = Dog(\"Buddy\", \"Golden Retriever\")\n",
        "your_dog = Dog(\"Lucy\", \"Labrador\")\n",
        "\n",
        "print(f\"My dog is a {my_dog.breed} named {my_dog.name}.\")\n",
        "my_dog.bark()"
      ]
    },
    {
      "cell_type": "markdown",
      "source": [
        "* In this example, the __init__ method is the constructor. When we create my_dog and your_dog, the __init__ method is called for each object, and the name and breed attributes are initialized with the values we provide.\n",
        "\n",
        "* While __init__ is the most common constructor, there's also the __new__ method, which is called before __init__ and is responsible for creating the instance itself. __new__ is less frequently used directly in typical class definitions unless you need to customize the object creation process itself (e.g., for implementing singletons or immutable objects).\n",
        "\n",
        "* So, in most practical scenarios when you talk about a constructor in Python, you're referring to the __init__ method."
      ],
      "metadata": {
        "id": "5iN2NkgFspMw"
      }
    },
    {
      "cell_type": "markdown",
      "source": [
        "10. What are class and static methods in Python?\n",
        "* In Python, class methods and static methods are two types of methods that are different from regular instance methods. They serve different purposes and are defined within a class but behave differently when called.\n",
        "\n",
        "Here's a breakdown of each:\n",
        "\n",
        "* **1. Instance Methods:**\n",
        "\n",
        "These are the most common type of methods in Python classes.\n",
        "They operate on an instance of the class.\n",
        "They take self as the first argument, which refers to the instance of the object.\n",
        "They can access and modify instance attributes.\n",
        "* **2. Class Methods:**\n",
        "\n",
        "These methods are bound to the class and not the instance.\n",
        "They take cls as the first argument, which refers to the class itself.\n",
        "They are defined using the @classmethod decorator.\n",
        "They are often used as alternative constructors or to perform actions that involve the class itself (e.g., accessing class variables).\n",
        "* **When to use Class Methods:**\n",
        "\n",
        "Alternative Constructors: When you need to create instances of your class in different ways than the standard __init__.\n",
        "Accessing Class Variables: When you need to access or modify class-level attributes.\n",
        "Factory Methods: To create and return objects of different classes.\n",
        "**3. Static Methods:**\n",
        "\n",
        "These methods are not bound to either the class or the instance.\n",
        "They do not take self or cls as the first argument.\n",
        "They are defined using the @staticmethod decorator.\n",
        "They are essentially regular functions that are placed within a class because they have some logical connection to the class, but they don't need access to the class's or instance's state.\n",
        "* **When to use Static Methods:**\n",
        "\n",
        "Utility Functions: When you have a function that is related to the class but doesn't depend on any specific instance or the class itself.\n",
        "Code Organization: To logically group functions within a class even if they don't operate on class or instance data."
      ],
      "metadata": {
        "id": "K8ssXhzFsyi-"
      }
    },
    {
      "cell_type": "markdown",
      "source": [
        "11. What is method overloading in Python?\n",
        "* Method overloading is a concept in some programming languages where you can define multiple methods within the same class that have the same name but different parameters (number of parameters or types of parameters). The language then determines which method to call based on the arguments provided during the method call.\n",
        "\n",
        "* However, Python does not support method overloading in the same way that languages like Java or C++ do. If you define multiple methods with the same name in a Python class, the later definition will simply overwrite the earlier ones. Only the last defined method with that name will be available.\n",
        "* Here's an example to illustrate this:"
      ],
      "metadata": {
        "id": "d49BePkEuWkm"
      }
    },
    {
      "cell_type": "code",
      "source": [
        "class MyClass:\n",
        "    def my_method(self, arg1):\n",
        "        print(f\"Called my_method with one argument: {arg1}\")\n",
        "\n",
        "    def my_method(self, arg1, arg2):\n",
        "        print(f\"Called my_method with two arguments: {arg1}, {arg2}\")\n",
        "\n",
        "# Creating an instance\n",
        "obj = MyClass()\n",
        "\n",
        "# Calling my_method\n",
        "# obj.my_method(10) # This would raise a TypeError because the first definition is overwritten\n",
        "obj.my_method(10, 20) # This works, calling the second definition"
      ],
      "metadata": {
        "colab": {
          "base_uri": "https://localhost:8080/"
        },
        "id": "f5cFjfRuvK8X",
        "outputId": "6ed81142-9522-4990-bb9a-77cbddc01a86"
      },
      "execution_count": null,
      "outputs": [
        {
          "output_type": "stream",
          "name": "stdout",
          "text": [
            "Called my_method with two arguments: 10, 20\n"
          ]
        }
      ]
    },
    {
      "cell_type": "markdown",
      "source": [
        "* In this example, defining my_method a second time with two parameters overwrites the first definition with one parameter. Attempting to call my_method with only one argument will result in a TypeError.\n",
        "\n",
        "* How to achieve similar behavior in Python:\n",
        "\n",
        "* While Python doesn't have built-in method overloading, you can achieve similar flexibility using other techniques:\n",
        "\n",
        "* **Using default parameter values:** You can define a single method with default values for some parameters. This allows the method to be called with a varying number of arguments."
      ],
      "metadata": {
        "id": "yMvtGPzyvRgG"
      }
    },
    {
      "cell_type": "code",
      "source": [
        "class MyClass:\n",
        "    def my_method(self, arg1, arg2=None):\n",
        "        if arg2 is None:\n",
        "            print(f\"Called my_method with one argument: {arg1}\")\n",
        "        else:\n",
        "            print(f\"Called my_method with two arguments: {arg1}, {arg2}\")\n",
        "\n",
        "obj = MyClass()\n",
        "obj.my_method(10)\n",
        "obj.my_method(10, 20)\n"
      ],
      "metadata": {
        "colab": {
          "base_uri": "https://localhost:8080/"
        },
        "id": "OacJv9WislZr",
        "outputId": "1ef7f6c8-a1f1-4bb4-abb1-cca4336feb81"
      },
      "execution_count": null,
      "outputs": [
        {
          "output_type": "stream",
          "name": "stdout",
          "text": [
            "Called my_method with one argument: 10\n",
            "Called my_method with two arguments: 10, 20\n"
          ]
        }
      ]
    },
    {
      "cell_type": "markdown",
      "source": [
        "* **Using variable-length argument lists (*args and `kwargs):** You can useargsto accept a variable number of positional arguments and*kwargs` to accept a variable number of keyword arguments. You can then check the number and types of arguments inside the method."
      ],
      "metadata": {
        "id": "10sEa6bpvnf-"
      }
    },
    {
      "cell_type": "code",
      "source": [
        "class MyClass:\n",
        "    def my_method(self, *args):\n",
        "        if len(args) == 1:\n",
        "            print(f\"Called my_method with one argument: {args[0]}\")\n",
        "        elif len(args) == 2:\n",
        "            print(f\"Called my_method with two arguments: {args[0]}, {args[1]}\")\n",
        "        else:\n",
        "            print(\"Unsupported number of arguments.\")\n",
        "\n",
        "obj = MyClass()\n",
        "obj.my_method(10)\n",
        "obj.my_method(10, 20)\n",
        "obj.my_method(1, 2, 3)"
      ],
      "metadata": {
        "colab": {
          "base_uri": "https://localhost:8080/"
        },
        "id": "RAc44qayvj4L",
        "outputId": "eb62091d-1892-485b-ab82-85bb45e13547"
      },
      "execution_count": null,
      "outputs": [
        {
          "output_type": "stream",
          "name": "stdout",
          "text": [
            "Called my_method with one argument: 10\n",
            "Called my_method with two arguments: 10, 20\n",
            "Unsupported number of arguments.\n"
          ]
        }
      ]
    },
    {
      "cell_type": "markdown",
      "source": [
        "* **Using the functools.singledispatch decorator (for function overloading based on type):** This decorator allows you to create a generic function that can have different implementations based on the type of the first argument. While not strictly method overloading, it provides a form of polymorphism based on type."
      ],
      "metadata": {
        "id": "EVE65c-Ev53R"
      }
    },
    {
      "cell_type": "markdown",
      "source": [
        "12. What is method overriding in OOP?\n",
        "* Method overriding in Object-Oriented Programming (OOP) is a feature that allows a subclass (child class) to provide a specific implementation of a method that is already provided by one of its superclasses (parent classes).\n",
        "\n",
        "* When a method is overridden in the subclass, the version of the method in the subclass is executed instead of the version in the superclass when the method is called on an object of the subclass.\n",
        "\n",
        "* Here's a simple analogy: Imagine a general rule for all animals is to make a sound (speak() method in the Animal class). However, different animals make different sounds. A Dog subclass might override the speak() method to bark, while a Cat subclass might override it to meow.\n",
        "\n",
        "* Key points about method overriding:\n",
        "\n",
        "* **Same Method Signature:** The method in the subclass must have the same name, number, and type of parameters as the method in the superclass.\n",
        "Inheritance Required: Method overriding can only occur in the context of inheritance, where a subclass inherits from a superclass.\n",
        "Polymorphism in Action: Method overriding is a key way to achieve polymorphism. It allows you to call the same method name on objects of different classes, and each object will execute its own specific implementation."
      ],
      "metadata": {
        "id": "CYvUVxSQv-1l"
      }
    },
    {
      "cell_type": "markdown",
      "source": [
        "13. What is a property decorator in Python?\n",
        "* In Python, the @property decorator is a built-in decorator that provides a convenient way to define properties in a class. A property is a way to access instance attributes like they are public attributes, but with custom behavior when you get, set, or delete them.\n",
        "\n",
        "* Essentially, the @property decorator turns a method into a \"getter\" for an attribute. You can then define corresponding methods with the same name decorated with @<property_name>.setter and @<property_name>.deleter to control how the attribute is set and deleted, respectively.\n",
        "\n",
        "* Here's why you might use the @property decorator:\n",
        "\n",
        "* **Encapsulation and Data Validation:** It allows you to add logic (like validation) when an attribute is set, ensuring the data stored in your object is always in a valid state.\n",
        "* **Computed Attributes:** You can define an attribute whose value is computed dynamically based on other attributes, without needing to call a method explicitly.\n",
        "* **Changing Implementation Without Affecting Users:** If you initially had a simple public attribute but later need to add some logic when it's accessed or modified, you can convert it into a property without changing the way users of your class access that attribute."
      ],
      "metadata": {
        "id": "pWeXUxoVwWzf"
      }
    },
    {
      "cell_type": "markdown",
      "source": [
        "14.  Why is polymorphism important in OOP?\n",
        "* **Polymorphism is important in Object-Oriented Programming because it brings several significant benefits:**\n",
        "\n",
        "* **Flexibility and Extensibility:** Polymorphism allows you to write code that can work with objects of different classes that share a common interface. This means you can write functions or methods that can handle various types of objects without needing to know their specific class in advance. This makes your code more flexible and easier to extend, as you can add new classes that implement the same interface without modifying the existing code.\n",
        "\n",
        "* **Example:** Imagine a drawing program. You could have a list of Shape objects (circles, squares, triangles). If each shape class has a draw() method, you can iterate through the list and call draw() on each object, and the correct draw() method for that specific shape will be executed. If you add a new Pentagon class with a draw() method, your existing drawing loop will work with it automatically.\n",
        "* **Code Reusability:** Because you can treat objects of different classes uniformly through a common interface, you can reuse the same code logic for multiple types. This reduces code duplication and makes your programs more concise and maintainable.\n",
        "\n",
        "* **Example:** A function that calculates the area of different shapes can be written to accept a Shape object and call its get_area() method. As long as a new shape class implements get_area(), the same function can be used.\n",
        "Simplified Code: Polymorphism can simplify your code by allowing you to avoid complex conditional statements (if-elif-else) to handle different object types. Instead, you can rely on the objects themselves to provide the specific implementation of a method."
      ],
      "metadata": {
        "id": "XCMXqlk1w_T4"
      }
    },
    {
      "cell_type": "markdown",
      "source": [
        "15. What is an abstract class in Python?\n",
        "* In Python, an abstract class is a class that cannot be instantiated directly. It's designed to be a blueprint for other classes, providing a common interface and potentially some default implementations, but leaving some methods (abstract methods) to be implemented by its subclasses.\n",
        "\n",
        "* Abstract classes are part of achieving abstraction in OOP, where you define a common interface for a group of related classes, hiding the complex implementation details.\n",
        "\n",
        "* Python's abc module (Abstract Base Classes) provides the infrastructure for defining abstract base classes. You use the ABC class as a metaclass and the @abstractmethod decorator to mark methods as abstract.\n",
        "\n",
        "* Here are the key characteristics of abstract classes:\n",
        "\n",
        "* **Cannot be Instantiated:** You cannot create an object directly from an abstract class. Attempting to do so will result in a TypeError.\n",
        "* **Require Subclass Implementation:** Any concrete (non-abstract) subclass of an abstract class must provide implementations for all the abstract methods defined in the abstract class. If a subclass fails to implement all abstract methods, it will also be considered abstract and cannot be instantiated.\n",
        "* **Define a Common Interface:** Abstract classes define a set of methods that all their concrete subclasses must have. This ensures that objects of different subclasses can be treated uniformly, adhering to the principle of polymorphism.\n",
        "* **Can Have Concrete Methods:** Abstract classes can also have regular, non-abstract methods with implementations. These methods can be used by subclasses."
      ],
      "metadata": {
        "id": "7_5HF5-qxmJU"
      }
    },
    {
      "cell_type": "markdown",
      "source": [
        "16.  What are the advantages of OOP?\n",
        "* Object-Oriented Programming (OOP) offers several advantages that make it a popular paradigm for software development, especially for larger and more complex projects. *Here are some of the key benefits:*\n",
        "\n",
        "* **Modularity:** OOP encourages breaking down a program into smaller, self-contained units called objects. Each object encapsulates its own data and behavior. This modularity makes the code easier to understand, develop, and debug. You can work on individual objects or modules without affecting others.\n",
        "* **Reusability:** Through concepts like inheritance, you can create new classes that inherit properties and behaviors from existing ones. This allows you to reuse code and avoid writing the same logic multiple times. This saves development time and reduces the chances of errors.\n",
        "* **Maintainability:** OOP code is generally easier to maintain. Because objects are self-contained, you can modify the internal implementation of an object without affecting the rest of the program, as long as the object's interface (its public methods) remains consistent. This makes it easier to fix bugs and add new features.\n",
        "* **Flexibility and Extensibility:** Polymorphism allows you to write code that can work with objects of different classes that share a common interface. This makes your code more flexible and easier to extend. You can add new classes and functionality without significant modifications to existing code.\n",
        "* **Abstraction:** OOP allows you to hide complex implementation details and expose only the essential features of an object. This simplifies the view of the system and makes it easier for developers to work with objects without getting bogged down in the nitty-gritty details.\n",
        "* **Improved Collaboration:** The modular nature of OOP makes it easier for multiple developers to work on the same project simultaneously. Developers can work on different objects or modules independently and then integrate them.\n",
        "* **Better Organization:** OOP provides a structured way to organize code using classes and objects, which can map well to real-world concepts. This can make the codebase more intuitive and easier to navigate.\n",
        "* **Easier Troubleshooting:** Due to encapsulation and modularity, it's often easier to pinpoint the source of an issue in an OOP program. You can isolate the problem within a specific object or module.\n",
        "While OOP has many advantages, it's not a silver bullet and may not be the best fit for all types of projects. However, for large, complex, and long-lived software systems, the benefits of OOP in terms of organization, reusability, and maintainability are often significant."
      ],
      "metadata": {
        "id": "MJTqIeCmyQ38"
      }
    },
    {
      "cell_type": "markdown",
      "metadata": {
        "id": "f2f3b24c"
      },
      "source": [
        "17. What is the difference between a class variable and an instance variable?\n",
        "\n",
        "In Python, both class variables and instance variables are used to store data within classes and objects, but they differ in how they are defined, accessed, and the scope of their values.\n",
        "\n",
        "*   **Instance Variables:**\n",
        "    *   **Definition:** Defined within the `__init__` method (or other instance methods) and belong to a specific instance (object) of the class.\n",
        "    *   **Scope:** Each instance of the class has its own copy of the instance variables. Changes made to an instance variable in one object do not affect the value of the same instance variable in other objects.\n",
        "    *   **Access:** Accessed using the `self` keyword within instance methods and using the object name outside the class (e.g., `obj.instance_variable`).\n",
        "    *   **Purpose:** Used to store data that is unique to each instance of the class.\n",
        "\n",
        "*   **Class Variables:**\n",
        "    *   **Definition:** Defined directly within the class but outside of any instance methods.\n",
        "    *   **Scope:** Belong to the class itself and are shared among all instances of that class. There is only one copy of a class variable for the entire class. Changes made to a class variable are reflected in all instances of the class.\n",
        "    *   **Access:** Accessed using the class name (e.g., `ClassName.class_variable`) or the object name (e.g., `obj.class_variable`), although accessing and modifying them via the class name is generally the preferred and clearer way.\n",
        "    *   **Purpose:** Used to store data that is common to all instances of the class, such as constants or default values, or to keep track of data related to the class as a whole (e.g., a count of instances).\n",
        "\n",
        "Here's a code example to illustrate the difference:"
      ]
    },
    {
      "cell_type": "code",
      "metadata": {
        "colab": {
          "base_uri": "https://localhost:8080/"
        },
        "id": "ae33ef78",
        "outputId": "88a70b98-613f-47a8-c61f-843217f6da16"
      },
      "source": [
        "class MyClass:\n",
        "    # Class variable\n",
        "    class_variable = \"I am a class variable\"\n",
        "\n",
        "    def __init__(self, instance_value):\n",
        "        # Instance variable\n",
        "        self.instance_variable = instance_value\n",
        "\n",
        "# Create two instances of the class\n",
        "obj1 = MyClass(\"Instance 1 Value\")\n",
        "obj2 = MyClass(\"Instance 2 Value\")\n",
        "\n",
        "# Accessing instance variables\n",
        "print(f\"obj1 instance variable: {obj1.instance_variable}\")\n",
        "print(f\"obj2 instance variable: {obj2.instance_variable}\")\n",
        "\n",
        "# Accessing class variable using object names\n",
        "print(f\"obj1 class variable: {obj1.class_variable}\")\n",
        "print(f\"obj2 class variable: {obj2.class_variable}\")\n",
        "\n",
        "# Accessing class variable using class name\n",
        "print(f\"Class variable using class name: {MyClass.class_variable}\")\n",
        "\n",
        "# Modifying an instance variable\n",
        "obj1.instance_variable = \"Modified Instance 1 Value\"\n",
        "print(f\"obj1 instance variable after modification: {obj1.instance_variable}\")\n",
        "print(f\"obj2 instance variable after modification: {obj2.instance_variable}\") # obj2's instance variable is unchanged\n",
        "\n",
        "# Modifying the class variable using the class name\n",
        "MyClass.class_variable = \"Modified class variable\"\n",
        "print(f\"obj1 class variable after modification: {obj1.class_variable}\") # Both objects see the change\n",
        "print(f\"obj2 class variable after modification: {obj2.class_variable}\")\n",
        "print(f\"Class variable using class name after modification: {MyClass.class_variable}\")\n",
        "\n",
        "# Modifying the class variable using an object name can create a new instance variable\n",
        "obj1.class_variable = \"This is now an instance variable for obj1\"\n",
        "print(f\"obj1 class variable after obj1 modification: {obj1.class_variable}\") # obj1 now has its own instance variable\n",
        "print(f\"obj2 class variable after obj1 modification: {obj2.class_variable}\") # obj2 still sees the class variable\n",
        "print(f\"Class variable using class name after obj1 modification: {MyClass.class_variable}\") # The class variable itself is unchanged"
      ],
      "execution_count": null,
      "outputs": [
        {
          "output_type": "stream",
          "name": "stdout",
          "text": [
            "obj1 instance variable: Instance 1 Value\n",
            "obj2 instance variable: Instance 2 Value\n",
            "obj1 class variable: I am a class variable\n",
            "obj2 class variable: I am a class variable\n",
            "Class variable using class name: I am a class variable\n",
            "obj1 instance variable after modification: Modified Instance 1 Value\n",
            "obj2 instance variable after modification: Instance 2 Value\n",
            "obj1 class variable after modification: Modified class variable\n",
            "obj2 class variable after modification: Modified class variable\n",
            "Class variable using class name after modification: Modified class variable\n",
            "obj1 class variable after obj1 modification: This is now an instance variable for obj1\n",
            "obj2 class variable after obj1 modification: Modified class variable\n",
            "Class variable using class name after obj1 modification: Modified class variable\n"
          ]
        }
      ]
    },
    {
      "cell_type": "markdown",
      "metadata": {
        "id": "bf0b7391"
      },
      "source": [
        "18. What is multiple inheritance in Python?\n",
        "\n",
        "Multiple inheritance is a feature in Object-Oriented Programming (OOP) where a class can inherit properties (attributes) and behaviors (methods) from more than one parent class. This means a single child class can have multiple direct superclasses.\n",
        "\n",
        "In Python, multiple inheritance is supported. When a class inherits from multiple parent classes, it combines the attributes and methods of all its parent classes.\n",
        "\n",
        "Here's a simple example:"
      ]
    },
    {
      "cell_type": "code",
      "metadata": {
        "colab": {
          "base_uri": "https://localhost:8080/"
        },
        "id": "7c5538e0",
        "outputId": "e3816e62-3665-48d7-9748-efc2e7565ce2"
      },
      "source": [
        "class A:\n",
        "    def show(self):\n",
        "        print(\"From A\")\n",
        "\n",
        "class B(A):\n",
        "    def show(self):\n",
        "        print(\"From B\")\n",
        "\n",
        "class C(A):\n",
        "    def show(self):\n",
        "        print(\"From C\")\n",
        "\n",
        "class D(B, C): # Inherits from B and C, both of which inherit from A\n",
        "    pass\n",
        "    # If D also had a show method, its MRO would determine which one is called first.\n",
        "    # Since D does not have show, it will look in B, then C, then A.\n",
        "\n",
        "d = D()\n",
        "d.show() # Output will be \"From B\" due to MRO\n",
        "\n",
        "print(D.__mro__)"
      ],
      "execution_count": null,
      "outputs": [
        {
          "output_type": "stream",
          "name": "stdout",
          "text": [
            "From B\n",
            "(<class '__main__.D'>, <class '__main__.B'>, <class '__main__.C'>, <class '__main__.A'>, <class 'object'>)\n"
          ]
        }
      ]
    },
    {
      "cell_type": "markdown",
      "metadata": {
        "id": "7b237857"
      },
      "source": [
        "19. Explain the purpose of `__str__` and `__repr__` methods in Python.\n",
        "\n",
        "In Python, `__str__` and `__repr__` are special methods (dunder methods) that define how objects are represented as strings. While they both provide string representations, they serve different purposes and are used in different contexts.\n",
        "\n",
        "*   **`__repr__` (Representation):**\n",
        "    *   The goal of `__repr__` is to provide an **unambiguous** string representation of an object.\n",
        "    *   It should ideally return a string that, if passed to `eval()`, would recreate the object (if possible). This is often useful for debugging and development.\n",
        "    *   If it's not possible to return a string that can recreate the object, the representation should be informative and clearly indicate that it cannot recreate the object.\n",
        "    *   It's typically called by the built-in `repr()` function and by the interactive interpreter when you simply type an object's name.\n",
        "\n",
        "*   **`__str__` (String):**\n",
        "    *   The goal of `__str__` is to provide a **readable** and **user-friendly** string representation of an object.\n",
        "    *   It's intended for end-users and should be easy to understand.\n",
        "    *   It's typically called by the built-in `str()` function and by the `print()` function.\n",
        "\n",
        "**Key Differences and Relationship:**\n",
        "\n",
        "*   **Target Audience:** `__repr__` is for developers/debugging; `__str__` is for end-users.\n",
        "*   **Goal:** `__repr__` aims for unambiguity and often a reproducible string; `__str__` aims for readability.\n",
        "*   **Default Behavior:** If a class only defines `__repr__`, and not `__str__`, calling `str()` or `print()` on an object will fall back to calling `__repr__`. However, if a class defines `__str__` but not `__repr__`, calling `repr()` will use the default `repr` provided by Python (which is usually not very informative). **Therefore, it's generally recommended to always define `__repr__` for your classes, and define `__str__` if you need a separate, more user-friendly representation.** If your `__repr__` is already user-friendly, you can often just define `__repr__` and let `__str__` fall back to it.\n",
        "\n",
        "Here's a code example:"
      ]
    },
    {
      "cell_type": "code",
      "metadata": {
        "colab": {
          "base_uri": "https://localhost:8080/"
        },
        "id": "9feea8b0",
        "outputId": "ae3d9900-25ee-4db2-8895-d95cd8ea2a1f"
      },
      "source": [
        "class MyClass:\n",
        "    def __init__(self, x, y):\n",
        "        self.x = x\n",
        "        self.y = y\n",
        "\n",
        "    def __repr__(self):\n",
        "        # Unambiguous representation, ideally reproducible\n",
        "        return f\"MyClass(x={self.x}, y={self.y})\"\n",
        "\n",
        "    def __str__(self):\n",
        "        # User-friendly representation\n",
        "        return f\"MyClass object with x={self.x} and y={self.y}\"\n",
        "\n",
        "# Create an object\n",
        "obj = MyClass(10, 20)\n",
        "\n",
        "# Using repr() and the interactive interpreter (implicitly calls __repr__)\n",
        "print(f\"Using repr(): {repr(obj)}\")\n",
        "# In an interactive session, just typing 'obj' would show: MyClass(x=10, y=20)\n",
        "\n",
        "# Using str() and print() (implicitly calls __str__ if defined, otherwise falls back to __repr__)\n",
        "print(f\"Using str(): {str(obj)}\")\n",
        "print(obj) # print() calls str()"
      ],
      "execution_count": null,
      "outputs": [
        {
          "output_type": "stream",
          "name": "stdout",
          "text": [
            "Using repr(): MyClass(x=10, y=20)\n",
            "Using str(): MyClass object with x=10 and y=20\n",
            "MyClass object with x=10 and y=20\n"
          ]
        }
      ]
    },
    {
      "cell_type": "markdown",
      "metadata": {
        "id": "e9264ea4"
      },
      "source": [
        "20. What is the significance of the `super()` function in Python?\n",
        "\n",
        "The `super()` function in Python is used to refer to the parent class (or a sibling class in multiple inheritance) of the class it is called from. Its primary significance lies in facilitating inheritance, particularly when dealing with method overriding and accessing methods or attributes of the parent class.\n",
        "\n",
        "Here are the main purposes and significance of `super()`:\n",
        "\n",
        "*   **Calling Parent Class Methods:** The most common use of `super()` is to call a method from the parent class that has been overridden in the current subclass. This allows the subclass to extend or modify the parent's behavior rather than completely replacing it.\n",
        "\n",
        "*   **Accessing Parent Class Attributes:** While less common, `super()` can also be used to access attributes (including class variables) of the parent class.\n",
        "\n",
        "*   **Working with Multiple Inheritance:** In scenarios with multiple inheritance, `super()` follows the Method Resolution Order (MRO) to determine which parent class's method to call. This helps in coordinating calls to methods across the inheritance hierarchy, especially when parent classes have methods with the same name.\n",
        "\n",
        "*   **Maintaining Code Readability and Maintainability:** Using `super()` makes your code more readable and maintainable, especially when dealing with complex inheritance structures. It explicitly indicates that you are referring to a parent class's implementation, making the code's intent clearer. It also makes your code more robust to changes in the parent class's name or the inheritance hierarchy.\n",
        "\n",
        "*   **Initializing Parent Classes:** A very common use case is in the `__init__` method of a subclass. You use `super().__init__(...)` to call the constructor of the parent class, ensuring that the parent class's attributes are properly initialized before the subclass initializes its own attributes.\n",
        "\n",
        "**Syntax:**\n",
        "\n",
        "The basic syntax for calling a method from the parent class using `super()` is:"
      ]
    },
    {
      "cell_type": "code",
      "metadata": {
        "colab": {
          "base_uri": "https://localhost:8080/"
        },
        "id": "714485b6",
        "outputId": "07004af7-acda-4952-9ed3-1544549c7a2d"
      },
      "source": [
        "class Parent:\n",
        "    def __init__(self, name):\n",
        "        self.name = name\n",
        "        print(f\"Parent __init__ called for {self.name}\")\n",
        "\n",
        "    def greet(self):\n",
        "        print(f\"Hello from Parent, {self.name}\")\n",
        "\n",
        "class Child(Parent):\n",
        "    def __init__(self, name, age):\n",
        "        # Call the parent class's __init__ method\n",
        "        super().__init__(name)\n",
        "        self.age = age\n",
        "        print(f\"Child __init__ called for {self.name}\")\n",
        "\n",
        "    def greet(self):\n",
        "        # Call the parent class's greet method\n",
        "        super().greet()\n",
        "        print(f\"Hello from Child, I am {self.name} and I am {self.age} years old\")\n",
        "\n",
        "# Create an instance of the Child class\n",
        "child_obj = Child(\"Alice\", 10)\n",
        "\n",
        "# Call the greet method on the child object (which calls both parent and child greet)\n",
        "child_obj.greet()"
      ],
      "execution_count": null,
      "outputs": [
        {
          "output_type": "stream",
          "name": "stdout",
          "text": [
            "Parent __init__ called for Alice\n",
            "Child __init__ called for Alice\n",
            "Hello from Parent, Alice\n",
            "Hello from Child, I am Alice and I am 10 years old\n"
          ]
        }
      ]
    },
    {
      "cell_type": "markdown",
      "metadata": {
        "id": "54f9ee07"
      },
      "source": [
        "21. What is the significance of the `__del__` method in Python?\n",
        "\n",
        "In Python, the `__del__` method, also known as the **finalizer** or **destructor**, is a special method (a dunder method) that is called when an object's reference count becomes zero. In simpler terms, it's called when the object is about to be garbage collected by Python.\n",
        "\n",
        "**Significance and Purpose:**\n",
        "\n",
        "The primary significance of the `__del__` method is to perform **cleanup actions** before an object is completely destroyed. This can include tasks like:\n",
        "\n",
        "*   Closing file handles.\n",
        "*   Releasing network connections.\n",
        "*   Removing temporary files.\n",
        "*   Releasing other external resources that the object might be holding.\n",
        "\n",
        "It provides a way to ensure that resources are properly managed and released when an object is no longer needed.\n",
        "\n",
        "**Important Considerations and Caveats:**\n",
        "\n",
        "While `__del__` might seem straightforward, there are several important considerations and caveats when using it:\n",
        "\n",
        "*   **Unpredictable Timing:** The exact timing of when `__del__` is called is not guaranteed. Python's garbage collector runs periodically, and the order in which objects are garbage collected can be unpredictable. This means you cannot rely on `__del__` being called immediately after the last reference to an object is removed, or in a specific order relative to other objects.\n",
        "*   **Circular References:** Circular references between objects can prevent them from being garbage collected, and thus `__del__` might never be called for those objects.\n",
        "*   **Exceptions in `__del__`:** If an exception occurs within the `__del__` method, it is ignored by Python, but a warning is printed. This can make debugging difficult.\n",
        "*   **Not a Replacement for Context Managers (`with` statement):** For resource management tasks (like files or network connections), using context managers (`with` statement) is generally preferred over `__del__`. Context managers provide a more deterministic and reliable way to acquire and release resources.\n",
        "*   **Potential for Performance Issues:** Defining a `__del__` method can sometimes interfere with Python's garbage collection efficiency.\n",
        "\n",
        "**When to Use `__del__` (and when not to):**\n",
        "\n",
        "*   `__del__` is typically used for objects that manage external resources (like C extensions) where explicit cleanup is necessary and cannot be reliably handled by other means.\n",
        "*   For most Python code, especially when dealing with files, network connections, or other resources that can be managed with `with` statements, it is generally **not recommended** to rely solely on `__del__` for cleanup.\n",
        "\n",
        "**Example:**\n",
        "\n",
        "While relying on `__del__` for critical resource management is discouraged, here's a simple example to show when it's called:"
      ]
    },
    {
      "cell_type": "markdown",
      "source": [
        "22.  What is the difference between @staticmethod and @classmethod in Python?\n",
        "* We actually covered the difference between @staticmethod and @classmethod when we discussed class and static methods earlier (in question 10).\n",
        "\n",
        "* Here's a quick recap:\n",
        "\n",
        "* @classmethod: Takes cls as the first argument, refers to the class itself, and is used for methods that operate on the class or as alternative constructors.\n",
        "@staticmethod: Takes no implicit first argument (self or cls), does not have access to instance or class state, and is used for utility functions related to the class."
      ],
      "metadata": {
        "id": "93Enw5Up0-cH"
      }
    },
    {
      "cell_type": "markdown",
      "source": [
        "23. How does polymorphism work in Python with inheritance?\n",
        "* You're asking how polymorphism is achieved in Python when using inheritance. This is a key way polymorphism works in many object-oriented languages, including Python.\n",
        "\n",
        "* In Python, polymorphism with inheritance relies on method overriding. When a subclass inherits from a superclass and provides its own implementation for a method that is already defined in the superclass (this is method overriding), you can then treat objects of the subclass as objects of the superclass and call that method. The specific implementation of the method that gets executed will depend on the actual type of the object at runtime.\n",
        "\n",
        "* Here's how it works:\n",
        "\n",
        "* **Superclass defines a method:** A base or parent class defines a method that represents a common behavior.\n",
        "* **Subclasses override the method:** Derived or child classes inherit from the superclass and provide their own specific implementations of that same method.\n",
        "Polymorphic Usage: You can then write code that operates on objects of the superclass type (or a type that is an ancestor in the inheritance hierarchy), and when the overridden method is called on these objects, Python's runtime will determine the actual type of the object and execute the appropriate subclass's method.\n",
        "* This allows you to have a collection of objects of different (but related) types and process them uniformly by calling a common method, even though the underlying implementation for that method might be different for each object type.\n",
        "\n",
        "* Here's a Python example that demonstrates this:"
      ],
      "metadata": {
        "id": "tV-wdC6u1Xtv"
      }
    },
    {
      "cell_type": "code",
      "source": [
        "class Animal:\n",
        "    def speak(self):\n",
        "        \"\"\"A generic method for an animal to make a sound.\"\"\"\n",
        "        raise NotImplementedError(\"Subclass must implement abstract method\")\n",
        "\n",
        "class Dog(Animal):\n",
        "    def speak(self):\n",
        "        \"\"\"Dogs bark.\"\"\"\n",
        "        return \"Woof!\"\n",
        "\n",
        "class Cat(Animal):\n",
        "    def speak(self):\n",
        "        \"\"\"Cats meow.\"\"\"\n",
        "        return \"Meow!\"\n",
        "\n",
        "class Duck(Animal):\n",
        "    def speak(self):\n",
        "        \"\"\"Ducks quack.\"\"\"\n",
        "        return \"Quack!\"\n",
        "\n",
        "# Create a list of Animal objects (but they are instances of subclasses)\n",
        "animals = [Dog(), Cat(), Duck()]\n",
        "\n",
        "# Iterate through the list and call the 'speak' method on each animal\n",
        "# Polymorphism allows us to call the same method name on different object types\n",
        "for animal in animals:\n",
        "    print(f\"The animal says: {animal.speak()}\")\n"
      ],
      "metadata": {
        "colab": {
          "base_uri": "https://localhost:8080/"
        },
        "id": "NNRpUyH410hZ",
        "outputId": "80b5805d-9735-4f1b-aee0-0a0f23fda622"
      },
      "execution_count": null,
      "outputs": [
        {
          "output_type": "stream",
          "name": "stdout",
          "text": [
            "The animal says: Woof!\n",
            "The animal says: Meow!\n",
            "The animal says: Quack!\n"
          ]
        }
      ]
    },
    {
      "cell_type": "markdown",
      "source": [
        "In this example:\n",
        "\n",
        "The Animal class defines a generic speak method (although in this case, it's designed to be overridden, often abstract classes with @abstractmethod are used for this).\n",
        "The Dog, Cat, and Duck classes inherit from Animal and provide their specific implementations of the speak method.\n",
        "The animals list contains objects of different types (Dog, Cat, Duck), but they are all considered Animal objects in the context of the list.\n",
        "When we loop through the animals list and call animal.speak(), Python's runtime determines the actual type of the animal object at that moment (Dog, Cat, or Duck) and executes the corresponding speak method from that specific class.\n",
        "This demonstrates how polymorphism, through method overriding in an inheritance hierarchy, allows you to write flexible code that can handle objects of different types in a unified way."
      ],
      "metadata": {
        "id": "V_ExAHi91Hnb"
      }
    },
    {
      "cell_type": "markdown",
      "metadata": {
        "id": "c7b354ed"
      },
      "source": [
        "24. What is method chaining in Python OOP?\n",
        "\n",
        "Method chaining, also known as named parameter idiom, is a programming technique where multiple method calls are strung together on the same object in a single expression. Each method in the chain returns the object itself (or sometimes a new object), allowing the next method call to be made on the result of the previous one.\n",
        "\n",
        "This technique is often used to make code more concise and readable, especially when performing a series of operations on an object.\n",
        "\n",
        "**How it works:**\n",
        "\n",
        "For a method to be part of a method chain, it must return the object on which it was called (`self` in Python) or another object that supports the next method in the chain.\n",
        "\n",
        "**Example:**\n",
        "\n",
        "A common place to see method chaining in Python is with string methods or with libraries like pandas. Here's a simple example with a custom class:"
      ]
    },
    {
      "cell_type": "code",
      "metadata": {
        "colab": {
          "base_uri": "https://localhost:8080/"
        },
        "id": "901825c3",
        "outputId": "e0b855b2-f5ba-4c53-a617-66e094249efb"
      },
      "source": [
        "class Calculator:\n",
        "    def __init__(self, value=0):\n",
        "        self.value = value\n",
        "\n",
        "    def add(self, amount):\n",
        "        self.value += amount\n",
        "        return self # Return the object itself\n",
        "\n",
        "    def subtract(self, amount):\n",
        "        self.value -= amount\n",
        "        return self # Return the object itself\n",
        "\n",
        "    def multiply(self, amount):\n",
        "        self.value *= amount\n",
        "        return self # Return the object itself\n",
        "\n",
        "    def get_value(self):\n",
        "        return self.value\n",
        "\n",
        "# Using method chaining\n",
        "result = Calculator(10).add(5).subtract(2).multiply(3).get_value()\n",
        "\n",
        "print(f\"The final value is: {result}\")\n",
        "\n",
        "# Without method chaining, it would look like this:\n",
        "# calc = Calculator(10)\n",
        "# calc.add(5)\n",
        "# calc.subtract(2)\n",
        "# calc.multiply(3)\n",
        "# result_without_chaining = calc.get_value()\n",
        "# print(f\"The final value without chaining is: {result_without_chaining}\")"
      ],
      "execution_count": null,
      "outputs": [
        {
          "output_type": "stream",
          "name": "stdout",
          "text": [
            "The final value is: 39\n"
          ]
        }
      ]
    },
    {
      "cell_type": "markdown",
      "source": [
        "25. What is the purpose of the __call__ method in Python?\n",
        "*"
      ],
      "metadata": {
        "id": "XqUXqGKW2Q3X"
      }
    },
    {
      "cell_type": "markdown",
      "metadata": {
        "id": "c0723e9a"
      },
      "source": [
        "25. What is the purpose of the `__call__` method in Python?\n",
        "\n",
        "In Python, the `__call__` method is a special method (a dunder method) that allows an instance of a class to be called like a function. If a class defines a `__call__` method, creating an object of that class and then calling the object using parentheses `()` will execute the code inside the `__call__` method.\n",
        "\n",
        "**Significance and Purpose:**\n",
        "\n",
        "The primary purpose of the `__call__` method is to make objects \"callable.\" This can be useful for several reasons:\n",
        "\n",
        "*   **Creating Functors:** Objects that are callable are sometimes referred to as \"functors.\" They can maintain state (their instance attributes) between calls, unlike pure functions. This allows you to create objects that behave like functions but have memory of previous interactions or configuration.\n",
        "*   **Implementing Decorators:** The `__call__` method is often used when implementing decorators as classes. The decorator class instance is called with the function to be decorated, and the `__call__` method handles the execution of the original function with added logic.\n",
        "*   **Creating Objects That Act as Functions:** You can use `__call__` to create objects that perform a specific action when called, potentially with different parameters. This can make your code more object-oriented and expressive.\n",
        "*   **Stateful Callbacks:** When you need a callback function that needs to maintain some state, a callable object with `__call__` is a good option.\n",
        "\n",
        "**How it works:**\n",
        "\n",
        "When you call an object `obj` using `obj(arguments)`, Python checks if the object's class has a `__call__` method. If it does, Python executes `obj.__call__(arguments)`.\n",
        "\n",
        "Here's a simple example:"
      ]
    },
    {
      "cell_type": "code",
      "metadata": {
        "colab": {
          "base_uri": "https://localhost:8080/"
        },
        "id": "09e8a79f",
        "outputId": "5c3752c0-9aa1-4434-d5d2-156847da4a5b"
      },
      "source": [
        "class Multiplier:\n",
        "    def __init__(self, factor):\n",
        "        self.factor = factor\n",
        "\n",
        "    def __call__(self, number):\n",
        "        \"\"\"This method is called when the object is called like a function.\"\"\"\n",
        "        print(f\"Multiplying {number} by {self.factor}\")\n",
        "        return number * self.factor\n",
        "\n",
        "# Create an instance of the Multiplier class\n",
        "multiply_by_5 = Multiplier(5)\n",
        "\n",
        "# Call the object like a function\n",
        "result1 = multiply_by_5(10)\n",
        "print(f\"Result 1: {result1}\")\n",
        "\n",
        "# Create another instance\n",
        "multiply_by_2 = Multiplier(2)\n",
        "\n",
        "# Call the second object\n",
        "result2 = multiply_by_2(10)\n",
        "print(f\"Result 2: {result2}\")\n",
        "\n",
        "# The object itself is callable\n",
        "print(callable(multiply_by_5)) # Output: True"
      ],
      "execution_count": null,
      "outputs": [
        {
          "output_type": "stream",
          "name": "stdout",
          "text": [
            "Multiplying 10 by 5\n",
            "Result 1: 50\n",
            "Multiplying 10 by 2\n",
            "Result 2: 20\n",
            "True\n"
          ]
        }
      ]
    },
    {
      "cell_type": "markdown",
      "source": [
        "#Practical Questions"
      ],
      "metadata": {
        "id": "maMtvjfuUE92"
      }
    },
    {
      "cell_type": "code",
      "source": [
        "#1 Create a parent class Animal with a method speak() that prints a generic message. Create a child class Dog that overrides the speak() method to print \"Bark!\".\n"
      ],
      "metadata": {
        "id": "9Xnn71YgUISv"
      },
      "execution_count": null,
      "outputs": []
    },
    {
      "cell_type": "code",
      "metadata": {
        "colab": {
          "base_uri": "https://localhost:8080/"
        },
        "id": "4400ebe0",
        "outputId": "5c3fd7c2-91d9-4eb8-866f-8c4bd1d7d433"
      },
      "source": [
        "class Animal:\n",
        "    def speak(self):\n",
        "        print(\"Generic animal sound\")\n",
        "\n",
        "class Dog(Animal):\n",
        "    def speak(self):\n",
        "        print(\"Bark!\")\n",
        "\n",
        "# Example usage:\n",
        "animal = Animal()\n",
        "animal.speak()\n",
        "\n",
        "dog = Dog()\n",
        "dog.speak()"
      ],
      "execution_count": null,
      "outputs": [
        {
          "output_type": "stream",
          "name": "stdout",
          "text": [
            "Generic animal sound\n",
            "Bark!\n"
          ]
        }
      ]
    },
    {
      "cell_type": "code",
      "source": [
        "#2 Write a program to create an abstract class Shape with a method area(). Derive classes Circle and Rectangle from it and implement the area() method in both.\n"
      ],
      "metadata": {
        "id": "kWBjwmVmUcxq"
      },
      "execution_count": null,
      "outputs": []
    },
    {
      "cell_type": "code",
      "metadata": {
        "colab": {
          "base_uri": "https://localhost:8080/"
        },
        "id": "f9c961cc",
        "outputId": "231af8ce-02e8-4153-9e91-9da0e0492809"
      },
      "source": [
        "from abc import ABC, abstractmethod\n",
        "import math\n",
        "\n",
        "class Shape(ABC):\n",
        "    @abstractmethod\n",
        "    def area(self):\n",
        "        pass\n",
        "\n",
        "class Circle(Shape):\n",
        "    def __init__(self, radius):\n",
        "        self.radius = radius\n",
        "\n",
        "    def area(self):\n",
        "        return math.pi * self.radius**2\n",
        "\n",
        "class Rectangle(Shape):\n",
        "    def __init__(self, width, height):\n",
        "        self.width = width\n",
        "        self.height = height\n",
        "\n",
        "    def area(self):\n",
        "        return self.width * self.height\n",
        "\n",
        "# Example Usage\n",
        "# shape = Shape() # This would raise a TypeError as abstract classes cannot be instantiated\n",
        "\n",
        "circle = Circle(5)\n",
        "rectangle = Rectangle(4, 6)\n",
        "\n",
        "print(f\"Area of Circle: {circle.area()}\")\n",
        "print(f\"Area of Rectangle: {rectangle.area()}\")"
      ],
      "execution_count": null,
      "outputs": [
        {
          "output_type": "stream",
          "name": "stdout",
          "text": [
            "Area of Circle: 78.53981633974483\n",
            "Area of Rectangle: 24\n"
          ]
        }
      ]
    },
    {
      "cell_type": "code",
      "metadata": {
        "colab": {
          "base_uri": "https://localhost:8080/"
        },
        "id": "0b82af67",
        "outputId": "6ce6f938-2a9a-4cd5-9d91-97abf748f889"
      },
      "source": [
        "#3 Implement a multi-level inheritance scenario where a class Vehicle has an attribute type. Derive a class Car and further derive a class ElectricCar that adds a battery attribute.\n",
        "class Vehicle:\n",
        "    def __init__(self, vehicle_type):\n",
        "        self.type = vehicle_type\n",
        "\n",
        "class Car(Vehicle):\n",
        "    def __init__(self, vehicle_type, model):\n",
        "        super().__init__(vehicle_type)\n",
        "        self.model = model\n",
        "\n",
        "class ElectricCar(Car):\n",
        "    def __init__(self, vehicle_type, model, battery_capacity):\n",
        "        super().__init__(vehicle_type, model)\n",
        "        self.battery = battery_capacity\n",
        "\n",
        "    def display_info(self):\n",
        "        print(f\"Vehicle Type: {self.type}\")\n",
        "        print(f\"Model: {self.model}\")\n",
        "        print(f\"Battery Capacity: {self.battery} kWh\")\n",
        "\n",
        "# Example Usage\n",
        "my_electric_car = ElectricCar(\"Electric Car\", \"Tesla Model 3\", 75)\n",
        "my_electric_car.display_info()"
      ],
      "execution_count": null,
      "outputs": [
        {
          "output_type": "stream",
          "name": "stdout",
          "text": [
            "Vehicle Type: Electric Car\n",
            "Model: Tesla Model 3\n",
            "Battery Capacity: 75 kWh\n"
          ]
        }
      ]
    },
    {
      "cell_type": "code",
      "metadata": {
        "colab": {
          "base_uri": "https://localhost:8080/"
        },
        "id": "630701ff",
        "outputId": "b9d295fe-97f4-402f-b895-44c622905aee"
      },
      "source": [
        "#4 Demonstrate polymorphism by creating a base class Bird with a method fly(). Create two derived classes Sparrow and Penguin that override the fly() method.\n",
        "class Bird:\n",
        "    def fly(self):\n",
        "        \"\"\"Generic fly method for a bird.\"\"\"\n",
        "        print(\"Most birds can fly.\")\n",
        "\n",
        "class Sparrow(Bird):\n",
        "    def fly(self):\n",
        "        \"\"\"Sparrows fly in the air.\"\"\"\n",
        "        print(\"Sparrows fly gracefully in the sky.\")\n",
        "\n",
        "class Penguin(Bird):\n",
        "    def fly(self):\n",
        "        \"\"\"Penguins cannot fly, but they can swim.\"\"\"\n",
        "        print(\"Penguins cannot fly, but they are excellent swimmers.\")\n",
        "\n",
        "# Demonstrate polymorphism\n",
        "birds = [Bird(), Sparrow(), Penguin()]\n",
        "\n",
        "for bird in birds:\n",
        "    bird.fly()"
      ],
      "execution_count": null,
      "outputs": [
        {
          "output_type": "stream",
          "name": "stdout",
          "text": [
            "Most birds can fly.\n",
            "Sparrows fly gracefully in the sky.\n",
            "Penguins cannot fly, but they are excellent swimmers.\n"
          ]
        }
      ]
    },
    {
      "cell_type": "code",
      "metadata": {
        "colab": {
          "base_uri": "https://localhost:8080/"
        },
        "id": "3dcf90a4",
        "outputId": "ff8ed177-070e-4140-8d8e-6fb51cac640c"
      },
      "source": [
        "#6 Write a program to demonstrate encapsulation by creating a class BankAccount with private attributes balance and methods to deposit, withdraw, and check balance.\n",
        "class BankAccount:\n",
        "    def __init__(self, initial_balance=0):\n",
        "        # Using a single underscore by convention to indicate a \"protected\" attribute\n",
        "        self._balance = initial_balance\n",
        "        print(f\"Account created with initial balance: {self._balance}\")\n",
        "\n",
        "    def deposit(self, amount):\n",
        "        if amount > 0:\n",
        "            self._balance += amount\n",
        "            print(f\"Deposited: {amount}. New balance: {self._balance}\")\n",
        "        else:\n",
        "            print(\"Deposit amount must be positive.\")\n",
        "\n",
        "    def withdraw(self, amount):\n",
        "        if amount > 0:\n",
        "            if self._balance >= amount:\n",
        "                self._balance -= amount\n",
        "                print(f\"Withdrew: {amount}. New balance: {self._balance}\")\n",
        "            else:\n",
        "                print(\"Insufficient balance.\")\n",
        "        else:\n",
        "            print(\"Withdrawal amount must be positive.\")\n",
        "\n",
        "    def get_balance(self):\n",
        "        # Providing a public method to access the balance\n",
        "        return self._balance\n",
        "\n",
        "# Example Usage\n",
        "account = BankAccount(100)\n",
        "\n",
        "account.deposit(50)\n",
        "account.withdraw(30)\n",
        "account.withdraw(150) # Insufficient balance\n",
        "\n",
        "print(f\"Current balance: {account.get_balance()}\")\n",
        "\n",
        "# Attempting to access the balance directly (discouraged due to encapsulation)\n",
        "# print(f\"Accessing balance directly: {account._balance}\")"
      ],
      "execution_count": null,
      "outputs": [
        {
          "output_type": "stream",
          "name": "stdout",
          "text": [
            "Account created with initial balance: 100\n",
            "Deposited: 50. New balance: 150\n",
            "Withdrew: 30. New balance: 120\n",
            "Insufficient balance.\n",
            "Current balance: 120\n"
          ]
        }
      ]
    },
    {
      "cell_type": "code",
      "metadata": {
        "colab": {
          "base_uri": "https://localhost:8080/"
        },
        "id": "505bf342",
        "outputId": "2be996d1-bdee-4af1-b8da-30c820d157fb"
      },
      "source": [
        "#6  Demonstrate runtime polymorphism using a method play() in a base class Instrument. Derive classes Guitar and Piano that implement their own version of play().\n",
        "class Instrument:\n",
        "    def play(self):\n",
        "        \"\"\"Generic play method for an instrument.\"\"\"\n",
        "        print(\"Playing a generic instrument sound.\")\n",
        "\n",
        "class Guitar(Instrument):\n",
        "    def play(self):\n",
        "        \"\"\"Guitars are strummed.\"\"\"\n",
        "        print(\"Strumming the guitar.\")\n",
        "\n",
        "class Piano(Instrument):\n",
        "    def play(self):\n",
        "        \"\"\"Pianos are played by pressing keys.\"\"\"\n",
        "        print(\"Playing the piano keys.\")\n",
        "\n",
        "# Demonstrate runtime polymorphism\n",
        "instruments = [Instrument(), Guitar(), Piano()]\n",
        "\n",
        "for instrument in instruments:\n",
        "    instrument.play()"
      ],
      "execution_count": null,
      "outputs": [
        {
          "output_type": "stream",
          "name": "stdout",
          "text": [
            "Playing a generic instrument sound.\n",
            "Strumming the guitar.\n",
            "Playing the piano keys.\n"
          ]
        }
      ]
    },
    {
      "cell_type": "code",
      "metadata": {
        "colab": {
          "base_uri": "https://localhost:8080/"
        },
        "id": "96f00193",
        "outputId": "07f44ec3-15ca-444b-a5f5-5acc887eec46"
      },
      "source": [
        "#12  Implement a class Student with attributes name and grades. Create a method average_grade() to compute the average of the grades.\n",
        "class Student:\n",
        "    def __init__(self, name, grades):\n",
        "        self.name = name\n",
        "        self.grades = grades\n",
        "\n",
        "    def average_grade(self):\n",
        "        \"\"\"Computes the average of the student's grades.\"\"\"\n",
        "        if not self.grades:  # Handle the case of no grades\n",
        "            return 0\n",
        "        return sum(self.grades) / len(self.grades)\n",
        "\n",
        "# Example Usage\n",
        "student1 = Student(\"Alice\", [85, 90, 78, 92])\n",
        "print(f\"{student1.name}'s average grade: {student1.average_grade()}\")\n",
        "\n",
        "student2 = Student(\"Bob\", [70, 75, 80])\n",
        "print(f\"{student2.name}'s average grade: {student2.average_grade()}\")\n",
        "\n",
        "student3 = Student(\"Charlie\", [])\n",
        "print(f\"{student3.name}'s average grade: {student3.average_grade()}\")"
      ],
      "execution_count": null,
      "outputs": [
        {
          "output_type": "stream",
          "name": "stdout",
          "text": [
            "Alice's average grade: 86.25\n",
            "Bob's average grade: 75.0\n",
            "Charlie's average grade: 0\n"
          ]
        }
      ]
    },
    {
      "cell_type": "code",
      "metadata": {
        "colab": {
          "base_uri": "https://localhost:8080/"
        },
        "id": "a3d01fc3",
        "outputId": "cea5dc69-16d4-4c76-bf82-7c946407d550"
      },
      "source": [
        "#13  Create a class Rectangle with methods set_dimensions() to set the dimensions and area() to calculate the area\n",
        "class Rectangle:\n",
        "    def __init__(self):\n",
        "        self.width = 0\n",
        "        self.height = 0\n",
        "\n",
        "    def set_dimensions(self, width, height):\n",
        "        \"\"\"Sets the width and height of the rectangle.\"\"\"\n",
        "        if width >= 0 and height >= 0:\n",
        "            self.width = width\n",
        "            self.height = height\n",
        "            print(f\"Rectangle dimensions set to: Width = {self.width}, Height = {self.height}\")\n",
        "        else:\n",
        "            print(\"Dimensions must be non-negative.\")\n",
        "\n",
        "\n",
        "    def area(self):\n",
        "        \"\"\"Calculates the area of the rectangle.\"\"\"\n",
        "        return self.width * self.height\n",
        "\n",
        "# Example Usage\n",
        "rectangle1 = Rectangle()\n",
        "rectangle1.set_dimensions(10, 5)\n",
        "print(f\"Area of rectangle1: {rectangle1.area()}\")\n",
        "\n",
        "rectangle2 = Rectangle()\n",
        "rectangle2.set_dimensions(7, 8)\n",
        "print(f\"Area of rectangle2: {rectangle2.area()}\")\n",
        "\n",
        "rectangle3 = Rectangle()\n",
        "rectangle3.set_dimensions(-2, 5) # Demonstrating the validation\n",
        "print(f\"Area of rectangle3: {rectangle3.area()}\")"
      ],
      "execution_count": null,
      "outputs": [
        {
          "output_type": "stream",
          "name": "stdout",
          "text": [
            "Rectangle dimensions set to: Width = 10, Height = 5\n",
            "Area of rectangle1: 50\n",
            "Rectangle dimensions set to: Width = 7, Height = 8\n",
            "Area of rectangle2: 56\n",
            "Dimensions must be non-negative.\n",
            "Area of rectangle3: 0\n"
          ]
        }
      ]
    },
    {
      "cell_type": "code",
      "metadata": {
        "colab": {
          "base_uri": "https://localhost:8080/"
        },
        "id": "1c129e5d",
        "outputId": "0def16c9-6b0e-4bc7-a830-77eeacabd3e0"
      },
      "source": [
        "#14  Create a class Employee with a method calculate_salary() that computes the salary based on hours worked and hourly rate. Create a derived class Manager that adds a bonus to the salary.\n",
        "class Employee:\n",
        "    def __init__(self, hours_worked, hourly_rate):\n",
        "        self.hours_worked = hours_worked\n",
        "        self.hourly_rate = hourly_rate\n",
        "\n",
        "    def calculate_salary(self):\n",
        "        \"\"\"Calculates the basic salary.\"\"\"\n",
        "        return self.hours_worked * self.hourly_rate\n",
        "\n",
        "class Manager(Employee):\n",
        "    def __init__(self, hours_worked, hourly_rate, bonus):\n",
        "        super().__init__(hours_worked, hourly_rate)\n",
        "        self.bonus = bonus\n",
        "\n",
        "    def calculate_salary(self):\n",
        "        \"\"\"Calculates the salary including a bonus.\"\"\"\n",
        "        base_salary = super().calculate_salary()\n",
        "        return base_salary + self.bonus\n",
        "\n",
        "# Example Usage\n",
        "employee1 = Employee(40, 20)\n",
        "print(f\"Employee salary: ${employee1.calculate_salary()}\")\n",
        "\n",
        "manager1 = Manager(40, 20, 500)\n",
        "print(f\"Manager salary: ${manager1.calculate_salary()}\")"
      ],
      "execution_count": null,
      "outputs": [
        {
          "output_type": "stream",
          "name": "stdout",
          "text": [
            "Employee salary: $800\n",
            "Manager salary: $1300\n"
          ]
        }
      ]
    },
    {
      "cell_type": "code",
      "metadata": {
        "colab": {
          "base_uri": "https://localhost:8080/"
        },
        "id": "c6e137bb",
        "outputId": "1f9d3e1f-4dff-4f0b-be95-382830b94ecf"
      },
      "source": [
        "#16 Create a class Animal with an abstract method sound(). Create two derived classes Cow and Sheep that implement the sound() method.\n",
        "from abc import ABC, abstractmethod\n",
        "\n",
        "class Animal(ABC):\n",
        "    @abstractmethod\n",
        "    def sound(self):\n",
        "        \"\"\"Abstract method for the animal's sound.\"\"\"\n",
        "        pass\n",
        "\n",
        "class Cow(Animal):\n",
        "    def sound(self):\n",
        "        \"\"\"Cows moo.\"\"\"\n",
        "        return \"Moo!\"\n",
        "\n",
        "class Sheep(Animal):\n",
        "    def sound(self):\n",
        "        \"\"\"Sheep baa.\"\"\"\n",
        "        return \"Baa!\"\n",
        "\n",
        "# Example Usage\n",
        "# animal = Animal() # This would raise a TypeError\n",
        "\n",
        "cow = Cow()\n",
        "sheep = Sheep()\n",
        "\n",
        "print(f\"The cow says: {cow.sound()}\")\n",
        "print(f\"The sheep says: {sheep.sound()}\")"
      ],
      "execution_count": null,
      "outputs": [
        {
          "output_type": "stream",
          "name": "stdout",
          "text": [
            "The cow says: Moo!\n",
            "The sheep says: Baa!\n"
          ]
        }
      ]
    },
    {
      "cell_type": "code",
      "metadata": {
        "colab": {
          "base_uri": "https://localhost:8080/"
        },
        "id": "eedd4037",
        "outputId": "7372124e-7186-4ee8-ef2e-38ac7ccc3a7a"
      },
      "source": [
        "#15 Create a class Product with attributes name, price, and quantity. Implement a method total_price() that calculates the total price of the product.\n",
        "class Product:\n",
        "    def __init__(self, name, price, quantity):\n",
        "        self.name = name\n",
        "        self.price = price\n",
        "        self.quantity = quantity\n",
        "\n",
        "    def total_price(self):\n",
        "        \"\"\"Calculates the total price of the product.\"\"\"\n",
        "        return self.price * self.quantity\n",
        "\n",
        "# Example Usage\n",
        "product1 = Product(\"Laptop\", 1200, 1)\n",
        "print(f\"Total price for {product1.name}: ${product1.total_price()}\")\n",
        "\n",
        "product2 = Product(\"Mouse\", 25, 5)\n",
        "print(f\"Total price for {product2.name}: ${product2.total_price()}\")"
      ],
      "execution_count": null,
      "outputs": [
        {
          "output_type": "stream",
          "name": "stdout",
          "text": [
            "Total price for Laptop: $1200\n",
            "Total price for Mouse: $125\n"
          ]
        }
      ]
    },
    {
      "cell_type": "code",
      "metadata": {
        "colab": {
          "base_uri": "https://localhost:8080/"
        },
        "id": "60af0830",
        "outputId": "f1e3ee76-c87d-4b89-d7ca-7faf33867f19"
      },
      "source": [
        "#17  Create a class Book with attributes title, author, and year_published. Add a method get_book_info() that returns a formatted string with the book's details.\n",
        "class Book:\n",
        "    def __init__(self, title, author, year_published):\n",
        "        self.title = title\n",
        "        self.author = author\n",
        "        self.year_published = year_published\n",
        "\n",
        "    def get_book_info(self):\n",
        "        \"\"\"Returns a formatted string with the book's details.\"\"\"\n",
        "        return f\"'{self.title}' by {self.author}, published in {self.year_published}\"\n",
        "\n",
        "# Example Usage\n",
        "book1 = Book(\"The Hitchhiker's Guide to the Galaxy\", \"Douglas Adams\", 1979)\n",
        "print(book1.get_book_info())\n",
        "\n",
        "book2 = Book(\"Pride and Prejudice\", \"Jane Austen\", 1813)\n",
        "print(book2.get_book_info())"
      ],
      "execution_count": null,
      "outputs": [
        {
          "output_type": "stream",
          "name": "stdout",
          "text": [
            "'The Hitchhiker's Guide to the Galaxy' by Douglas Adams, published in 1979\n",
            "'Pride and Prejudice' by Jane Austen, published in 1813\n"
          ]
        }
      ]
    },
    {
      "cell_type": "code",
      "metadata": {
        "colab": {
          "base_uri": "https://localhost:8080/"
        },
        "id": "f00d5557",
        "outputId": "946dcad8-7951-43f7-d60b-cd18992585c3"
      },
      "source": [
        "#18 Create a class House with attributes address and price. Create a derived class Mansion that adds an attribute number_of_rooms.\n",
        "class House:\n",
        "    def __init__(self, address, price):\n",
        "        self.address = address\n",
        "        self.price = price\n",
        "\n",
        "class Mansion(House):\n",
        "    def __init__(self, address, price, number_of_rooms):\n",
        "        super().__init__(address, price)\n",
        "        self.number_of_rooms = number_of_rooms\n",
        "\n",
        "    def display_info(self):\n",
        "        print(f\"Address: {self.address}\")\n",
        "        print(f\"Price: ${self.price}\")\n",
        "        print(f\"Number of rooms: {self.number_of_rooms}\")\n",
        "\n",
        "# Example Usage\n",
        "my_mansion = Mansion(\"123 Luxury Lane\", 10000000, 50)\n",
        "my_mansion.display_info()"
      ],
      "execution_count": 24,
      "outputs": [
        {
          "output_type": "stream",
          "name": "stdout",
          "text": [
            "Address: 123 Luxury Lane\n",
            "Price: $10000000\n",
            "Number of rooms: 50\n"
          ]
        }
      ]
    }
  ]
}