{
  "nbformat": 4,
  "nbformat_minor": 0,
  "metadata": {
    "colab": {
      "provenance": [],
      "authorship_tag": "ABX9TyN7LWwjwhLQmo19P/pAWZa0",
      "include_colab_link": true
    },
    "kernelspec": {
      "name": "python3",
      "display_name": "Python 3"
    },
    "language_info": {
      "name": "python"
    }
  },
  "cells": [
    {
      "cell_type": "markdown",
      "metadata": {
        "id": "view-in-github",
        "colab_type": "text"
      },
      "source": [
        "<a href=\"https://colab.research.google.com/github/sunainamishra39/Basics-of-python/blob/main/DataStructureAssignment.ipynb\" target=\"_parent\"><img src=\"https://colab.research.google.com/assets/colab-badge.svg\" alt=\"Open In Colab\"/></a>"
      ]
    },
    {
      "cell_type": "markdown",
      "source": [
        "#Theoretical Questions"
      ],
      "metadata": {
        "id": "NirmkkgmGzhH"
      }
    },
    {
      "cell_type": "markdown",
      "source": [
        "1.  What are data structures, and why are they important?\n",
        "    *    Data structures are ways of organizing and storing data in a computer so that it can be accessed and modified efficiently. They provide a framework for managing data that allows for various operations like insertion, deletion, searching, and sorting to be performed efficiently.\n",
        "\n",
        "    *    Data structures are important because:\n",
        "\n",
        "    *    ***Efficiency:*** Choosing the right data structure can significantly impact the efficiency of algorithms. For example, searching for an element in a sorted array is much faster than searching in an unsorted linked list.\n",
        "    *    ***Organization:*** They provide a systematic way to organize data, making it easier to manage and understand.\n",
        "    *    ***Reusability:*** Many data structures are well-defined and can be reused across different applications.\n",
        "    *    ***Problem Solving:*** Understanding data structures is fundamental to solving many computer science problems and designing efficient algorithms.\n",
        "    ->    *Common examples of data structures include arrays, linked lists, stacks, queues, trees, and graphs. Each has its own strengths and weaknesses, making it suitable for different scenarios.*"
      ],
      "metadata": {
        "id": "h2WM4u6rG_t_"
      }
    },
    {
      "cell_type": "markdown",
      "source": [
        "2.  Explain the difference between mutable and immutable data types with examples.\n",
        "    *    ***Mutable Data Types:*** Mutable data types can be changed after they are created. This means you can modify the content of a mutable object in place without creating a new object.\n",
        "\n",
        "    *    Examples in Python: Lists, dictionaries, and sets are mutable data types.\n",
        "    *    ***Immutable Data Types:*** Immutable data types cannot be changed after they are created. If you need to modify an immutable object, you actually create a new object with the desired changes.\n",
        "\n",
        "    *    Examples in Python: Integers, floats, strings, and tuples are immutable data types.\n",
        "    *    *In summary:*\n",
        "\n",
        "    *    Mutable: Can be changed after creation (lists, dictionaries, sets).\n",
        "    *    Immutable: Cannot be changed after creation (integers, floats, strings, tuples). Operations that appear to modify immutable objects actually create new objects.\n"
      ],
      "metadata": {
        "id": "sHbCViZ1JDlk"
      }
    },
    {
      "cell_type": "markdown",
      "source": [
        "3.  What are the main differences between lists and tuples in Python?\n",
        "    *    **The main differences between lists and tuples in Python are:**\n",
        "\n",
        "    *    ***Mutability:*** Lists are mutable, meaning their contents can be changed after creation. Tuples are immutable, so their contents cannot be modified after creation.\n",
        "    *    ***Syntax:*** Lists are defined using square brackets [], while tuples are defined using parentheses ().\n",
        "    *    ***Use Cases:*** Lists are generally used for collections of items that might change, while tuples are used for collections of items that should remain constant, often representing a fixed set of values."
      ],
      "metadata": {
        "id": "db-ciakEJGAK"
      }
    },
    {
      "cell_type": "markdown",
      "source": [
        "4.  Describe how dictionaries store data?\n",
        "    *    Dictionaries store data as key-value pairs. Each key in a dictionary must be unique and immutable (like strings, numbers, or tuples). The values associated with keys can be of any data type and can be mutable or immutable.\n",
        "\n",
        "    *    *Think of a dictionary like a real-world dictionary:*\n",
        "\n",
        "    *    Keys are like the words you look up.\n",
        "    *    Values are like the definitions of those words.\n",
        "    *    When you want to access a value in a dictionary, you use its corresponding key. Python uses a technique called hashing to quickly find the location of the value associated with a given key.\n",
        "    *    Here's a simple example in Python:"
      ],
      "metadata": {
        "id": "sVgIhEJcKkID"
      }
    },
    {
      "cell_type": "code",
      "source": [
        "my_dictionary = {\n",
        "    \"apple\": \"a sweet, edible fruit produced by an apple tree\",\n",
        "    \"banana\": \"a long curved fruit which grows in clusters and has soft pulpy flesh and yellow skin when ripe\",\n",
        "    \"cherry\": \"a small, round, red or black fruit with a stone.\"\n",
        "}\n",
        "\n",
        "# Accessing a value using its key\n",
        "print(my_dictionary[\"banana\"])"
      ],
      "metadata": {
        "colab": {
          "base_uri": "https://localhost:8080/"
        },
        "id": "zuOL7fBlLQYI",
        "outputId": "7cc5d309-5ee3-4312-d04c-45af0ceefd6e"
      },
      "execution_count": null,
      "outputs": [
        {
          "output_type": "stream",
          "name": "stdout",
          "text": [
            "a long curved fruit which grows in clusters and has soft pulpy flesh and yellow skin when ripe\n"
          ]
        }
      ]
    },
    {
      "cell_type": "markdown",
      "source": [
        "5.  Why might you use a set instead of a list in Python?\n",
        "    *    Sets offer advantages over lists in Python for specific scenarios:\n",
        "\n",
        "    *    **Uniqueness:** Sets automatically enforce uniqueness of elements. If you add a duplicate element to a set, it will not be added. This is useful when you need to work with a collection of distinct items.\n",
        "    *    **Membership Testing:** Checking if an element exists in a set is generally faster than checking in a list, especially for large collections. This is because sets use a hash table internally, allowing for average O(1) time complexity for membership tests.\n",
        "    *    **Mathematical Set Operations:** Sets provide built-in methods for performing common set operations like union, intersection, difference, and symmetric difference. These operations are often more efficient and easier to express using sets compared to lists.\n",
        "    *    **No Order:** Unlike lists, sets do not maintain the order of elements. If the order of your collection doesn't matter, using a set can be a good choice.\n",
        "    *    In summary, you might choose a set over a list when:\n",
        "\n",
        "You need to ensure that all elements in your collection are unique.\n",
        "You frequently need to check for the presence of an element in the collection.\n",
        "You need to perform mathematical set operations.\n",
        "The order of elements is not important."
      ],
      "metadata": {
        "id": "SfNtj_0HcrZA"
      }
    },
    {
      "cell_type": "markdown",
      "source": [
        "6. What is a string in Python, and how is it different from a list?\n",
        "    *    **What is a string?**\n",
        "\n",
        "    *    A string in Python is a sequence of characters.\n",
        "    *    Strings are used to represent text.\n",
        "    *    They are immutable, meaning once a string is created, its contents cannot be changed.\n",
        "    *    Strings can be enclosed in single quotes ('...'), double quotes (\"...\"), or triple quotes (\"\"\"...\"\"\" or '''...''') for multi-line strings.\n",
        "    *    **How is a string different from a list?**\n",
        "\n",
        "    *    **Mutability:** The most significant difference is mutability. Strings are immutable, while lists are mutable. This means you can change, add, or remove elements from a list after it's created, but you cannot do the same for a string.\n",
        "    *    **Element Type:** Strings specifically store characters. Lists can store items of any data type (integers, floats, strings, other lists, etc.).\n",
        "    *    **Purpose:** Strings are designed for working with textual data. Lists are general-purpose containers for storing collections of items.\n",
        "    *    **Syntax:** Strings are defined with quotes around a sequence of characters. Lists are defined with square brackets [] enclosing a comma-separated sequence of items."
      ],
      "metadata": {
        "id": "zt4GMvAOdxix"
      }
    },
    {
      "cell_type": "markdown",
      "source": [
        "7.  How do tuples ensure data integrity in Python?\n",
        "    *    Tuples in Python ensure data integrity primarily through their immutability. Here's how that works:\n",
        "\n",
        "    *    **Immutability:** Once a tuple is created, its contents cannot be changed. You cannot add, remove, or modify elements within the tuple. This fixed nature means that the data within a tuple is guaranteed to remain exactly as it was when the tuple was created.\n",
        "\n",
        "    *    **Preventing Accidental Modification:** Because you can't change a tuple after creation, you avoid the risk of accidentally altering important data that should remain constant. This is especially useful when dealing with collections of related values that should not be modified during the program's execution.\n",
        "\n",
        "    *    **Used for Fixed Collections:** Tuples are often used to represent fixed collections of items where the order and values are significant and should not change.\n",
        "    * Examples include:\n",
        "\n",
        "    * Coordinates (e.g., (x, y))\n",
        "    * Database records (e.g., ('John Doe', 30, 'Engineer'))\n",
        "    * Configuration settings that should not be changed.\n",
        "While tuples ensure the integrity of the tuple structure itself (the elements and their order), it's important to remember that if a tuple contains mutable objects (like lists), those mutable objects can still be modified. However, the tuple itself will still refer to the same mutable object.\n",
        "\n",
        "In essence, the immutability of tuples provides a strong guarantee that the collection of data represented by the tuple will not be unintentionally altered."
      ],
      "metadata": {
        "id": "I2vLoZCtet_a"
      }
    },
    {
      "cell_type": "markdown",
      "source": [
        "8.  What is a hash table, and how does it relate to dictionaries in Python?\n",
        "    * **What is a Hash Table?**\n",
        "\n",
        "      A hash table (also known as a hash map) is a data structure that implements an associative array or dictionary.\n",
        "\n",
        "      It stores data in key-value pairs.\n",
        "\n",
        "      The core idea of a hash table is to use a hash function to compute an index into an array of buckets or slots, from which the desired value can be found.\n",
        "\n",
        "      **Hash Function:** A hash function takes a key as input and returns a numerical hash code. This hash code is then typically used to calculate an index in the array. A good hash function distributes keys evenly across the array to minimize collisions (situations where two different keys produce the same hash code or index).\n",
        "\n",
        "    * **How Does it Relate to Dictionaries in Python?**\n",
        "\n",
        "     Dictionaries in Python are implemented using hash tables.\n",
        "\n",
        "     When you create a dictionary and add a key-value pair, Python's underlying implementation uses a hash function to calculate a hash value for the key.\n",
        "\n",
        "     This hash value is then used to determine where in the internal hash table the key-value pair will be stored.\n",
        "\n",
        "     When you try to access a value using a key, Python again computes the hash value of the key and uses it to quickly locate the corresponding value in the hash table.\n",
        "\n",
        "    * Benefits of using a Hash Table for Dictionaries:\n",
        "\n",
        "    * **Fast Lookups:** Hash tables provide very fast average-case time complexity for operations like insertion, deletion, and lookup (getting a value based on its key). This is often close to O(1) (constant time), making dictionaries highly efficient for these operations.\n",
        "    * **Efficient Storage:** They allow for efficient storage of data based on keys.\n",
        "    * **Requirements for Dictionary Keys:** Because dictionaries use hash tables, the keys of a dictionary must be hashable. Hashable objects have a hash value that remains constant throughout their lifetime and can be compared to other objects. Immutable data types like strings, numbers, and tuples are hashable and can be used as dictionary keys. Mutable data types like lists and sets are not hashable and cannot be used as dictionary keys.\n",
        "\n",
        "In summary, Python dictionaries are built on the concept of hash tables. The hash table implementation is what allows dictionaries to provide fast and efficient storage and retrieval of data using keys."
      ],
      "metadata": {
        "id": "efB-4kUvgLpl"
      }
    },
    {
      "cell_type": "markdown",
      "source": [
        "9.  Can lists contain different data types in Python?\n",
        "    * Yes, lists in Python can contain different data types.\n",
        "\n",
        "    * This is one of the key characteristics of Python lists – they are heterogeneous, meaning they can store elements of various types within the same list.\n",
        "\n",
        "    * This list contains an integer, a string, a float, a boolean, another list, and a dictionary, all within the same list. This flexibility makes lists very versatile in Python."
      ],
      "metadata": {
        "id": "RFpP4LNFhYv0"
      }
    },
    {
      "cell_type": "markdown",
      "source": [
        "10. Explain why strings are immutable in Python.\n",
        "    * strings are immutable in Python for several key reasons, primarily related to efficiency and how Python handles memory and object references:\n",
        "\n",
        "    * **Efficiency of Hashing (for dictionaries and sets):**\n",
        "\n",
        "    * Strings are frequently used as keys in dictionaries and elements in sets. Both dictionaries and sets rely on hashing for fast lookups.\n",
        "    * A hash value for an object is calculated based on its content. If a string were mutable, its content could change after the hash value is calculated. This would lead to incorrect hash values, making it impossible to reliably find the string in a dictionary or set.\n",
        "    * By making strings immutable, Python guarantees that the hash value of a string remains constant throughout its lifetime, enabling efficient hashing and lookup in hash-based data structures.\n",
        "    * **Memory Efficiency and Sharing:**\n",
        "\n",
        "    * When Python encounters multiple identical strings, it can often optimize memory usage by storing only one copy of the string in memory and having multiple variables refer to that same memory location. This is called \"string interning.\"\n",
        "    * If strings were mutable, this interning would be problematic. If you modified one reference to a shared string, it would affect all other references, which is usually not the desired behavior.\n",
        "    * Immutability allows Python to safely intern strings, saving memory.\n",
        "    * **Thread Safety (Simplified):**\n",
        "\n",
        "    * In multi-threaded environments, mutable objects can be a source of bugs if multiple threads try to modify the same object simultaneously.\n",
        "    * Since strings are immutable, multiple threads can safely access and read the same string without the risk of one thread changing it while another is using it. This simplifies concurrent programming with strings.\n",
        "    * **Predictability and Data Integrity:**\n",
        "\n",
        "    * Immutability ensures that once a string is created, its value is fixed. This makes code that uses strings more predictable and less prone to errors caused by unexpected changes to string values. If a function receives a string as an argument, it can be confident that the string's value won't be altered within that function.\n",
        "    * In summary, making strings immutable in Python is a design choice that contributes to the language's efficiency, especially in the context of hash-based data structures, memory management, and concurrency. While it means you can't change a string in place, operations that appear to modify strings actually create new string objects with the desired changes."
      ],
      "metadata": {
        "id": "s6qybLbAh08G"
      }
    },
    {
      "cell_type": "markdown",
      "source": [
        "11.  What advantages do dictionaries offer over lists for certain tasks?\n",
        "    * Dictionaries offer significant advantages over lists for certain tasks, primarily due to their key-value structure and how they are implemented (using hash tables). Here are some of the main advantages:\n",
        "\n",
        "    * **Fast Lookups (Retrieval of Values by Key):**\n",
        "\n",
        "    * Dictionaries provide very fast average-case time complexity (close to O(1)) for retrieving a value when you know its corresponding key. This is because of their underlying hash table implementation.\n",
        "    * In contrast, finding an element in a list requires iterating through the list (in the worst case, checking every element), which has a time complexity of O(n) where n is the number of elements.\n",
        "    * ***Advantage:*** If you frequently need to access data based on a specific identifier or label (the key), dictionaries are significantly more efficient than lists.\n",
        "    * **Meaningful Indexing (Using Keys):**\n",
        "\n",
        "    * Lists are indexed by integers (0, 1, 2, ...). Accessing elements relies on their position in the sequence.\n",
        "    * Dictionaries are indexed by keys, which can be any hashable object (like strings, numbers, or tuples). This allows you to use descriptive names or identifiers as keys, making your code more readable and understandable.\n",
        "    * ***Advantage:*** When the order of items doesn't matter as much as associating a value with a meaningful name or identifier, dictionaries are a better fit.\n",
        "    * **Easy Association of Related Data:**\n",
        "\n",
        "    * Dictionaries naturally group related data together using key-value pairs. For example, you can represent a person's attributes (name, age, city) as a dictionary where the keys are the attribute names.\n",
        "    * While you could store related data in a list (e.g., ['John Doe', 30, 'New York']), accessing and understanding the meaning of each element relies on knowing its position.\n",
        "    * ***Advantage:*** Dictionaries make it intuitive to store and retrieve data that has a clear conceptual link between a label and a value.\n",
        "    * **Checking for Key Existence:**\n",
        "\n",
        "    * Checking if a key exists in a dictionary (key in dictionary) is very efficient (average O(1)) due to hashing.\n",
        "    * Checking if an element exists in a list (item in list) can be slow (O(n)) as it might require iterating through the entire list.\n",
        "    * ***Advantage:*** If you frequently need to check if a specific piece of data (represented by a key) is present in your collection, dictionaries are much faster.\n",
        "    * In summary, you would typically choose a dictionary over a list when:\n",
        "\n",
        "    * You need fast lookups based on a key or identifier.\n",
        "    * You want to associate values with meaningful names or labels.\n",
        "    * The order of elements is not important.\n",
        "    * You need an efficient way to check for the existence of an item based on its key.\n",
        "    * Lists are better suited for ordered collections of items where the position is important and you might need to perform operations based on that order (like slicing, sorting, etc.)."
      ],
      "metadata": {
        "id": "S0ErYK5xjOi1"
      }
    },
    {
      "cell_type": "markdown",
      "source": [],
      "metadata": {
        "id": "UEED0es9160j"
      }
    },
    {
      "cell_type": "markdown",
      "source": [
        "12. Describe a scenario where using a tuple would be preferable over a list.\n",
        "    * A scenario where using a tuple would be preferable over a list is when you have a collection of items that should not change. Because tuples are immutable, they ensure data integrity by preventing accidental modification.\n",
        "\n",
        "    * For example, if you are storing the coordinates of a point (x, y), you would typically use a tuple like (10, 20). Since the coordinates of a specific point are fixed and should not be changed, a tuple is a suitable data structure. Using a list [10, 20] would allow you to accidentally change the coordinates, which might lead to errors in your program.\n",
        "\n",
        "    * Another example is storing database records. A tuple like ('John Doe', 30, 'Engineer') can represent a single record where each element represents a specific field that should not be altered after the record is created."
      ],
      "metadata": {
        "id": "3KDaUSFykwXv"
      }
    },
    {
      "cell_type": "markdown",
      "source": [
        "13. How do sets handle duplicate values in Python?\n",
        "    * Sets in Python automatically handle duplicate values by simply not allowing them. When you add elements to a set, if an element already exists in the set, the addition operation for that element is effectively ignored, and the set remains unchanged.\n",
        "\n",
        "    * Here's an example:"
      ],
      "metadata": {
        "id": "wutW8s1H_OQJ"
      }
    },
    {
      "cell_type": "code",
      "source": [
        "my_set = {1, 2, 3, 2, 4, 1}\n",
        "print(my_set)"
      ],
      "metadata": {
        "colab": {
          "base_uri": "https://localhost:8080/"
        },
        "id": "30_Qx3SY_ezY",
        "outputId": "ee1b56dc-cdd6-4752-f704-99dd36023fa5"
      },
      "execution_count": null,
      "outputs": [
        {
          "output_type": "stream",
          "name": "stdout",
          "text": [
            "{1, 2, 3, 4}\n"
          ]
        }
      ]
    },
    {
      "cell_type": "markdown",
      "source": [
        "   * When you run this code, the output will be {1, 2, 3, 4}. The duplicate values 2 and 1 are not added to the set.\n",
        "\n",
        "   * This behavior makes sets useful when you need a collection of unique items and want to easily remove duplicates from an existing collection."
      ],
      "metadata": {
        "id": "JOH_AtEkADcH"
      }
    },
    {
      "cell_type": "markdown",
      "source": [
        "14.  How does the “in” keyword work differently for lists and dictionaries?\n",
        "    * The \"in\" keyword in Python is used to check for membership within a collection. While it works similarly for lists and dictionaries in that it checks for the presence of an element, the way it performs this check and what it's checking for is different due to the underlying structure of lists and dictionaries.\n",
        "\n",
        "    * **'in' with Lists:**\n",
        "\n",
        "    * When you use the \"in\" keyword with a list, it checks if a given value exists as an element within the list.\n",
        "    * Python iterates through the list sequentially, comparing the target value with each element in the list until a match is found or the end of the list is reached.\n",
        "    * The time complexity for this operation is O(n) in the worst case, where n is the number of elements in the list, because in the worst case, the target element could be the last element or not in the list at all, requiring a full scan.\n",
        "    * Example:"
      ],
      "metadata": {
        "id": "aGz9U1qgAL00"
      }
    },
    {
      "cell_type": "code",
      "source": [
        "my_list = [1, 2, 3, 4, 5]\n",
        "print(3 in my_list)\n",
        "print(6 in my_list)"
      ],
      "metadata": {
        "colab": {
          "base_uri": "https://localhost:8080/"
        },
        "id": "jgYv4ESBAu1s",
        "outputId": "bc8bb513-0106-469b-c7f6-224525edf2f2"
      },
      "execution_count": null,
      "outputs": [
        {
          "output_type": "stream",
          "name": "stdout",
          "text": [
            "True\n",
            "False\n"
          ]
        }
      ]
    },
    {
      "cell_type": "markdown",
      "source": [
        "**'in' with Dictionaries:**\n",
        "When you use the \"in\" keyword with a dictionary, it checks if a given value exists as a key in the dictionary.\n",
        "Python uses the dictionary's underlying hash table implementation. It calculates the hash value of the target key and uses this hash value to quickly locate the potential position of the key in the hash table.\n",
        "The time complexity for this operation is O(1) on average, meaning it's very fast and the time taken does not significantly increase with the size of the dictionary. This is because hashing allows for direct access to the location where the key-value pair is stored.\n",
        "    **Example:**"
      ],
      "metadata": {
        "id": "g2Jqj-_UBWlD"
      }
    },
    {
      "cell_type": "code",
      "source": [
        "my_dict = {\"apple\": 1, \"banana\": 2, \"cherry\": 3}\n",
        "print(\"banana\" in my_dict)\n",
        "print(\"grape\" in my_dict)"
      ],
      "metadata": {
        "colab": {
          "base_uri": "https://localhost:8080/"
        },
        "id": "NffnxzOLB2Lb",
        "outputId": "b796457c-2a6a-46e3-a9c0-258694eee8ae"
      },
      "execution_count": null,
      "outputs": [
        {
          "output_type": "stream",
          "name": "stdout",
          "text": [
            "True\n",
            "False\n"
          ]
        }
      ]
    },
    {
      "cell_type": "markdown",
      "source": [
        "15.  Can you modify the elements of a tuple? Explain why or why not.\n",
        "    * No, you cannot modify the elements of a tuple after it has been created in Python.\n",
        "\n",
        "    * This is because tuples are immutable data types. Immutability means that the state of the object cannot be changed after it is created. Once a tuple is defined, its size, the elements it contains, and their order are fixed.\n",
        "\n",
        "    * **Why are tuples immutable?**\n",
        "\n",
        "    * The immutability of tuples is a deliberate design choice in Python with several advantages:\n",
        "\n",
        "    * **Data Integrity:** Immutability ensures that the data stored in a tuple remains constant. This is particularly useful for representing collections of related values that should not be accidentally altered during the program's execution, such as coordinates, database records, or configuration settings.\n",
        "    * **Hashability:** Tuples are hashable (provided all their elements are also hashable). This allows tuples to be used as keys in dictionaries and elements in sets, which require their items to have a constant hash value. If tuples were mutable, their content could change, and thus their hash value could change, breaking the functionality of dictionaries and sets.\n",
        "    * **Memory Efficiency and Sharing:** Python can sometimes optimize memory usage by sharing identical tuples in memory, similar to how it interns strings. Immutability makes this sharing safe, as modifying one reference wouldn't affect others.\n",
        "    * **Thread Safety:** In multi-threaded environments, immutable objects are inherently thread-safe because multiple threads can access and read them concurrently without the risk of one thread modifying the object while another is using it.\n",
        "    "
      ],
      "metadata": {
        "id": "f4vBUbXWB-KL"
      }
    },
    {
      "cell_type": "markdown",
      "source": [
        "16.  What is a nested dictionary, and give an example of its use case?\n",
        "    * A nested dictionary in Python is a dictionary where the values are themselves dictionaries. This allows you to create hierarchical or multi-level data structures, representing relationships between data in a more complex way than a simple key-value pair.\n",
        "\n",
        "    * Imagine organizing data where each item has sub-items, and those sub-items might have further details. Nested dictionaries are ideal for this.\n",
        "\n",
        "    * **Example of a Use Case:** Storing Information about Multiple Students and Their Courses\n",
        "\n",
        "    * Let's say you want to store information about several students. For each student, you need to record their name, age, and the courses they are enrolled in, along with the grades they received in those courses.\n",
        "    * **Use Cases:**\n",
        "    * **Readability and Meaningful Keys:** The keys (\"student1\", \"name\", \"courses\", \"Math\", etc.) provide clear context about the data you are accessing, making the structure easier to understand than relying on numerical indices in lists.\n",
        "    * **Easy Data Retrieval:** You can directly access specific pieces of information using their corresponding keys without needing to iterate through the entire structure.\n",
        "    * **Flexible Structure:** You can easily add or remove student data, courses, or other details without disrupting the overall structure, provided you maintain the key-value relationships.\n",
        "    * *Other Use cases:*\n",
        "    * Representing JSON data, which often has a hierarchical structure.\n",
        "    * Storing configuration settings with different levels of detail.\n",
        "    * Organizing product information with specifications and variations.\n",
        "    * Creating graph-like structures where nodes and their connections are represented by nested dictionaries."
      ],
      "metadata": {
        "id": "0CTJstPmDj-s"
      }
    },
    {
      "cell_type": "markdown",
      "source": [
        "17.  Describe the time complexity of accessing elements in a dictionary.\n",
        "    * The time complexity of accessing elements in a dictionary in Python is:\n",
        "    * **Hash Table Implementation:** Python dictionaries are implemented using hash tables. A hash table uses a hash function to compute an index (or a bucket) in an internal array where the key-value pair is stored.\n",
        "\n",
        "    * **Hash Function and Indexing:** When you try to access a value using a key, Python calculates the hash value of the key. This hash value is then used to quickly determine the location in the hash table where the corresponding value is expected to be found.\n",
        "\n",
        "    * **Direct Access (Average Case):** In the ideal scenario, the hash function distributes keys evenly across the hash table's buckets, and there are no collisions (different keys hashing to the same index). In this case, accessing an element is a direct lookup based on the calculated index, which takes a constant amount of time, regardless of the size of the dictionary. This is why the average-case time complexity is O(1)."
      ],
      "metadata": {
        "id": "zIU_81aoFeY_"
      }
    },
    {
      "cell_type": "markdown",
      "source": [
        "18.  In what situations are lists preferred over dictionaries?\n",
        "    * While dictionaries offer fast lookups by key, lists are preferred over dictionaries in several situations, primarily when:\n",
        "\n",
        "    * **1.The Order of Items Matters:**\n",
        "\n",
        "    * Lists maintain the order in which elements are inserted. If the sequence or position of your data is important, a list is the appropriate choice.\n",
        "    * Scenario: Storing a sequence of events in chronological order, representing a line of customers, or processing data in the order it was received.\n",
        "    * Dictionaries do not guarantee any specific order (though in recent Python versions, they remember insertion order, relying on this for critical order-dependent tasks is less robust than using a list).\n",
        "    * **2.You Need to Access Elements by Index (Position):**\n",
        "\n",
        "    * Lists are indexed by integers starting from 0. If you need to quickly access elements based on their numerical position, lists are ideal.\n",
        "    * Scenario: Accessing the first element, the last element, or a specific element at a known position. Performing slicing operations to get a range of elements.\n",
        "    * Dictionaries are indexed by keys, not numerical positions.\n",
        "    * **3.You Have a Collection of Items Where the Key is the Item Itself (and Duplicates are Allowed):**\n",
        "\n",
        "    * If you simply have a collection of items and you don't need to associate them with unique keys, a list is simpler.\n",
        "    * Scenario: Storing a list of names, a list of numbers, or a list of any objects where the items themselves are the data you're interested in.\n",
        "    * Dictionaries require a separate unique key for each value.\n",
        "    * **4.You Need to Store Duplicate Items:**\n",
        "\n",
        "    * Lists can contain duplicate elements.\n",
        "    * Scenario: Storing a list of customer orders where a customer might place multiple orders, or storing a list of votes where the same option can be voted for multiple times.\n",
        "    * Dictionaries enforce uniqueness of keys, so you cannot have duplicate keys. While you could store duplicate values, the key must be unique to access them individually.\n",
        "    * **5.You Need to Perform Operations Based on Position (like Slicing or Sorting):**\n",
        "\n",
        "    * Lists provide built-in methods for operations that rely on the ordered sequence of elements, such as slicing (extracting a sublist) and sorting.\n",
        "    * Scenario: Getting the first 5 elements of a list, reversing the order of elements, or sorting the elements alphabetically or numerically.\n",
        "    * While you can get the keys or values of a dictionary as a list-like view and then sort them, the dictionary itself is not inherently sorted by key or value.\n",
        "    * **6.You Need to Implement Stack or Queue Data Structures:**\n",
        "\n",
        "    * Lists can be easily used to implement stacks (LIFO - Last-In, First-Out) using append() and pop() or queues (FIFO - First-In, First-Out) using append() and pop(0) (though collections.deque is generally more efficient for queues).\n",
        "    * Scenario: Managing function calls (stack), processing items in the order they arrive (queue).\n",
        "    * Dictionaries are not designed for these sequential access patterns.\n",
        "    * In summary, choose a list when the order of elements is important, you need to access elements by their numerical position, you have a simple collection of items (potentially with duplicates) that don't need unique keys, or you need to perform operations that rely on the sequence of elements. Choose a dictionary when you need to associate values with unique keys for fast lookups and the order of items is not the primary concern."
      ],
      "metadata": {
        "id": "V5ArShRmGR7B"
      }
    },
    {
      "cell_type": "markdown",
      "source": [
        "19. Why are dictionaries considered unordered, and how does that affect data retrieval?\n",
        "   * In older versions of Python (prior to Python 3.7), dictionaries were considered unordered because the order in which items were stored internally and iterated over was not guaranteed to be the same as the order in which they were inserted. The internal structure of the hash table determined the storage order, which could vary.\n",
        "\n",
        "   * **How being unordered affected data retrieval (in older Python versions):**\n",
        "\n",
        "   * If you relied on the order of elements when iterating through a dictionary or accessing elements, your code might not behave consistently across different Python versions or even different runs of the same program. This meant you couldn't assume that the first element you added would be the first one you retrieved when iterating.\n",
        "\n",
        "   * **Changes in Python 3.7 and later:**\n",
        "\n",
        "   * Starting with Python 3.7, dictionaries officially preserve insertion order. This means that the order in which you add key-value pairs to a dictionary is the order in which they will be retrieved when you iterate over the dictionary.\n",
        "\n",
        "   * **How this affects data retrieval (in Python 3.7+):**\n",
        "\n",
        "   * In Python 3.7 and later, you can now reliably iterate through a dictionary and expect the elements to be in the order they were inserted. This makes it easier to work with dictionaries in situations where order is important, without needing to use alternative data structures like collections.OrderedDict.\n",
        "\n",
        "   * However, it's still important to understand the concept of \"unordered\" in the context of dictionary lookups:\n",
        "\n",
        "   * Even though dictionaries in modern Python preserve insertion order for iteration, the core mechanism for accessing elements by key still relies on the hash table, which provides average O(1) time complexity. This lookup by key is not dependent on the order of elements.\n",
        "\n",
        "   * When you use my_dict[key], Python calculates the hash of the key to quickly find the value's location in the hash table. The position of the element in the hash table is determined by the hash function, not by the insertion order. The insertion order is maintained separately for iteration purposes.\n",
        "\n",
        "   * In summary:\n",
        "\n",
        "   * **Historically (Python < 3.7):** Dictionaries were unordered, meaning the order of elements was not guaranteed. This could affect data retrieval if you relied on iteration order.\n",
        "   * **Modern Python (Python 3.7+):** Dictionaries preserve insertion order for iteration. You can rely on the order of elements when iterating.\n",
        "   * **Key Lookups:** The primary mechanism for accessing elements by key in dictionaries is still based on hashing and is, on average, O(1), regardless of insertion order.\n",
        "   * So, while modern dictionaries maintain order for iteration, their fundamental advantage for fast lookups comes from their hash table implementation, which is not dependent on the order of elements. You still use keys to access data directly and efficiently."
      ],
      "metadata": {
        "id": "yj8hEu9WH6Pi"
      }
    },
    {
      "cell_type": "markdown",
      "source": [
        "20. Explain the difference between a list and a dictionary in terms of data retrieval.\n",
        "   * The primary difference between lists and dictionaries in terms of data retrieval lies in how you identify and access the data you want to retrieve.\n",
        "\n",
        "   * **Lists:**\n",
        "\n",
        "   * Data Retrieval Method: You retrieve data from a list using its numerical index (position).\n",
        "   * Indexing: List elements are accessed using zero-based integer indices (0 for the first element, 1 for the second, and so on). You specify the position of the element you want to retrieve.\n",
        "   * Example: my_list[0] retrieves the first element. my_list[2] retrieves the third element.\n",
        "   * Efficiency: Accessing elements by index in a list is generally very fast, typically O(1) on average. This is because the position in memory of each element can be calculated directly from its index.\n",
        "   * Use Case for Retrieval: Lists are efficient for retrieving data when you know the position of the element or when you need to access elements in a sequential manner (e.g., iterating through the list).\n",
        "\n",
        "   * **Dictionaries:**\n",
        "\n",
        "   * Data Retrieval Method: You retrieve data from a dictionary using its unique key. Keys act as labels or identifiers for the associated values.\n",
        "   * Indexing: Dictionary elements are accessed using their corresponding keys. The keys can be various immutable data types like strings, numbers, or tuples.\n",
        "   * Example: my_dict[\"name\"] retrieves the value associated with the key \"name\". my_dict[10] retrieves the value associated with the key 10.\n",
        "   * Efficiency: Accessing elements by key in a dictionary is exceptionally fast, averaging O(1). This speed comes from the underlying hash table implementation, which allows for rapid location of the value based on the key's hash value.\n",
        "   * Use Case for Retrieval: Dictionaries are designed for fast lookups of data based on a specific identifier (the key). They are ideal when you need to quickly retrieve a piece of information associated with a known label, and the position of the data doesn't matter.\n",
        "\n",
        "   * *In Simple Terms:*\n",
        "\n",
        "   * Think of a List like a numbered list: To find something, you go to its number.\n",
        "   * Think of a Dictionary like a physical dictionary or phone book: To find something, you look up the word (key) to find its definition (value)."
      ],
      "metadata": {
        "id": "GhJHX-ewKq70"
      }
    },
    {
      "cell_type": "markdown",
      "source": [
        "##Practical Questions"
      ],
      "metadata": {
        "id": "pkc4EBe1qUUQ"
      }
    },
    {
      "cell_type": "code",
      "source": [
        "#1.Write a code to create a string with your name and print it.\n",
        "my_name = \"Sunaina Mishra\"\n",
        "print(my_name)"
      ],
      "metadata": {
        "colab": {
          "base_uri": "https://localhost:8080/"
        },
        "id": "nvZqtjXWqY-c",
        "outputId": "6b0b773d-0211-4450-a18b-4d9c1ff22bcc"
      },
      "execution_count": 1,
      "outputs": [
        {
          "output_type": "stream",
          "name": "stdout",
          "text": [
            "Sunaina Mishra\n"
          ]
        }
      ]
    },
    {
      "cell_type": "code",
      "source": [
        "#2.Write a code to find the length of the string \"Hello World\".\n",
        "my_string = \"Hello World\"\n",
        "string_length = len(my_string)\n",
        "print(string_length)"
      ],
      "metadata": {
        "colab": {
          "base_uri": "https://localhost:8080/"
        },
        "id": "0mKIQUffqTx9",
        "outputId": "e6ceaad3-0142-497a-ef2d-f5f6128e5d2c"
      },
      "execution_count": 2,
      "outputs": [
        {
          "output_type": "stream",
          "name": "stdout",
          "text": [
            "11\n"
          ]
        }
      ]
    },
    {
      "cell_type": "code",
      "execution_count": 3,
      "metadata": {
        "id": "SC8EcFysGtoR",
        "colab": {
          "base_uri": "https://localhost:8080/"
        },
        "outputId": "d1a53b59-38b1-4fc9-f5f9-d0a0df73b9fa"
      },
      "outputs": [
        {
          "output_type": "stream",
          "name": "stdout",
          "text": [
            "Pyt\n"
          ]
        }
      ],
      "source": [
        "#3.Write a code to slice the first 3 characters from the string \"Python Programming\".\n",
        "my_string = \"Python Programming\"\n",
        "sliced_string = my_string[:3]\n",
        "print(sliced_string)"
      ]
    },
    {
      "cell_type": "code",
      "source": [
        "#4. Write a code to convert the string \"hello\" to uppercase.\n",
        "my_string = \"hello\"\n",
        "uppercase_string = my_string.upper()\n",
        "print(uppercase_string)"
      ],
      "metadata": {
        "colab": {
          "base_uri": "https://localhost:8080/"
        },
        "id": "vkIzMuUZrFwX",
        "outputId": "0553f7a0-41fb-461d-80f0-9701a5859d5b"
      },
      "execution_count": 4,
      "outputs": [
        {
          "output_type": "stream",
          "name": "stdout",
          "text": [
            "HELLO\n"
          ]
        }
      ]
    },
    {
      "cell_type": "code",
      "source": [
        "#5.Write a code to replace the word \"apple\" with \"orange\" in the string \"I like apple\".\n",
        "my_string = \"I like apple\"\n",
        "new_string = my_string.replace(\"apple\", \"orange\")\n",
        "print(new_string)"
      ],
      "metadata": {
        "colab": {
          "base_uri": "https://localhost:8080/"
        },
        "id": "ZosVljaDrToO",
        "outputId": "fda0d6b5-7bd0-4938-a4f4-5b1cb147959c"
      },
      "execution_count": 5,
      "outputs": [
        {
          "output_type": "stream",
          "name": "stdout",
          "text": [
            "I like orange\n"
          ]
        }
      ]
    },
    {
      "cell_type": "code",
      "source": [
        "#6.Write a code to create a list with numbers 1 to 5 and print it.\n",
        "my_list = [1, 2, 3, 4, 5]\n",
        "print(my_list)"
      ],
      "metadata": {
        "colab": {
          "base_uri": "https://localhost:8080/"
        },
        "id": "oKEgK2ebrfaO",
        "outputId": "372fe786-3526-4eb2-ee54-cb37313b04de"
      },
      "execution_count": 6,
      "outputs": [
        {
          "output_type": "stream",
          "name": "stdout",
          "text": [
            "[1, 2, 3, 4, 5]\n"
          ]
        }
      ]
    },
    {
      "cell_type": "code",
      "source": [
        "#7. Write a code to append the number 10 to the list [1, 2, 3, 4].\n",
        "my_list = [1, 2, 3, 4]\n",
        "my_list.append(10)\n",
        "print(my_list)"
      ],
      "metadata": {
        "colab": {
          "base_uri": "https://localhost:8080/"
        },
        "id": "JoEPHHIRrnxi",
        "outputId": "0ce6ba64-5a75-47a1-99af-8b9b56946a37"
      },
      "execution_count": 7,
      "outputs": [
        {
          "output_type": "stream",
          "name": "stdout",
          "text": [
            "[1, 2, 3, 4, 10]\n"
          ]
        }
      ]
    },
    {
      "cell_type": "code",
      "source": [
        "#8. Write a code to remove the number 3 from the list [1, 2, 3, 4, 5].\n",
        "my_list = [1, 2, 3, 4, 5]\n",
        "my_list.remove(3)\n",
        "print(my_list)"
      ],
      "metadata": {
        "colab": {
          "base_uri": "https://localhost:8080/"
        },
        "id": "SvhIMxKur1Qu",
        "outputId": "ee486290-2ea5-4ed1-9474-cd9ceca9d40d"
      },
      "execution_count": 8,
      "outputs": [
        {
          "output_type": "stream",
          "name": "stdout",
          "text": [
            "[1, 2, 4, 5]\n"
          ]
        }
      ]
    },
    {
      "cell_type": "code",
      "source": [
        "#9. Write a code to access the second element in the list ['a', 'b', 'c', 'd'].\n",
        "my_list = ['a', 'b', 'c', 'd']\n",
        "second_element = my_list[1]\n",
        "print(second_element)"
      ],
      "metadata": {
        "colab": {
          "base_uri": "https://localhost:8080/"
        },
        "id": "JHrSCzBSsB7l",
        "outputId": "e835fe11-bd63-455a-e394-eac5f840307a"
      },
      "execution_count": 9,
      "outputs": [
        {
          "output_type": "stream",
          "name": "stdout",
          "text": [
            "b\n"
          ]
        }
      ]
    },
    {
      "cell_type": "code",
      "source": [
        "#10. Write a code to reverse the list [10, 20, 30, 40, 50].\n",
        "my_list = [10, 20, 30, 40, 50]\n",
        "my_list.reverse()\n",
        "print(my_list)"
      ],
      "metadata": {
        "colab": {
          "base_uri": "https://localhost:8080/"
        },
        "id": "5nHEagjtsPDJ",
        "outputId": "cbba87b6-4645-4a66-e4d1-486acadbdba2"
      },
      "execution_count": 15,
      "outputs": [
        {
          "output_type": "stream",
          "name": "stdout",
          "text": [
            "[50, 40, 30, 20, 10]\n"
          ]
        }
      ]
    },
    {
      "cell_type": "code",
      "source": [
        "#11. Write a code to create a tuple with the elements 100, 200, 300 and print it.\n",
        "my_tuple = (100,200,300)\n",
        "print(my_tuple)"
      ],
      "metadata": {
        "colab": {
          "base_uri": "https://localhost:8080/"
        },
        "id": "lIyfRL7MslM3",
        "outputId": "55337753-5ee8-440f-d8e3-652bca2f3d17"
      },
      "execution_count": 16,
      "outputs": [
        {
          "output_type": "stream",
          "name": "stdout",
          "text": [
            "(100, 200, 300)\n"
          ]
        }
      ]
    },
    {
      "cell_type": "code",
      "source": [
        "#12. Write a code to access the second-to-last element of the tuple ('red', 'green', 'blue', 'yellow')\n",
        "my_tuple = ('red', 'green', 'blue', 'yellow')\n",
        "second_to_last_element = my_tuple[-2]\n",
        "print(second_to_last_element)\n"
      ],
      "metadata": {
        "colab": {
          "base_uri": "https://localhost:8080/"
        },
        "id": "ZhGFYFeDtOcC",
        "outputId": "b20ee0cd-c418-49af-8f4c-eea32b2c9f8b"
      },
      "execution_count": 17,
      "outputs": [
        {
          "output_type": "stream",
          "name": "stdout",
          "text": [
            "blue\n"
          ]
        }
      ]
    },
    {
      "cell_type": "code",
      "source": [
        "#13. Write a code to find the minimum number in the tuple (10, 20, 5, 15).\n",
        "my_tuple = (10, 20, 5, 15)\n",
        "minimum_number = min(my_tuple)\n",
        "print(minimum_number)"
      ],
      "metadata": {
        "colab": {
          "base_uri": "https://localhost:8080/"
        },
        "id": "MwyaDQY-to0v",
        "outputId": "628e8ba7-bdf0-4e6a-936d-64211bf95b1c"
      },
      "execution_count": 18,
      "outputs": [
        {
          "output_type": "stream",
          "name": "stdout",
          "text": [
            "5\n"
          ]
        }
      ]
    },
    {
      "cell_type": "code",
      "source": [
        "#14. Write a code to find the index of the element \"cat\" in the tuple ('dog', 'cat', 'rabbit').\n",
        "my_tuple = ('dog', 'cat', 'rabbit')\n",
        "index_of_cat = my_tuple.index('cat')\n",
        "print(index_of_cat)\n"
      ],
      "metadata": {
        "colab": {
          "base_uri": "https://localhost:8080/"
        },
        "id": "-e6fXtmaup9p",
        "outputId": "88b32d80-5c93-4659-ecdc-0c65b53bd265"
      },
      "execution_count": 19,
      "outputs": [
        {
          "output_type": "stream",
          "name": "stdout",
          "text": [
            "1\n"
          ]
        }
      ]
    },
    {
      "cell_type": "code",
      "source": [
        "#15. Write a code to create a tuple containing three different fruits and check if \"kiwi\" is in it.\n",
        "my_tuple = ('apple', 'banana', 'cherry')\n",
        "is_kiwi_in_tuple = 'kiwi' in my_tuple\n",
        "print(is_kiwi_in_tuple)"
      ],
      "metadata": {
        "colab": {
          "base_uri": "https://localhost:8080/"
        },
        "id": "UJnDCH2vu8co",
        "outputId": "cba4f627-882e-4580-d60f-541642859aa7"
      },
      "execution_count": 20,
      "outputs": [
        {
          "output_type": "stream",
          "name": "stdout",
          "text": [
            "False\n"
          ]
        }
      ]
    },
    {
      "cell_type": "code",
      "source": [
        "#16. Write a code to create a set with the elements 'a', 'b', 'c' and print it.\n",
        "my_set = {'a','b','c'}\n",
        "print(my_set)"
      ],
      "metadata": {
        "colab": {
          "base_uri": "https://localhost:8080/"
        },
        "id": "TDbbhrnbvREE",
        "outputId": "a8f71f73-0ce4-4776-cefb-4aa667703e1d"
      },
      "execution_count": 22,
      "outputs": [
        {
          "output_type": "stream",
          "name": "stdout",
          "text": [
            "{'a', 'b', 'c'}\n"
          ]
        }
      ]
    },
    {
      "cell_type": "code",
      "source": [
        "#17. Write a code to clear all elements from the set {1, 2, 3, 4, 5}.\n",
        "my_set = {1, 2, 3, 4, 5}\n",
        "my_set.clear()\n",
        "print(my_set)"
      ],
      "metadata": {
        "colab": {
          "base_uri": "https://localhost:8080/"
        },
        "id": "l751mK4Qvqv6",
        "outputId": "bb7ecb3f-fa8f-4854-c1da-fe4b8415d0d2"
      },
      "execution_count": 23,
      "outputs": [
        {
          "output_type": "stream",
          "name": "stdout",
          "text": [
            "set()\n"
          ]
        }
      ]
    },
    {
      "cell_type": "code",
      "source": [
        "#18. Write a code to remove the element 4 from the set {1, 2, 3, 4}.\n",
        "my_set = {1, 2, 3, 4}\n",
        "my_set.remove(4)\n",
        "print(my_set)"
      ],
      "metadata": {
        "colab": {
          "base_uri": "https://localhost:8080/"
        },
        "id": "WvQnE8yvwI-m",
        "outputId": "f4cbd2bc-e377-46a3-ba79-2517090c9ae6"
      },
      "execution_count": 24,
      "outputs": [
        {
          "output_type": "stream",
          "name": "stdout",
          "text": [
            "{1, 2, 3}\n"
          ]
        }
      ]
    },
    {
      "cell_type": "code",
      "source": [
        "#19. Write a code to find the union of two sets {1, 2, 3} and {3, 4, 5}.\n",
        "my_set1 = {'1','2','3'}\n",
        "my_set2 = {'3','4','5'}\n",
        "my_union = my_set1.union(my_set2)\n",
        "print(my_union)\n"
      ],
      "metadata": {
        "colab": {
          "base_uri": "https://localhost:8080/"
        },
        "id": "cAvb_78awTKY",
        "outputId": "893926d9-2a10-4134-abc5-24aaeb82b972"
      },
      "execution_count": 25,
      "outputs": [
        {
          "output_type": "stream",
          "name": "stdout",
          "text": [
            "{'4', '5', '3', '1', '2'}\n"
          ]
        }
      ]
    },
    {
      "cell_type": "code",
      "source": [
        "#20.  Write a code to find the intersection of two sets {1, 2, 3} and {2, 3, 4}.\n",
        "my_set1 = {1, 2, 3}\n",
        "my_set2 = {2, 3, 4}\n",
        "my_intersection = my_set1.intersection(my_set2)\n",
        "print(my_intersection)"
      ],
      "metadata": {
        "colab": {
          "base_uri": "https://localhost:8080/"
        },
        "id": "TR4OlSZWxbAz",
        "outputId": "825ce51f-aaee-4334-eecc-18291a9896af"
      },
      "execution_count": 26,
      "outputs": [
        {
          "output_type": "stream",
          "name": "stdout",
          "text": [
            "{2, 3}\n"
          ]
        }
      ]
    },
    {
      "cell_type": "code",
      "source": [
        "#21. Write a code to create a dictionary with the keys \"name\", \"age\", and \"city\", and print it.\n",
        "my_dict = {\"name\": \"Sunaina\", \"age\": 20, \"city\": \"New Delhi\"}\n",
        "print(my_dict)\n"
      ],
      "metadata": {
        "colab": {
          "base_uri": "https://localhost:8080/"
        },
        "id": "RkGCjoLhxqOs",
        "outputId": "5a4c332a-12b7-4f22-b04d-520b4391c07c"
      },
      "execution_count": 27,
      "outputs": [
        {
          "output_type": "stream",
          "name": "stdout",
          "text": [
            "{'name': 'Sunaina', 'age': 20, 'city': 'New Delhi'}\n"
          ]
        }
      ]
    },
    {
      "cell_type": "code",
      "source": [
        "#22. Write a code to add a new key-value pair \"country\": \"USA\" to the dictionary {'name': 'John', 'age': 25}.\n",
        "my_dict = {\"country\" : \"USA\"}\n",
        "my_dict[\"name\"] = \"John\"\n",
        "my_dict[\"age\"] = 25\n",
        "print(my_dict)\n"
      ],
      "metadata": {
        "colab": {
          "base_uri": "https://localhost:8080/"
        },
        "id": "UhZlaydRz2wG",
        "outputId": "657431c7-a977-4a38-9180-b0acc6e31b52"
      },
      "execution_count": 28,
      "outputs": [
        {
          "output_type": "stream",
          "name": "stdout",
          "text": [
            "{'country': 'USA', 'name': 'John', 'age': 25}\n"
          ]
        }
      ]
    },
    {
      "cell_type": "code",
      "source": [
        "#23. Write a code to access the value associated with the key \"name\" in the dictionary {'name': 'Alice', 'age': 30}.\n",
        "my_dict = {'name': 'Alice', 'age': 30}\n",
        "name_value = my_dict[\"name\"]\n",
        "print(name_value)"
      ],
      "metadata": {
        "colab": {
          "base_uri": "https://localhost:8080/"
        },
        "id": "ncXxJFdv0JPf",
        "outputId": "b5498f25-a079-4308-d15b-55a864410724"
      },
      "execution_count": 30,
      "outputs": [
        {
          "output_type": "stream",
          "name": "stdout",
          "text": [
            "Alice\n"
          ]
        }
      ]
    },
    {
      "cell_type": "code",
      "source": [
        "#24. Write a code to remove the key \"age\" from the dictionary {'name': 'Bob', 'age': 22, 'city': 'New York'}.\n",
        "my_dict = {'name': 'Bob', 'age': 22, 'city': 'New York'}\n",
        "del my_dict[\"age\"]\n",
        "print(my_dict)"
      ],
      "metadata": {
        "colab": {
          "base_uri": "https://localhost:8080/"
        },
        "id": "5y0sI3Rs01eH",
        "outputId": "b7e1e996-2933-44da-ab2a-af7b854b2a6e"
      },
      "execution_count": 31,
      "outputs": [
        {
          "output_type": "stream",
          "name": "stdout",
          "text": [
            "{'name': 'Bob', 'city': 'New York'}\n"
          ]
        }
      ]
    },
    {
      "cell_type": "code",
      "source": [
        "#25.Write a code to check if the key \"city\" exists in the dictionary {'name': 'Alice', 'city': 'Paris'}\n",
        "my_dict = {'name': 'Alice', 'city': 'Paris'}\n",
        "city_exists = \"city\" in my_dict\n",
        "print(city_exists)"
      ],
      "metadata": {
        "colab": {
          "base_uri": "https://localhost:8080/"
        },
        "id": "HT4Iyk1N1aEg",
        "outputId": "29ac43d1-5c19-48b9-c48b-8a76e4bb894c"
      },
      "execution_count": 32,
      "outputs": [
        {
          "output_type": "stream",
          "name": "stdout",
          "text": [
            "True\n"
          ]
        }
      ]
    },
    {
      "cell_type": "code",
      "source": [
        "#26. Write a code to create a list, a tuple, and a dictionary, and print them all.\n",
        "my_list = [1,2,3]\n",
        "my_tuple = (4,5,6)\n",
        "my_dict = {\"name\": \"Sunaina\", \"age\": 20, \"city\": \"New Delhi\"}\n",
        "print(my_list)\n",
        "print(my_tuple)\n",
        "print(my_dict)\n"
      ],
      "metadata": {
        "colab": {
          "base_uri": "https://localhost:8080/"
        },
        "id": "46TClKzd10gF",
        "outputId": "d4afa5a0-dc93-4eb5-beae-88dffed40655"
      },
      "execution_count": 33,
      "outputs": [
        {
          "output_type": "stream",
          "name": "stdout",
          "text": [
            "[1, 2, 3]\n",
            "(4, 5, 6)\n",
            "{'name': 'Sunaina', 'age': 20, 'city': 'New Delhi'}\n"
          ]
        }
      ]
    },
    {
      "cell_type": "code",
      "source": [
        "#27. Write a code to create a list of 5 random numbers between 1 and 100, sort it in ascending order, and print the result.(replaced)\n",
        "my_list = [3,33,12,66]\n",
        "my_list.sort()\n",
        "print(my_list)\n",
        "\n"
      ],
      "metadata": {
        "colab": {
          "base_uri": "https://localhost:8080/"
        },
        "id": "VfZE4Idm2M7t",
        "outputId": "7740f435-6d2a-43a9-e10b-1b9fef678b06"
      },
      "execution_count": 36,
      "outputs": [
        {
          "output_type": "stream",
          "name": "stdout",
          "text": [
            "[3, 12, 33, 66]\n"
          ]
        }
      ]
    },
    {
      "cell_type": "code",
      "source": [
        "#28. Write a code to create a list with strings and print the element at the third index.\n",
        "my_list = ['apple', 'banana', 'cherry', 'date', 'elderberry']\n",
        "third_element = my_list[2]\n",
        "print(third_element)\n"
      ],
      "metadata": {
        "colab": {
          "base_uri": "https://localhost:8080/"
        },
        "id": "dORnh1LR3KKH",
        "outputId": "64dd81b0-dd24-49d7-8022-142b634a2199"
      },
      "execution_count": 37,
      "outputs": [
        {
          "output_type": "stream",
          "name": "stdout",
          "text": [
            "cherry\n"
          ]
        }
      ]
    },
    {
      "cell_type": "code",
      "source": [
        "#29. Write a code to combine two dictionaries into one and print the result.\n",
        "my_dict1 = {'name': 'Alice', 'age': 30}\n",
        "my_dict2 = {'city': 'Paris', 'country': 'France'}\n",
        "combined_dict = {**my_dict1, **my_dict2}\n",
        "print(combined_dict)"
      ],
      "metadata": {
        "colab": {
          "base_uri": "https://localhost:8080/"
        },
        "id": "ZNkSUN_J3jTN",
        "outputId": "21765723-92ad-4537-e6f1-d4bf4369230d"
      },
      "execution_count": 38,
      "outputs": [
        {
          "output_type": "stream",
          "name": "stdout",
          "text": [
            "{'name': 'Alice', 'age': 30, 'city': 'Paris', 'country': 'France'}\n"
          ]
        }
      ]
    },
    {
      "cell_type": "code",
      "source": [
        "#30. Write a code to convert a list of strings into a set.\n",
        "my_list = ['apple', 'banana', 'cherry', 'date', 'elderberry']\n",
        "my_set = set(my_list)\n",
        "print(my_set)\n"
      ],
      "metadata": {
        "colab": {
          "base_uri": "https://localhost:8080/"
        },
        "id": "p5gH_h_j3tv0",
        "outputId": "77f831f3-39ec-4202-9852-f538b99f1143"
      },
      "execution_count": 39,
      "outputs": [
        {
          "output_type": "stream",
          "name": "stdout",
          "text": [
            "{'cherry', 'elderberry', 'date', 'banana', 'apple'}\n"
          ]
        }
      ]
    },
    {
      "cell_type": "code",
      "source": [],
      "metadata": {
        "id": "5k-_i_Fy30_-"
      },
      "execution_count": null,
      "outputs": []
    }
  ]
}