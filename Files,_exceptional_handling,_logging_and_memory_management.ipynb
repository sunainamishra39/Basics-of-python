{
  "nbformat": 4,
  "nbformat_minor": 0,
  "metadata": {
    "colab": {
      "provenance": [],
      "authorship_tag": "ABX9TyO0NLZaCEOFuZnF8Z0+DM3j",
      "include_colab_link": true
    },
    "kernelspec": {
      "name": "python3",
      "display_name": "Python 3"
    },
    "language_info": {
      "name": "python"
    }
  },
  "cells": [
    {
      "cell_type": "markdown",
      "metadata": {
        "id": "view-in-github",
        "colab_type": "text"
      },
      "source": [
        "<a href=\"https://colab.research.google.com/github/sunainamishra39/Basics-of-python/blob/main/Files%2C_exceptional_handling%2C_logging_and_memory_management.ipynb\" target=\"_parent\"><img src=\"https://colab.research.google.com/assets/colab-badge.svg\" alt=\"Open In Colab\"/></a>"
      ]
    },
    {
      "cell_type": "markdown",
      "source": [
        "#Theoretical questions"
      ],
      "metadata": {
        "id": "sQFz-LTsfA5T"
      }
    },
    {
      "cell_type": "markdown",
      "source": [
        "1. What is the difference between interpreted and compiled languages?\n",
        "* The main difference between interpreted and compiled languages lies in when and how the code is translated into machine-readable instructions.\n",
        "\n",
        "* Compiled languages are translated entirely into machine code before execution. This process creates an executable file that can be run directly by the computer. Think of it like translating a whole book before you start reading it.\n",
        "* Interpreted languages are translated line by line into machine code during execution. An interpreter reads and executes the code simultaneously. This is like reading a sentence and translating it on the spot."
      ],
      "metadata": {
        "id": "u77urcENfLXa"
      }
    },
    {
      "cell_type": "markdown",
      "metadata": {
        "id": "49f8b6d4"
      },
      "source": [
        "2. What is exception handling in Python?\n",
        "\n",
        "Exception handling is a mechanism in Python to manage errors that occur during the execution of a program. These errors, called exceptions, disrupt the normal flow of the program's instructions. Exception handling allows you to gracefully deal with these errors instead of the program crashing.\n",
        "\n",
        "The main constructs for exception handling in Python are:\n",
        "\n",
        "*   **`try`**: This block contains the code that might raise an exception.\n",
        "*   **`except`**: This block is executed if a specific exception occurs within the `try` block. You can specify the type of exception to catch.\n",
        "*   **`else`**: This block is executed if no exception occurs in the `try` block.\n",
        "*   **`finally`**: This block is always executed, regardless of whether an exception occurred or not. It's often used for cleanup operations (like closing files).\n",
        "\n",
        "Here's a basic example:"
      ]
    },
    {
      "cell_type": "code",
      "metadata": {
        "id": "3fbaf8af"
      },
      "source": [
        "try:\n",
        "  # Code that might raise an exception\n",
        "  result = 10 / 0\n",
        "  print(result)\n",
        "except ZeroDivisionError:\n",
        "  # Code to handle the exception\n",
        "  print(\"Error: Cannot divide by zero!\")\n",
        "finally:\n",
        "  # Code that always executes\n",
        "  print(\"This will always print.\")"
      ],
      "execution_count": null,
      "outputs": []
    },
    {
      "cell_type": "markdown",
      "metadata": {
        "id": "a0146720"
      },
      "source": [
        "In this example, the code inside the `try` block attempts to divide by zero, which raises a `ZeroDivisionError`. The `except ZeroDivisionError` block catches this specific exception and prints an error message. The `finally` block always executes, printing \"This will always print.\""
      ]
    },
    {
      "cell_type": "markdown",
      "source": [
        "3.  What is the purpose of the finally block in exception handling?\n",
        "* The finally block in exception handling in Python is used to define actions that must be executed regardless of whether an exception occurred in the try block or not. It's typically used for cleanup operations, such as closing files, releasing resources, or ensuring that certain actions are performed before exiting a function or program, even if an error occurred."
      ],
      "metadata": {
        "id": "UZJIPdZ-gDu2"
      }
    },
    {
      "cell_type": "markdown",
      "metadata": {
        "id": "7d6e2613"
      },
      "source": [
        "4.  What is logging in Python?\n",
        "## Logging in Python\n",
        "\n",
        "Logging is a way to record events that happen while your program is running. It's incredibly useful for understanding what your code is doing, especially when debugging issues or monitoring the application in production.\n",
        "\n",
        "Python's standard library includes a powerful `logging` module that provides a flexible and extensible framework for logging.\n",
        "\n",
        "Key concepts in Python's `logging` module:\n",
        "\n",
        "*   **Loggers**: These are the objects you interact with directly to create log messages. You can have multiple loggers in an application, often organized hierarchically.\n",
        "*   **Handlers**: These determine where log messages are sent (e.g., to the console, a file, a database, etc.).\n",
        "*   **Formatters**: These specify the layout of log messages (e.g., including timestamps, log levels, message content, etc.).\n",
        "*   **Levels**: Log levels indicate the severity of a log message. Common levels include `DEBUG`, `INFO`, `WARNING`, `ERROR`, and `CRITICAL`.\n",
        "\n",
        "Here's a simple example of how to use the `logging` module:"
      ]
    },
    {
      "cell_type": "code",
      "metadata": {
        "id": "f87426c0"
      },
      "source": [
        "import logging\n",
        "\n",
        "# Configure logging\n",
        "logging.basicConfig(level=logging.INFO, format='%(asctime)s - %(levelname)s - %(message)s')\n",
        "\n",
        "# Log messages with different levels\n",
        "logging.debug('This is a debug message')\n",
        "logging.info('This is an info message')\n",
        "logging.warning('This is a warning message')\n",
        "logging.error('This is an error message')\n",
        "logging.critical('This is a critical message')"
      ],
      "execution_count": null,
      "outputs": []
    },
    {
      "cell_type": "markdown",
      "metadata": {
        "id": "6ceb706f"
      },
      "source": [
        "In this example:\n",
        "\n",
        "1.  We import the `logging` module.\n",
        "2.  `logging.basicConfig()` is used to configure the root logger. We set the logging level to `INFO`, which means messages with a severity of `INFO` or higher will be processed. We also define a format for the log messages.\n",
        "3.  We then use different logging functions (`logging.debug`, `logging.info`, etc.) to create log messages with various severity levels. Because the level is set to `INFO`, the debug message will not be displayed in the output.\n",
        "\n",
        "This is just a basic introduction. The `logging` module offers many more advanced features for customizing loggers, handlers, and formatters to fit your specific needs."
      ]
    },
    {
      "cell_type": "markdown",
      "metadata": {
        "id": "5485f9ab"
      },
      "source": [
        "5. What is the significance of the __del__ method in Python?\n",
        "## The `__del__` Method in Python\n",
        "\n",
        "The `__del__` method in Python, often referred to as the destructor, is a special method that is called when an object is about to be destroyed or garbage collected. It's primarily used for cleanup operations that need to be performed before an object's memory is reclaimed.\n",
        "\n",
        "Here's a breakdown of its significance:\n",
        "\n",
        "*   **Resource Management:** The most common use case for `__del__` is to release external resources that the object might be holding. This could include closing files, network connections, database connections, or releasing locks. While Python's garbage collector often handles memory management automatically, it doesn't necessarily manage external resources.\n",
        "*   **Cleanup Operations:** You can use `__del__` to perform any necessary cleanup actions before an object is removed from memory. This could involve removing temporary files, unregistering callbacks, or performing any other finalization tasks.\n",
        "*   **Unpredictable Timing:** It's important to note that the exact timing of when `__del__` is called is not guaranteed. Python's garbage collector runs when it determines that an object is no longer reachable. This can happen at various times during the program's execution, and in some cases, `__del__` might not be called at all (e.g., if the program exits abruptly).\n",
        "*   **Avoidance When Possible:** Due to the unpredictable nature of its execution, it's generally recommended to avoid relying heavily on `__del__` for critical cleanup tasks. Often, using context managers (`with` statements) or explicit cleanup methods is a more reliable approach for resource management.\n",
        "\n",
        "Here's a simple example demonstrating `__del__`:"
      ]
    },
    {
      "cell_type": "code",
      "metadata": {
        "id": "42b65656"
      },
      "source": [
        "class MyResource:\n",
        "  def __init__(self, name):\n",
        "    self.name = name\n",
        "    print(f\"Resource '{self.name}' created.\")\n",
        "\n",
        "  def __del__(self):\n",
        "    print(f\"Resource '{self.name}' is being destroyed.\")\n",
        "\n",
        "# Create an object\n",
        "resource1 = MyResource(\"File Handle\")\n",
        "\n",
        "# When resource1 is no longer referenced, __del__ might be called\n",
        "resource2 = MyResource(\"Network Connection\")\n",
        "\n",
        "# Explicitly deleting a reference might trigger __del__ sooner\n",
        "del resource1\n",
        "\n",
        "print(\"Program finished.\")"
      ],
      "execution_count": null,
      "outputs": []
    },
    {
      "cell_type": "markdown",
      "metadata": {
        "id": "f2ef5927"
      },
      "source": [
        "In this example, when the `MyResource` objects are created, their `__init__` method is called. When the reference to `resource1` is explicitly deleted using `del resource1`, the `__del__` method for that object is likely to be called, indicating that the resource is being destroyed. The `__del__` method for `resource2` will be called when the program finishes and the object is garbage collected.\n",
        "\n",
        "Again, rely on `__del__` with caution due to its non-deterministic nature."
      ]
    },
    {
      "cell_type": "markdown",
      "metadata": {
        "id": "e39b7354"
      },
      "source": [
        "6. What is the difference between import and from ... import in Python?\n",
        "## Difference between `import` and `from ... import` in Python\n",
        "\n",
        "Both `import` and `from ... import` are used to bring modules into your Python script, but they differ in how you access the contents of the imported module.\n",
        "\n",
        "**`import module_name`**\n",
        "\n",
        "When you use `import module_name`, the module itself is imported, and you need to use the module name followed by a dot (`.`) to access its contents.\n",
        "\n",
        "*   **Pros:**\n",
        "    *   Avoids naming conflicts if you import multiple modules with similar function or variable names.\n",
        "    *   Clearly indicates which module a function or variable belongs to, improving code readability.\n",
        "*   **Cons:**\n",
        "    *   Can make your code slightly more verbose as you need to prefix everything with the module name.\n",
        "\n",
        "**Example:**"
      ]
    },
    {
      "cell_type": "code",
      "metadata": {
        "id": "7bd61795"
      },
      "source": [
        "import math\n",
        "\n",
        "# Accessing functions using the module name\n",
        "print(math.sqrt(16))\n",
        "print(math.pi)"
      ],
      "execution_count": null,
      "outputs": []
    },
    {
      "cell_type": "markdown",
      "metadata": {
        "id": "15b449ea"
      },
      "source": [
        "**`from module_name import object_name`**\n",
        "\n",
        "When you use `from module_name import object_name`, you import specific objects (functions, classes, variables) directly into your current namespace. You can then use these objects without the module name prefix.\n",
        "\n",
        "*   **Pros:**\n",
        "    *   Can make your code more concise.\n",
        "    *   Allows you to import only the specific objects you need, potentially reducing memory usage (though this is less significant for small scripts).\n",
        "*   **Cons:**\n",
        "    *   Can lead to naming conflicts if you import objects with the same name from different modules.\n",
        "    *   Makes it less obvious which module an object came from, potentially reducing code readability, especially in larger programs.\n",
        "\n",
        "**Example:**"
      ]
    },
    {
      "cell_type": "code",
      "metadata": {
        "id": "8d367221"
      },
      "source": [
        "from math import sqrt, pi\n",
        "\n",
        "# Accessing functions directly\n",
        "print(sqrt(25))\n",
        "print(pi)"
      ],
      "execution_count": null,
      "outputs": []
    },
    {
      "cell_type": "markdown",
      "metadata": {
        "id": "5a19822b"
      },
      "source": [
        "**`from module_name import *`**\n",
        "\n",
        "You can also use `from module_name import *` to import all objects from a module directly into your current namespace. However, this is generally **discouraged** because it can lead to significant naming conflicts and make your code very difficult to understand and debug. You won't know where a particular function or variable originated.\n",
        "\n",
        "**In summary:**\n",
        "\n",
        "*   Use `import module_name` when you want to avoid naming conflicts and make your code more readable by explicitly showing the origin of objects.\n",
        "*   Use `from module_name import object_name` when you only need specific objects and want more concise code, but be mindful of potential naming conflicts.\n",
        "*   Avoid `from module_name import *` in most cases."
      ]
    },
    {
      "cell_type": "markdown",
      "metadata": {
        "id": "850c6273"
      },
      "source": [
        "7.  How can you handle multiple exceptions in Python?\n",
        "## Handling Multiple Exceptions in Python\n",
        "\n",
        "You can handle multiple exceptions in Python using the `try...except` block in a few ways:\n",
        "\n",
        "1.  **Multiple `except` blocks:** You can have separate `except` blocks for each specific exception you want to handle. This allows you to provide different handling logic for different types of errors."
      ]
    },
    {
      "cell_type": "code",
      "metadata": {
        "id": "7472d123"
      },
      "source": [
        "    try:\n",
        "        # Code that might raise exceptions\n",
        "        x = 10 / 0  # This will raise a ZeroDivisionError\n",
        "        y = int(\"abc\") # This will raise a ValueError\n",
        "    except (ZeroDivisionError, ValueError):\n",
        "        print(\"Error: An arithmetic error or value error occurred!\")\n",
        "    except Exception as e:\n",
        "        print(f\"An unexpected error occurred: {e}\")"
      ],
      "execution_count": null,
      "outputs": []
    },
    {
      "cell_type": "code",
      "metadata": {
        "id": "eb091b07"
      },
      "source": [
        "    try:\n",
        "        # Code that might raise exceptions\n",
        "        x = 10 / 0  # This will raise a ZeroDivisionError\n",
        "    except:\n",
        "        print(\"An error occurred!\")"
      ],
      "execution_count": null,
      "outputs": []
    },
    {
      "cell_type": "markdown",
      "metadata": {
        "id": "a2c36033"
      },
      "source": [
        "8. What is the purpose of the with statement when handling files in Python?\n",
        "## The `with` Statement for File Handling in Python\n",
        "\n",
        "The `with` statement in Python is a powerful construct used for managing resources that need to be set up and torn down properly, such as files, network connections, and locks. When dealing with files, the `with` statement ensures that the file is automatically closed, even if errors occur during the file operation. This prevents resource leaks.\n",
        "\n",
        "Here's a breakdown of its purpose and benefits when handling files:\n",
        "\n",
        "*   **Automatic Resource Management:** The `with` statement works with objects that support the context management protocol (i.e., have `__enter__` and `__exit__` methods). When you use `with open(...) as file:`, the `__enter__` method of the file object is called, which opens the file. The code within the `with` block is then executed. Regardless of whether the code in the block finishes successfully or an exception is raised, the `__exit__` method of the file object is guaranteed to be called. This method handles the closing of the file.\n",
        "\n",
        "*   **Guaranteed Cleanup:** This automatic calling of `__exit__` ensures that the file is closed even if an error occurs within the `with` block. Without `with`, you would typically need a `try...finally` block to ensure the file is closed in all cases. The `with` statement makes this cleanup more concise and less error-prone.\n",
        "\n",
        "*   **Readability:** The `with` statement makes the code more readable and expressive by clearly indicating the scope within which a resource is being used."
      ]
    },
    {
      "cell_type": "markdown",
      "metadata": {
        "id": "fb94b0f8"
      },
      "source": [
        "9. What is the difference between multithreading and multiprocessing?\n",
        "## Difference between Multithreading and Multiprocessing in Python\n",
        "\n",
        "Both multithreading and multiprocessing are techniques used to achieve concurrency in Python, allowing programs to perform multiple tasks concurrently. However, they differ in their underlying mechanisms and how they utilize system resources.\n",
        "\n",
        "**Multithreading**\n",
        "\n",
        "*   **Mechanism:** Multithreading involves creating multiple threads within a single process. Threads share the same memory space.\n",
        "*   **Concurrency vs. Parallelism:** Due to the Global Interpreter Lock (GIL) in CPython (the most common Python implementation), multithreading in CPU-bound tasks doesn't achieve true parallelism (running code on multiple CPU cores simultaneously). The GIL allows only one thread to execute Python bytecode at a time. Multithreading is more suitable for I/O-bound tasks (like reading/writing files, network operations) where threads spend time waiting for external resources, allowing other threads to run in the meantime.\n",
        "*   **Memory:** Threads share the same memory space, which can make communication between them easier but also requires careful handling to avoid race conditions and other concurrency issues.\n",
        "*   **Overhead:** Creating and managing threads generally has lower overhead compared to processes.\n",
        "\n",
        "**Multiprocessing**\n",
        "\n",
        "*   **Mechanism:** Multiprocessing involves creating multiple independent processes. Each process has its own memory space.\n",
        "*   **Concurrency and Parallelism:** Multiprocessing overcomes the GIL limitation because each process has its own Python interpreter and memory space. This allows for true parallelism, where CPU-bound tasks can run on multiple CPU cores simultaneously, leading to significant performance improvements for such tasks.\n",
        "*   **Memory:** Processes have separate memory spaces, which means communication between them requires explicit mechanisms like inter-process communication (IPC) methods (e.g., pipes, queues). This isolation also provides better fault tolerance, as an error in one process is less likely to affect others.\n",
        "*   **Overhead:** Creating and managing processes generally has higher overhead compared to threads due to the need to create a new process with its own memory space.\n",
        "\n",
        "**Summary Table:**\n",
        "\n",
        "| Feature         | Multithreading                     | Multiprocessing                       |\n",
        "| :-------------- | :--------------------------------- | :------------------------------------ |\n",
        "| Mechanism       | Multiple threads within one process | Multiple independent processes        |\n",
        "| Memory          | Shared memory space                | Separate memory spaces                |\n",
        "| Parallelism (CPU-bound) | Limited by GIL (in CPython)     | True parallelism (bypasses GIL)       |\n",
        "| Best for        | I/O-bound tasks                    | CPU-bound tasks                       |\n",
        "| Communication   | Easier (shared memory)             | Requires IPC mechanisms               |\n",
        "| Overhead        | Lower                              | Higher                                |\n",
        "| Fault Tolerance | Lower (shared memory)              | Higher (separate memory)              |\n",
        "\n",
        "In essence, choose multithreading for I/O-bound tasks where you're waiting for external resources, and multiprocessing for CPU-bound tasks where you need to utilize multiple CPU cores for heavy computation."
      ]
    },
    {
      "cell_type": "markdown",
      "source": [
        "10. What are the advantages of using logging in a program?\n",
        "* Logging offers several significant advantages when developing and maintaining a program. It's much more than just printing messages to the console!"
      ],
      "metadata": {
        "id": "7QJdEj0gh6hH"
      }
    },
    {
      "cell_type": "markdown",
      "source": [
        "# Practical Questions"
      ],
      "metadata": {
        "id": "7LyOyE-8iGGo"
      }
    },
    {
      "cell_type": "code",
      "metadata": {
        "colab": {
          "base_uri": "https://localhost:8080/"
        },
        "id": "636b458e",
        "outputId": "f7c8f6bd-229c-49f3-e019-5f9c948511e4"
      },
      "source": [
        "#1.  How can you open a file for writing in Python and write a string to it?\n",
        "# Open a file named 'my_output_file.txt' in write mode ('w')\n",
        "# Using 'with' ensures the file is automatically closed\n",
        "with open('my_output_file.txt', 'w') as f:\n",
        "  # Write a string to the file\n",
        "  f.write(\"Hello, this is a string written to the file!\")\n",
        "\n",
        "print(\"String has been written to 'my_output_file.txt'\")"
      ],
      "execution_count": 1,
      "outputs": [
        {
          "output_type": "stream",
          "name": "stdout",
          "text": [
            "String has been written to 'my_output_file.txt'\n"
          ]
        }
      ]
    },
    {
      "cell_type": "code",
      "metadata": {
        "colab": {
          "base_uri": "https://localhost:8080/"
        },
        "id": "17778dc0",
        "outputId": "a3805bb3-8b64-4c5e-b8db-319d72a29db5"
      },
      "source": [
        "#2. Write a Python program to read the contents of a file and print each line?\n",
        "# Create a dummy file for demonstration\n",
        "with open('my_input_file.txt', 'w') as f:\n",
        "  f.write(\"This is the first line.\\n\")\n",
        "  f.write(\"This is the second line.\\n\")\n",
        "  f.write(\"And this is the third line.\")\n",
        "\n",
        "# Open the file for reading ('r' mode is default)\n",
        "# Using 'with' ensures the file is automatically closed\n",
        "try:\n",
        "  with open('my_input_file.txt', 'r') as f:\n",
        "    # Read the file line by line and print each line\n",
        "    print(\"Reading file contents:\")\n",
        "    for line in f:\n",
        "      print(line, end='') # Use end='' to avoid extra newlines\n",
        "\n",
        "except FileNotFoundError:\n",
        "  print(\"Error: The file 'my_input_file.txt' was not found.\")\n",
        "except Exception as e:\n",
        "  print(f\"An error occurred: {e}\")"
      ],
      "execution_count": 2,
      "outputs": [
        {
          "output_type": "stream",
          "name": "stdout",
          "text": [
            "Reading file contents:\n",
            "This is the first line.\n",
            "This is the second line.\n",
            "And this is the third line."
          ]
        }
      ]
    },
    {
      "cell_type": "markdown",
      "source": [
        "3. How would you handle a case where the file doesn't exist while trying to open it for reading?\n",
        "* That's a common scenario! When you try to open a file for reading that doesn't exist, Python will raise a (FileNotFoundError). You can handle this gracefully using a (try...except) block to catch that specific exception."
      ],
      "metadata": {
        "id": "QlydnbZji4Qk"
      }
    },
    {
      "cell_type": "code",
      "metadata": {
        "colab": {
          "base_uri": "https://localhost:8080/"
        },
        "id": "70c4dd27",
        "outputId": "fa4a5ca4-e3c6-4c40-d63b-fed5c31b1eab"
      },
      "source": [
        "#4.  Write a Python script that reads from one file and writes its content to another file.\n",
        "# Create a dummy input file for demonstration\n",
        "input_filename = 'input.txt'\n",
        "output_filename = 'output.txt'\n",
        "\n",
        "try:\n",
        "  with open(input_filename, 'w') as f_input:\n",
        "    f_input.write(\"This is the content of the input file.\\n\")\n",
        "    f_input.write(\"This line will also be copied.\\n\")\n",
        "    f_input.write(\"And the final line.\")\n",
        "\n",
        "  # Read from the input file and write to the output file\n",
        "  with open(input_filename, 'r') as f_input, open(output_filename, 'w') as f_output:\n",
        "    for line in f_input:\n",
        "      f_output.write(line)\n",
        "\n",
        "  print(f\"Content from '{input_filename}' has been successfully copied to '{output_filename}'.\")\n",
        "\n",
        "except FileNotFoundError:\n",
        "  print(f\"Error: The file '{input_filename}' was not found.\")\n",
        "except Exception as e:\n",
        "  print(f\"An error occurred: {e}\")"
      ],
      "execution_count": 3,
      "outputs": [
        {
          "output_type": "stream",
          "name": "stdout",
          "text": [
            "Content from 'input.txt' has been successfully copied to 'output.txt'.\n"
          ]
        }
      ]
    },
    {
      "cell_type": "code",
      "metadata": {
        "colab": {
          "base_uri": "https://localhost:8080/"
        },
        "id": "b67e2670",
        "outputId": "85898a60-f55e-4491-9b28-8189cc321bc8"
      },
      "source": [
        "#5.  How would you catch and handle division by zero error in Python?\n",
        "try:\n",
        "  # Code that might raise a ZeroDivisionError\n",
        "  numerator = 10\n",
        "  denominator = 0\n",
        "  result = numerator / denominator\n",
        "  print(f\"The result is: {result}\")\n",
        "\n",
        "except ZeroDivisionError:\n",
        "  # Code to handle the division by zero error\n",
        "  print(\"Error: Cannot divide by zero!\")\n",
        "\n",
        "print(\"Program continues after handling the error.\")"
      ],
      "execution_count": 4,
      "outputs": [
        {
          "output_type": "stream",
          "name": "stdout",
          "text": [
            "Error: Cannot divide by zero!\n",
            "Program continues after handling the error.\n"
          ]
        }
      ]
    },
    {
      "cell_type": "code",
      "metadata": {
        "colab": {
          "base_uri": "https://localhost:8080/"
        },
        "id": "c24183bc",
        "outputId": "298db012-7fb8-4b5b-dcae-09ebd65fb6de"
      },
      "source": [
        "#6.  Write a Python program that logs an error message to a log file when a division by zero exception occurs\n",
        "import logging\n",
        "\n",
        "# Configure logging to write to a file\n",
        "logging.basicConfig(filename='error.log', level=logging.ERROR,\n",
        "                    format='%(asctime)s - %(levelname)s - %(message)s')\n",
        "\n",
        "try:\n",
        "  # Code that might raise a ZeroDivisionError\n",
        "  numerator = 10\n",
        "  denominator = 0\n",
        "  result = numerator / denominator\n",
        "  print(f\"The result is: {result}\")\n",
        "\n",
        "except ZeroDivisionError:\n",
        "  # Log an error message to the file\n",
        "  logging.error(\"Attempted to divide by zero!\")\n",
        "  print(\"An error occurred and was logged.\")\n",
        "\n",
        "print(\"Program finished.\")"
      ],
      "execution_count": 5,
      "outputs": [
        {
          "output_type": "stream",
          "name": "stderr",
          "text": [
            "ERROR:root:Attempted to divide by zero!\n"
          ]
        },
        {
          "output_type": "stream",
          "name": "stdout",
          "text": [
            "An error occurred and was logged.\n",
            "Program finished.\n"
          ]
        }
      ]
    },
    {
      "cell_type": "code",
      "metadata": {
        "colab": {
          "base_uri": "https://localhost:8080/"
        },
        "id": "09ee1165",
        "outputId": "bca52725-b70b-4f64-9276-8a3b313d166e"
      },
      "source": [
        "#7.  How do you log information at different levels (INFO, ERROR, WARNING) in Python using the logging module?\n",
        "import logging\n",
        "\n",
        "# Configure logging to output to the console\n",
        "# Set the level to DEBUG to see all messages\n",
        "logging.basicConfig(level=logging.DEBUG, format='%(asctime)s - %(levelname)s - %(message)s')\n",
        "\n",
        "# Log messages at different levels\n",
        "logging.debug('This is a debug message.')\n",
        "logging.info('This is an info message.')\n",
        "logging.warning('This is a warning message.')\n",
        "logging.error('This is an error message.')\n",
        "logging.critical('This is a critical message.')"
      ],
      "execution_count": 6,
      "outputs": [
        {
          "output_type": "stream",
          "name": "stderr",
          "text": [
            "WARNING:root:This is a warning message.\n",
            "ERROR:root:This is an error message.\n",
            "CRITICAL:root:This is a critical message.\n"
          ]
        }
      ]
    },
    {
      "cell_type": "code",
      "metadata": {
        "colab": {
          "base_uri": "https://localhost:8080/"
        },
        "id": "717a99cc",
        "outputId": "2407ed75-f23b-4914-9ebd-96277b5fc055"
      },
      "source": [
        "#8.  Write a program to handle a file opening error using exception handling?\n",
        "try:\n",
        "  # Attempt to open a file that does not exist\n",
        "  with open('non_existent_file.txt', 'r') as f:\n",
        "    content = f.read()\n",
        "    print(content)\n",
        "\n",
        "except FileNotFoundError:\n",
        "  # Handle the FileNotFoundError if the file is not found\n",
        "  print(\"Error: The file was not found.\")\n",
        "except Exception as e:\n",
        "  # Handle any other potential exceptions\n",
        "  print(f\"An unexpected error occurred: {e}\")\n",
        "\n",
        "print(\"Program finished.\")"
      ],
      "execution_count": 7,
      "outputs": [
        {
          "output_type": "stream",
          "name": "stdout",
          "text": [
            "Error: The file was not found.\n",
            "Program finished.\n"
          ]
        }
      ]
    },
    {
      "cell_type": "code",
      "metadata": {
        "colab": {
          "base_uri": "https://localhost:8080/"
        },
        "id": "7d66e428",
        "outputId": "c2ae098f-e1a7-4683-9273-d2d7491e798a"
      },
      "source": [
        "#9.  How can you read a file line by line and store its content in a list in Python?\n",
        "# Create a dummy file for demonstration\n",
        "file_content = [\"Line 1: This is the first line.\\n\",\n",
        "                \"Line 2: This is the second line.\\n\",\n",
        "                \"Line 3: And this is the third line.\"]\n",
        "\n",
        "with open('my_lines_file.txt', 'w') as f:\n",
        "  f.writelines(file_content)\n",
        "\n",
        "# Initialize an empty list to store the lines\n",
        "lines_list = []\n",
        "\n",
        "# Open the file for reading and store lines in the list\n",
        "try:\n",
        "  with open('my_lines_file.txt', 'r') as f:\n",
        "    for line in f:\n",
        "      lines_list.append(line.strip()) # Use strip() to remove leading/trailing whitespace, including newline characters\n",
        "\n",
        "  # Print the list\n",
        "  print(\"Content of the file stored in a list:\")\n",
        "  print(lines_list)\n",
        "\n",
        "except FileNotFoundError:\n",
        "  print(\"Error: The file 'my_lines_file.txt' was not found.\")\n",
        "except Exception as e:\n",
        "  print(f\"An error occurred: {e}\")"
      ],
      "execution_count": 8,
      "outputs": [
        {
          "output_type": "stream",
          "name": "stdout",
          "text": [
            "Content of the file stored in a list:\n",
            "['Line 1: This is the first line.', 'Line 2: This is the second line.', 'Line 3: And this is the third line.']\n"
          ]
        }
      ]
    },
    {
      "cell_type": "code",
      "metadata": {
        "colab": {
          "base_uri": "https://localhost:8080/"
        },
        "id": "4ce1f808",
        "outputId": "622b807f-d90b-4662-d5d6-7d59d29ca0a7"
      },
      "source": [
        "#10.  How can you append data to an existing file in Python?\n",
        "# Create a dummy file for demonstration (if it doesn't exist)\n",
        "try:\n",
        "  with open('my_append_file.txt', 'x') as f:\n",
        "    f.write(\"This is the original content.\\n\")\n",
        "except FileExistsError:\n",
        "  pass # File already exists, no need to create\n",
        "\n",
        "# Open the file in append mode ('a')\n",
        "with open('my_append_file.txt', 'a') as f:\n",
        "  # Append new data to the file\n",
        "  f.write(\"This line is appended.\\n\")\n",
        "  f.write(\"This is another appended line.\")\n",
        "\n",
        "print(\"Data has been appended to 'my_append_file.txt'\")\n",
        "\n",
        "# (Optional) Read and print the file content to verify\n",
        "try:\n",
        "  with open('my_append_file.txt', 'r') as f:\n",
        "    print(\"\\nContent of the file after appending:\")\n",
        "    print(f.read())\n",
        "except FileNotFoundError:\n",
        "  print(\"Error: The file 'my_append_file.txt' was not found after appending.\")"
      ],
      "execution_count": 9,
      "outputs": [
        {
          "output_type": "stream",
          "name": "stdout",
          "text": [
            "Data has been appended to 'my_append_file.txt'\n",
            "\n",
            "Content of the file after appending:\n",
            "This is the original content.\n",
            "This line is appended.\n",
            "This is another appended line.\n"
          ]
        }
      ]
    },
    {
      "cell_type": "code",
      "metadata": {
        "colab": {
          "base_uri": "https://localhost:8080/"
        },
        "id": "200ef481",
        "outputId": "06565550-3dbe-481e-a532-67d93fa5a46d"
      },
      "source": [
        "#11. Write a Python program that uses a try-except block to handle an error when attempting to access a\n",
        "dictionary key that doesn't exist?\n",
        "my_dict = {\"name\": \"Alice\", \"age\": 30}\n",
        "\n",
        "try:\n",
        "  # Attempt to access a key that doesn't exist\n",
        "  city = my_dict[\"city\"]\n",
        "  print(f\"City is: {city}\")\n",
        "\n",
        "except KeyError:\n",
        "  # Handle the KeyError if the key is not found\n",
        "  print(\"Error: The key 'city' was not found in the dictionary.\")\n",
        "except Exception as e:\n",
        "  # Handle any other potential exceptions\n",
        "  print(f\"An unexpected error occurred: {e}\")\n",
        "\n",
        "print(\"Program finished.\")"
      ],
      "execution_count": 10,
      "outputs": [
        {
          "output_type": "stream",
          "name": "stdout",
          "text": [
            "Object `exist` not found.\n",
            "Error: The key 'city' was not found in the dictionary.\n",
            "Program finished.\n"
          ]
        }
      ]
    },
    {
      "cell_type": "code",
      "metadata": {
        "colab": {
          "base_uri": "https://localhost:8080/"
        },
        "id": "143a1080",
        "outputId": "d900846a-5aa4-4122-d081-2cd7836224c2"
      },
      "source": [
        "#12.  Write a program that demonstrates using multiple except blocks to handle different types of exceptions?\n",
        "try:\n",
        "  # Code that might raise different exceptions\n",
        "  num = int(input(\"Enter a number: \"))\n",
        "  result = 10 / num\n",
        "  print(f\"Result: {result}\")\n",
        "\n",
        "except ValueError:\n",
        "  # Handle the case where the input is not a valid integer\n",
        "  print(\"Error: Invalid input. Please enter a valid integer.\")\n",
        "\n",
        "except ZeroDivisionError:\n",
        "  # Handle the case where the number is zero\n",
        "  print(\"Error: Cannot divide by zero.\")\n",
        "\n",
        "except Exception as e:\n",
        "  # Handle any other unexpected exceptions\n",
        "  print(f\"An unexpected error occurred: {e}\")\n",
        "\n",
        "print(\"Program finished.\")"
      ],
      "execution_count": 11,
      "outputs": [
        {
          "output_type": "stream",
          "name": "stdout",
          "text": [
            "Enter a number: 24\n",
            "Result: 0.4166666666666667\n",
            "Program finished.\n"
          ]
        }
      ]
    },
    {
      "cell_type": "code",
      "metadata": {
        "colab": {
          "base_uri": "https://localhost:8080/"
        },
        "id": "7cff7fb0",
        "outputId": "d6d33191-15ca-4d5f-9fa1-5f175be53537"
      },
      "source": [
        "#13. How would you check if a file exists before attempting to read it in Python?\n",
        "import os\n",
        "\n",
        "file_name = 'my_file_to_check.txt'\n",
        "\n",
        "# Create a dummy file for demonstration (if it doesn't exist)\n",
        "if not os.path.exists(file_name):\n",
        "    with open(file_name, 'w') as f:\n",
        "        f.write(\"This is a test file.\")\n",
        "\n",
        "# Check if the file exists\n",
        "if os.path.exists(file_name):\n",
        "  print(f\"The file '{file_name}' exists.\")\n",
        "  # Now you can safely open and read the file\n",
        "  try:\n",
        "    with open(file_name, 'r') as f:\n",
        "      content = f.read()\n",
        "      print(\"File content:\")\n",
        "      print(content)\n",
        "  except Exception as e:\n",
        "    print(f\"An error occurred while reading the file: {e}\")\n",
        "else:\n",
        "  print(f\"The file '{file_name}' does not exist.\")"
      ],
      "execution_count": 12,
      "outputs": [
        {
          "output_type": "stream",
          "name": "stdout",
          "text": [
            "The file 'my_file_to_check.txt' exists.\n",
            "File content:\n",
            "This is a test file.\n"
          ]
        }
      ]
    },
    {
      "cell_type": "code",
      "metadata": {
        "colab": {
          "base_uri": "https://localhost:8080/"
        },
        "id": "e7b0fa28",
        "outputId": "fbd39217-cc18-4076-a638-3a34e41ca39b"
      },
      "source": [
        "#14. Write a program that uses the logging module to log both informational and error messages?\n",
        "import logging\n",
        "\n",
        "# Configure logging to output to the console\n",
        "# Set the level to INFO to see INFO and ERROR messages\n",
        "logging.basicConfig(level=logging.INFO, format='%(asctime)s - %(levelname)s - %(message)s')\n",
        "\n",
        "# Log an informational message\n",
        "logging.info(\"This is an informational message.\")\n",
        "\n",
        "# Simulate a potential error scenario\n",
        "try:\n",
        "    result = 10 / 0\n",
        "except ZeroDivisionError:\n",
        "    # Log an error message\n",
        "    logging.error(\"Attempted to perform division by zero!\")\n",
        "\n",
        "print(\"Program finished. Check the output for log messages.\")"
      ],
      "execution_count": 13,
      "outputs": [
        {
          "output_type": "stream",
          "name": "stderr",
          "text": [
            "ERROR:root:Attempted to perform division by zero!\n"
          ]
        },
        {
          "output_type": "stream",
          "name": "stdout",
          "text": [
            "Program finished. Check the output for log messages.\n"
          ]
        }
      ]
    },
    {
      "cell_type": "code",
      "metadata": {
        "colab": {
          "base_uri": "https://localhost:8080/"
        },
        "id": "7fb122c6",
        "outputId": "333f456e-84c8-4096-a061-f4945b30343b"
      },
      "source": [
        "#15.  Write a Python program that prints the content of a file and handles the case when the file is empty?\n",
        "import os\n",
        "\n",
        "file_name = 'my_empty_check_file.txt'\n",
        "\n",
        "# Create a dummy file for demonstration (either empty or with content)\n",
        "# To test the empty case, comment out the f.write line\n",
        "with open(file_name, 'w') as f:\n",
        "  #f.write(\"This is some content.\") # Uncomment to test with content\n",
        "  pass # Leave empty to test the empty file case\n",
        "\n",
        "try:\n",
        "  with open(file_name, 'r') as f:\n",
        "    content = f.read()\n",
        "    if content:\n",
        "      print(\"File content:\")\n",
        "      print(content)\n",
        "    else:\n",
        "      print(f\"The file '{file_name}' is empty.\")\n",
        "\n",
        "except FileNotFoundError:\n",
        "  print(f\"Error: The file '{file_name}' was not found.\")\n",
        "except Exception as e:\n",
        "  print(f\"An unexpected error occurred: {e}\")\n",
        "\n",
        "print(\"Program finished.\")"
      ],
      "execution_count": 14,
      "outputs": [
        {
          "output_type": "stream",
          "name": "stdout",
          "text": [
            "The file 'my_empty_check_file.txt' is empty.\n",
            "Program finished.\n"
          ]
        }
      ]
    },
    {
      "cell_type": "markdown",
      "source": [
        "16.  Demonstrate how to use memory profiling to check the memory usage of a small program.\n",
        "*  To demonstrate memory profiling, we'll need to install a library, write a sample program that uses some memory, and then use the memory profiler to analyze its usage. Here is a plan to achieve this:\n",
        "\n",
        "* **Install memory profiler:** Install the memory_profiler library.\n",
        "* **Write a sample program:** Create a Python function that allocates some memory (e.g., creates a large list).\n",
        "* **Profile the program:** Use the memory_profiler to measure the memory usage of the function.\n",
        "* **Analyze the results:** Interpret the output of the memory profiler to understand where memory is being used.\n",
        "* **Finish task:** Summarize the process and findings."
      ],
      "metadata": {
        "id": "0_b554qFl0rA"
      }
    },
    {
      "cell_type": "code",
      "metadata": {
        "colab": {
          "base_uri": "https://localhost:8080/"
        },
        "id": "bffed018",
        "outputId": "1663ed77-97fc-4223-a7a8-61121384bfe9"
      },
      "source": [
        "#17.  Write a Python program to create and write a list of numbers to a file, one number per line.\n",
        "# Create a list of numbers\n",
        "numbers = [10, 25, 5, 42, 18, 30]\n",
        "\n",
        "# Specify the filename\n",
        "file_name = 'numbers_list.txt'\n",
        "\n",
        "try:\n",
        "  # Open the file for writing ('w' mode)\n",
        "  with open(file_name, 'w') as f:\n",
        "    # Iterate through the list and write each number to a new line\n",
        "    for number in numbers:\n",
        "      f.write(str(number) + '\\n') # Convert the number to a string and add a newline\n",
        "\n",
        "  print(f\"List of numbers has been written to '{file_name}'.\")\n",
        "\n",
        "except Exception as e:\n",
        "  print(f\"An error occurred: {e}\")"
      ],
      "execution_count": 15,
      "outputs": [
        {
          "output_type": "stream",
          "name": "stdout",
          "text": [
            "List of numbers has been written to 'numbers_list.txt'.\n"
          ]
        }
      ]
    },
    {
      "cell_type": "markdown",
      "metadata": {
        "id": "af254420"
      },
      "source": [
        "\n",
        "18. Write a Python program that implements a basic logging setup that logs to a file with rotation after 1MB."
      ]
    },
    {
      "cell_type": "markdown",
      "metadata": {
        "id": "64c4dbda"
      },
      "source": [
        "## Import necessary modules\n",
        "\n",
        "### Subtask:\n",
        "Import the `logging` module and `RotatingFileHandler` from `logging.handlers`.\n"
      ]
    },
    {
      "cell_type": "markdown",
      "metadata": {
        "id": "c164352f"
      },
      "source": [
        "**Reasoning**:\n",
        "The subtask requires importing the `logging` module and the `RotatingFileHandler` class. These imports are necessary to set up the logging with file rotation.\n",
        "\n"
      ]
    },
    {
      "cell_type": "code",
      "metadata": {
        "id": "ec412463"
      },
      "source": [
        "import logging\n",
        "from logging.handlers import RotatingFileHandler"
      ],
      "execution_count": 16,
      "outputs": []
    },
    {
      "cell_type": "markdown",
      "metadata": {
        "id": "f465feaf"
      },
      "source": [
        "## Configure the logger\n",
        "\n",
        "### Subtask:\n",
        "Create a logger instance and set its logging level.\n"
      ]
    },
    {
      "cell_type": "markdown",
      "metadata": {
        "id": "83cb50cd"
      },
      "source": [
        "**Reasoning**:\n",
        "Get a logger instance and set its level to INFO.\n",
        "\n"
      ]
    },
    {
      "cell_type": "code",
      "metadata": {
        "colab": {
          "base_uri": "https://localhost:8080/"
        },
        "id": "6dc1d4cb",
        "outputId": "9388d75d-d3a9-410e-e517-9938ee7a7089"
      },
      "source": [
        "# Get a logger instance (using the root logger for simplicity)\n",
        "logger = logging.getLogger()\n",
        "\n",
        "# Set the logging level to INFO\n",
        "logger.setLevel(logging.INFO)\n",
        "\n",
        "print(f\"Logger created with level set to: {logging.getLevelName(logger.level)}\")"
      ],
      "execution_count": 17,
      "outputs": [
        {
          "output_type": "stream",
          "name": "stdout",
          "text": [
            "Logger created with level set to: INFO\n"
          ]
        }
      ]
    },
    {
      "cell_type": "markdown",
      "metadata": {
        "id": "7b467f48"
      },
      "source": [
        "## Create a rotatingfilehandler\n",
        "\n",
        "### Subtask:\n",
        "Instantiate `RotatingFileHandler`, specifying the filename, maximum file size (1MB), and the number of backup files to keep.\n"
      ]
    },
    {
      "cell_type": "markdown",
      "metadata": {
        "id": "e68fac27"
      },
      "source": [
        "**Reasoning**:\n",
        "Instantiate RotatingFileHandler with the specified filename, maxBytes, and backupCount.\n",
        "\n"
      ]
    },
    {
      "cell_type": "code",
      "metadata": {
        "colab": {
          "base_uri": "https://localhost:8080/"
        },
        "id": "dac221a0",
        "outputId": "23b4fb73-d58f-4978-b639-75887ac82800"
      },
      "source": [
        "# Instantiate RotatingFileHandler\n",
        "# filename: 'rotated_log.log'\n",
        "# maxBytes: 1MB (1024 * 1024 bytes)\n",
        "# backupCount: 3\n",
        "handler = RotatingFileHandler('rotated_log.log', maxBytes=1024 * 1024, backupCount=3)\n",
        "\n",
        "print(f\"RotatingFileHandler created for 'rotated_log.log' with maxBytes=1MB and backupCount=3.\")"
      ],
      "execution_count": 18,
      "outputs": [
        {
          "output_type": "stream",
          "name": "stdout",
          "text": [
            "RotatingFileHandler created for 'rotated_log.log' with maxBytes=1MB and backupCount=3.\n"
          ]
        }
      ]
    },
    {
      "cell_type": "markdown",
      "metadata": {
        "id": "fec0f95e"
      },
      "source": [
        "## Set a formatter\n",
        "\n",
        "### Subtask:\n",
        "Create a formatter to define the log message format and add it to the handler.\n"
      ]
    },
    {
      "cell_type": "markdown",
      "metadata": {
        "id": "ba453247"
      },
      "source": [
        "**Reasoning**:\n",
        "Create a formatter with the specified format and add it to the handler.\n",
        "\n"
      ]
    },
    {
      "cell_type": "code",
      "metadata": {
        "colab": {
          "base_uri": "https://localhost:8080/"
        },
        "id": "b286972e",
        "outputId": "71576c15-56af-47b9-c446-0b293a4adf3c"
      },
      "source": [
        "# Create a formatter\n",
        "formatter = logging.Formatter('%(asctime)s - %(levelname)s - %(message)s')\n",
        "\n",
        "# Add the formatter to the handler\n",
        "handler.setFormatter(formatter)\n",
        "\n",
        "print(\"Formatter created and added to the handler.\")"
      ],
      "execution_count": 19,
      "outputs": [
        {
          "output_type": "stream",
          "name": "stdout",
          "text": [
            "Formatter created and added to the handler.\n"
          ]
        }
      ]
    },
    {
      "cell_type": "markdown",
      "metadata": {
        "id": "93c84bb3"
      },
      "source": [
        "**Reasoning**:\n",
        "Add the handler to the logger to enable logging to the file and then demonstrate logging messages at different levels.\n",
        "\n"
      ]
    },
    {
      "cell_type": "code",
      "metadata": {
        "colab": {
          "base_uri": "https://localhost:8080/"
        },
        "id": "264ce598",
        "outputId": "b8f4464b-3c7b-43aa-b103-0e5ce1595fb8"
      },
      "source": [
        "# Add the handler to the logger\n",
        "logger.addHandler(handler)\n",
        "\n",
        "print(\"Handler added to the logger.\")\n",
        "\n",
        "# Demonstrate logging messages at different levels\n",
        "logger.debug(\"This is a debug message.\")\n",
        "logger.info(\"This is an info message.\")\n",
        "logger.warning(\"This is a warning message.\")\n",
        "logger.error(\"This is an error message.\")\n",
        "logger.critical(\"This is a critical message.\")\n",
        "\n",
        "print(\"Log messages have been sent. Check the 'rotated_log.log' file.\")"
      ],
      "execution_count": 20,
      "outputs": [
        {
          "output_type": "stream",
          "name": "stderr",
          "text": [
            "INFO:root:This is an info message.\n",
            "WARNING:root:This is a warning message.\n",
            "ERROR:root:This is an error message.\n",
            "CRITICAL:root:This is a critical message.\n"
          ]
        },
        {
          "output_type": "stream",
          "name": "stdout",
          "text": [
            "Handler added to the logger.\n",
            "Log messages have been sent. Check the 'rotated_log.log' file.\n"
          ]
        }
      ]
    },
    {
      "cell_type": "markdown",
      "metadata": {
        "id": "01ee24f1"
      },
      "source": [
        "## Summary:\n",
        "\n",
        "### Data Analysis Key Findings\n",
        "\n",
        "*   A basic logging setup was successfully implemented using Python's `logging` module and `RotatingFileHandler`.\n",
        "*   The logger instance was created and its level was set to `INFO`.\n",
        "*   A `RotatingFileHandler` was configured to log to a file named `rotated_log.log`, with a maximum size of 1MB and keeping up to 3 backup files.\n",
        "*   A formatter with the format `%(asctime)s - %(levelname)s - %(message)s` was created and added to the handler.\n",
        "*   The configured handler was added to the logger.\n",
        "*   Log messages at different levels (info, warning, error, critical) were successfully written to the specified log file, demonstrating the functionality of the logging setup. Debug messages were not logged as the level was set to `INFO`.\n",
        "\n",
        "### Insights or Next Steps\n",
        "\n",
        "*   The current setup logs only to a file. Consider adding a `StreamHandler` to also output logs to the console for real-time monitoring during development.\n",
        "*   Implement more sophisticated log filtering if needed, for example, logging messages from specific modules or with certain content.\n"
      ]
    },
    {
      "cell_type": "code",
      "metadata": {
        "colab": {
          "base_uri": "https://localhost:8080/"
        },
        "id": "2250f050",
        "outputId": "906d6221-ee56-410f-b3c1-52a29d9ec59c"
      },
      "source": [
        "#19. Write a program that handles both IndexError and KeyError using a try-except block.\n",
        "def access_elements(data, index, key):\n",
        "  try:\n",
        "    # Attempt to access a list element by index\n",
        "    list_element = data[index]\n",
        "    print(f\"Element at index {index}: {list_element}\")\n",
        "\n",
        "    # Attempt to access a dictionary element by key\n",
        "    dict_element = data[key]\n",
        "    print(f\"Element with key '{key}': {dict_element}\")\n",
        "\n",
        "  except IndexError:\n",
        "    print(f\"Error: Invalid index '{index}'. The list is out of bounds.\")\n",
        "  except KeyError:\n",
        "    print(f\"Error: Invalid key '{key}'. The key was not found in the dictionary.\")\n",
        "  except Exception as e:\n",
        "    print(f\"An unexpected error occurred: {e}\")\n",
        "\n",
        "# Example usage:\n",
        "my_list = [1, 2, 3]\n",
        "my_dict = {\"a\": 10, \"b\": 20}\n",
        "\n",
        "print(\"--- Testing with valid access ---\")\n",
        "access_elements(my_list, 1, \"a\") # This will cause errors as my_list is not a dict and my_dict is not a list\n",
        "\n",
        "print(\"\\n--- Testing with invalid index ---\")\n",
        "access_elements(my_list, 5, \"a\") # This will raise an IndexError\n",
        "\n",
        "print(\"\\n--- Testing with invalid key ---\")\n",
        "access_elements(my_dict, 0, \"c\") # This will raise a KeyError"
      ],
      "execution_count": 21,
      "outputs": [
        {
          "output_type": "stream",
          "name": "stdout",
          "text": [
            "--- Testing with valid access ---\n",
            "Element at index 1: 2\n",
            "An unexpected error occurred: list indices must be integers or slices, not str\n",
            "\n",
            "--- Testing with invalid index ---\n",
            "Error: Invalid index '5'. The list is out of bounds.\n",
            "\n",
            "--- Testing with invalid key ---\n",
            "Error: Invalid key 'c'. The key was not found in the dictionary.\n"
          ]
        }
      ]
    },
    {
      "cell_type": "code",
      "metadata": {
        "colab": {
          "base_uri": "https://localhost:8080/"
        },
        "id": "37ab9403",
        "outputId": "db0f7999-0378-45bc-bdd6-b95aced92e17"
      },
      "source": [
        "#20  How would you open a file and read its contents using a context manager in Python?\n",
        "# Create a dummy file for demonstration\n",
        "with open('my_context_file.txt', 'w') as f:\n",
        "  f.write(\"This is the first line.\\n\")\n",
        "  f.write(\"This is the second line.\")\n",
        "\n",
        "# Open the file using a context manager (with statement)\n",
        "try:\n",
        "  with open('my_context_file.txt', 'r') as f:\n",
        "    # Read the entire content of the file\n",
        "    content = f.read()\n",
        "    print(\"File content:\")\n",
        "    print(content)\n",
        "\n",
        "except FileNotFoundError:\n",
        "  print(\"Error: The file 'my_context_file.txt' was not found.\")\n",
        "except Exception as e:\n",
        "  print(f\"An error occurred: {e}\")\n",
        "\n",
        "print(\"Program finished.\")"
      ],
      "execution_count": 22,
      "outputs": [
        {
          "output_type": "stream",
          "name": "stdout",
          "text": [
            "File content:\n",
            "This is the first line.\n",
            "This is the second line.\n",
            "Program finished.\n"
          ]
        }
      ]
    },
    {
      "cell_type": "code",
      "metadata": {
        "colab": {
          "base_uri": "https://localhost:8080/"
        },
        "id": "00fd366d",
        "outputId": "4c63c8e4-66cf-411a-aa29-3f6d8b16c6d1"
      },
      "source": [
        "#21 Write a Python program that reads a file and prints the number of occurrences of a specific word.\n",
        "import re\n",
        "\n",
        "def count_word_occurrences(filename, word):\n",
        "  \"\"\"\n",
        "  Reads a file and counts the occurrences of a specific word.\n",
        "\n",
        "  Args:\n",
        "    filename: The name of the file to read.\n",
        "    word: The word to count.\n",
        "\n",
        "  Returns:\n",
        "    The number of occurrences of the word in the file.\n",
        "  \"\"\"\n",
        "  count = 0\n",
        "  try:\n",
        "    with open(filename, 'r') as f:\n",
        "      content = f.read().lower() # Read content and convert to lowercase for case-insensitive counting\n",
        "      # Use regex to find whole word occurrences\n",
        "      count = len(re.findall(r'\\b' + re.escape(word.lower()) + r'\\b', content))\n",
        "  except FileNotFoundError:\n",
        "    print(f\"Error: The file '{filename}' was not found.\")\n",
        "  except Exception as e:\n",
        "    print(f\"An error occurred: {e}\")\n",
        "  return count\n",
        "\n",
        "# Create a dummy file for demonstration\n",
        "file_name = 'sample_text.txt'\n",
        "with open(file_name, 'w') as f:\n",
        "  f.write(\"This is a sample text file.\\n\")\n",
        "  f.write(\"This file contains sample words.\\n\")\n",
        "  f.write(\"Sample is the word we will count.\")\n",
        "\n",
        "# Specify the word to count\n",
        "word_to_count = \"sample\"\n",
        "\n",
        "# Count the occurrences\n",
        "occurrences = count_word_occurrences(file_name, word_to_count)\n",
        "\n",
        "if occurrences > -1: # Check if an error occurred\n",
        "  print(f\"The word '{word_to_count}' appears {occurrences} times in '{file_name}'.\")"
      ],
      "execution_count": 23,
      "outputs": [
        {
          "output_type": "stream",
          "name": "stdout",
          "text": [
            "The word 'sample' appears 3 times in 'sample_text.txt'.\n"
          ]
        }
      ]
    },
    {
      "cell_type": "code",
      "metadata": {
        "colab": {
          "base_uri": "https://localhost:8080/"
        },
        "id": "6cbb2462",
        "outputId": "231ba6d9-26dc-43c6-8620-255ec3e21cf6"
      },
      "source": [
        "#22  How can you check if a file is empty before attempting to read its contents?\n",
        "import os\n",
        "\n",
        "def is_file_empty(filepath):\n",
        "  \"\"\"\n",
        "  Checks if a file is empty.\n",
        "\n",
        "  Args:\n",
        "    filepath: The path to the file.\n",
        "\n",
        "  Returns:\n",
        "    True if the file exists and is empty, False otherwise.\n",
        "  \"\"\"\n",
        "  if os.path.exists(filepath):\n",
        "    return os.path.getsize(filepath) == 0\n",
        "  else:\n",
        "    # File doesn't exist, so it's not empty in the sense of having content\n",
        "    # You might want to handle this case differently depending on requirements\n",
        "    print(f\"Warning: File '{filepath}' not found.\")\n",
        "    return False\n",
        "\n",
        "# Create a dummy empty file for demonstration\n",
        "empty_file_name = 'empty_test_file.txt'\n",
        "with open(empty_file_name, 'w') as f:\n",
        "  pass # Creates an empty file\n",
        "\n",
        "# Create a dummy file with content for demonstration\n",
        "non_empty_file_name = 'non_empty_test_file.txt'\n",
        "with open(non_empty_file_name, 'w') as f:\n",
        "  f.write(\"Some content.\")\n",
        "\n",
        "\n",
        "# Check the empty file\n",
        "if is_file_empty(empty_file_name):\n",
        "  print(f\"'{empty_file_name}' is empty.\")\n",
        "else:\n",
        "  print(f\"'{empty_file_name}' is not empty.\")\n",
        "\n",
        "# Check the non-empty file\n",
        "if is_file_empty(non_empty_file_name):\n",
        "  print(f\"'{non_empty_file_name}' is empty.\")\n",
        "else:\n",
        "  print(f\"'{non_empty_file_name}' is not empty.\")\n",
        "\n",
        "# Check a non-existent file\n",
        "if is_file_empty('non_existent_file.txt'):\n",
        "  print(f\"'non_existent_file.txt' is empty.\")\n",
        "else:\n",
        "  print(f\"'non_existent_file.txt' is not empty (or doesn't exist).\")"
      ],
      "execution_count": 24,
      "outputs": [
        {
          "output_type": "stream",
          "name": "stdout",
          "text": [
            "'empty_test_file.txt' is empty.\n",
            "'non_empty_test_file.txt' is not empty.\n",
            "Warning: File 'non_existent_file.txt' not found.\n",
            "'non_existent_file.txt' is not empty (or doesn't exist).\n"
          ]
        }
      ]
    },
    {
      "cell_type": "code",
      "metadata": {
        "colab": {
          "base_uri": "https://localhost:8080/"
        },
        "id": "d738e2ba",
        "outputId": "8548e024-5ed6-4591-c24b-1de0304f6e52"
      },
      "source": [
        "#23 Write a Python program that writes to a log file when an error occurs during file handling.\n",
        "import logging\n",
        "\n",
        "# Configure logging to write errors to a file\n",
        "logging.basicConfig(filename='file_errors.log', level=logging.ERROR,\n",
        "                    format='%(asctime)s - %(levelname)s - %(message)s')\n",
        "\n",
        "file_name = 'non_existent_file_for_error.txt'\n",
        "\n",
        "try:\n",
        "  # Attempt to open a file that does not exist for reading\n",
        "  with open(file_name, 'r') as f:\n",
        "    content = f.read()\n",
        "    print(content)\n",
        "\n",
        "except FileNotFoundError:\n",
        "  # Log the error message to the file\n",
        "  logging.error(f\"Attempted to open non-existent file: {file_name}\")\n",
        "  print(f\"Error: The file '{file_name}' was not found. Error logged.\")\n",
        "\n",
        "except Exception as e:\n",
        "  # Log any other unexpected exceptions during file handling\n",
        "  logging.error(f\"An unexpected error occurred during file handling: {e}\")\n",
        "  print(f\"An unexpected error occurred: {e}. Error logged.\")\n",
        "\n",
        "print(\"Program finished.\")"
      ],
      "execution_count": 25,
      "outputs": [
        {
          "output_type": "stream",
          "name": "stderr",
          "text": [
            "ERROR:root:Attempted to open non-existent file: non_existent_file_for_error.txt\n"
          ]
        },
        {
          "output_type": "stream",
          "name": "stdout",
          "text": [
            "Error: The file 'non_existent_file_for_error.txt' was not found. Error logged.\n",
            "Program finished.\n"
          ]
        }
      ]
    }
  ]
}