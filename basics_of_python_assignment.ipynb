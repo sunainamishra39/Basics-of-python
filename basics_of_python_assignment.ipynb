{
  "nbformat": 4,
  "nbformat_minor": 0,
  "metadata": {
    "colab": {
      "provenance": [],
      "authorship_tag": "ABX9TyPhgnd9SvRzeT8USTNPgac8",
      "include_colab_link": true
    },
    "kernelspec": {
      "name": "python3",
      "display_name": "Python 3"
    },
    "language_info": {
      "name": "python"
    }
  },
  "cells": [
    {
      "cell_type": "markdown",
      "metadata": {
        "id": "view-in-github",
        "colab_type": "text"
      },
      "source": [
        "<a href=\"https://colab.research.google.com/github/sunainamishra39/Basics-of-python/blob/main/basics_of_python_assignment.ipynb\" target=\"_parent\"><img src=\"https://colab.research.google.com/assets/colab-badge.svg\" alt=\"Open In Colab\"/></a>"
      ]
    },
    {
      "cell_type": "markdown",
      "source": [
        "# Python Basics Questions"
      ],
      "metadata": {
        "id": "YckFBgmK5s87"
      }
    },
    {
      "cell_type": "markdown",
      "source": [
        "1.  What is Python, and why is it popular?\n",
        "    *    Python is a high-level programming language celebrated for its simplicity, readability, and versatility. Python's clear syntax and strong community support contribute to its popularity among beginners and experienced developers alike.\n",
        "    *    Python is one of the most popular programming languages today because,\n",
        "    *    i) It is easy to use.\n",
        "    *    ii) Versatility and wide applications.\n",
        "    *    iii) Extensive libraries and framework.\n",
        "    *    iv) Large and active community.\n",
        "    *    v) Cross-Platform Compatibility.\n",
        "    *    vi) Rapid development and Iteration\n",
        "    *    vii) Growing demand in job market\n",
        "\n",
        "\n",
        "\n",
        "\n",
        "   \n",
        "\n",
        "\n",
        "    "
      ],
      "metadata": {
        "id": "bnNIls-_4DIb"
      }
    },
    {
      "cell_type": "markdown",
      "source": [
        "2. What is an interpreter in Python?\n",
        "    *    An interpreter in Python is a program that executes Python code line by line, translating it into machine-readable instructions. It serves as the runtime environment for Python programs, allowing you to write and test code interactively or execute entire scripts.\n",
        "    *    Key Features of the Python Interpreter:\n",
        "     1. Interactive Execution\n",
        "     2. Line-by-Line Execution\n",
        "     3. Platform Independence\n",
        "     4. Error Handling\n",
        "    *    Examples of Python Interpreters:\n",
        "     1. CPython: The default and most widely used Python interpreter, written in C.\n",
        "     2. PyPy: A faster alternative to CPython, using Just-In-Time (JIT) compilation.\n",
        "     3. Jython: A Python interpreter implemented in Java, allowing Python to run on the Java platform.\n",
        "     4. IronPython: A Python interpreter for .NET and Mono frameworks.\n"
      ],
      "metadata": {
        "id": "XxmiKDeUqEH5"
      }
    },
    {
      "cell_type": "markdown",
      "source": [
        "3. What are pre-defined keywords in Python?\n",
        "  \n",
        "    * ***Predefined keywords:*** Keywords are reserved words in Python that have special meanings and cannot be used as identifiers (variable names, function names, etc.).\n",
        "    *    Examples of keywords include if, else, while, for, def, class, import, try, except, return, True, False, None, etc.\n",
        "    *    Keywords are case-sensitive and cannot be redefined or overridden within a Python program."
      ],
      "metadata": {
        "id": "wamO9HUvsFRx"
      }
    },
    {
      "cell_type": "markdown",
      "source": [
        "4. Can keywords be used as variable names?\n",
        "    *    No, keywords in Python cannot be used as variable names. Keywords are reserved words that have specific meaning within the language's syntax and structure. Attempting to use a keyword as a variable name will result in a Syntax error."
      ],
      "metadata": {
        "id": "fA4jJAvSs5qY"
      }
    },
    {
      "cell_type": "markdown",
      "source": [
        "5. What is mutability in Python?\n",
        "    *    In Python, objects can be either changeable (modifiable) or unchangeable (unchangeable).\n",
        "    *    Mutable objects, such as lists and dictionaries, can be modified after creation, while immutable objects, such as tuples and strings, cannot.\n",
        "    *    Mutability affects how objects are stored and manipulated in memory, impacting performance, memory usage, and concurrency in Python programs."
      ],
      "metadata": {
        "id": "t6OGQwPjt6G3"
      }
    },
    {
      "cell_type": "markdown",
      "source": [
        "6. Why are lists mutable, but tuples are immutable?\n",
        "    *    In Python, lists and tuples both store collections of data, but differ in mutability, performance and memory usage. Lists are mutable, allowing modifications, while tuples are immutable.\n",
        "    *    Due to foilowing resons:\n",
        "    1. Iteration over lists is time-consuming while in tuples iterations over tuple is faster.\n",
        "    2. Lists are better for performing operations, such as insertion and deletion while tuples are more suitable for accessing elements efficiently.\n",
        "    3. Lists consume more memory while tuples consumes less memory.\n",
        "    4. Lists have several built-in methods while tuples have fewer built-in methods.\n",
        "    5. Lists are more prone to unexpected changes and errors while tuples, being immutable are less error prone."
      ],
      "metadata": {
        "id": "wMh_shfjuS-l"
      }
    },
    {
      "cell_type": "markdown",
      "source": [
        "7.  What is the difference between “==” and “is” operators in Python?\n",
        "    *    In Python, the is and == operators are used for comparison, but they serve different purposes and behave differently.\n",
        "\n",
        "    *    The == operator is used to compare the values of two objects. It checks whether the values of the objects are equal. This operator calls the __eq__() method of the left object, which defines the criteria for equality."
      ],
      "metadata": {
        "id": "DvHKpFIjwp4N"
      }
    },
    {
      "cell_type": "code",
      "source": [
        "#For example:\n",
        "a = 10\n",
        "b = 10\n",
        "print(a == b)"
      ],
      "metadata": {
        "colab": {
          "base_uri": "https://localhost:8080/"
        },
        "id": "64mCK0NjxlHA",
        "outputId": "5e7acbc3-8232-4703-9049-00d41b6c1770"
      },
      "execution_count": null,
      "outputs": [
        {
          "output_type": "stream",
          "name": "stdout",
          "text": [
            "True\n"
          ]
        }
      ]
    },
    {
      "cell_type": "markdown",
      "source": [
        "   *    ***Is Operator:*** The is operator is used to compare the identity of two objects. It checks whether the two variables point to the same object in memory. This operator is often used to check if a variable is None"
      ],
      "metadata": {
        "id": "LUM77CTFyFbN"
      }
    },
    {
      "cell_type": "code",
      "source": [
        "# For example:\n",
        "a = 10\n",
        "b = 10\n",
        "print(a is b)"
      ],
      "metadata": {
        "colab": {
          "base_uri": "https://localhost:8080/"
        },
        "id": "_C5IDJwazMQc",
        "outputId": "1b119e1e-1d6c-46f4-81a0-744ae2f43856"
      },
      "execution_count": null,
      "outputs": [
        {
          "output_type": "stream",
          "name": "stdout",
          "text": [
            "True\n"
          ]
        }
      ]
    },
    {
      "cell_type": "markdown",
      "source": [
        "8. What are logical operators in Python?\n",
        "    *    Logical operators in Python are used to perform logical operations on Boolean values (True or False). They help in combining conditional statements and evaluating complex logical expressions. Python provides three logical operators:\n",
        "    1. and (Logical AND)\n",
        "    *    Returns True if both conditions are True."
      ],
      "metadata": {
        "id": "yfwPQPP2zXAE"
      }
    },
    {
      "cell_type": "code",
      "source": [
        "# For example:\n",
        "a = 5\n",
        "b = 10\n",
        "print(a > 0 and b > 5)"
      ],
      "metadata": {
        "colab": {
          "base_uri": "https://localhost:8080/"
        },
        "id": "S1aTcgNCz7Z0",
        "outputId": "732a45f7-2316-41bc-abde-b5e8a7e0960e"
      },
      "execution_count": null,
      "outputs": [
        {
          "output_type": "stream",
          "name": "stdout",
          "text": [
            "True\n"
          ]
        }
      ]
    },
    {
      "cell_type": "code",
      "execution_count": null,
      "metadata": {
        "id": "hU6WFXvR3_8L",
        "colab": {
          "base_uri": "https://localhost:8080/"
        },
        "outputId": "e38c3860-cdbf-4683-b099-4ea6d87ea444"
      },
      "outputs": [
        {
          "output_type": "stream",
          "name": "stdout",
          "text": [
            "False\n"
          ]
        }
      ],
      "source": [
        "a = 5\n",
        "b = 10\n",
        "print(a > 0 and b < 5)"
      ]
    },
    {
      "cell_type": "markdown",
      "source": [
        "2.  or (Logical OR)\n",
        "    *    Returns True if at least one condition is True."
      ],
      "metadata": {
        "id": "XucGi_dR0Tem"
      }
    },
    {
      "cell_type": "code",
      "source": [
        "# For example:\n",
        "a = 5\n",
        "b = 10\n",
        "print(a > 0 or b < 5)"
      ],
      "metadata": {
        "colab": {
          "base_uri": "https://localhost:8080/"
        },
        "id": "USHnhfM-0M_C",
        "outputId": "86c01870-359a-41fb-aa1b-3121d9b6c03d"
      },
      "execution_count": null,
      "outputs": [
        {
          "output_type": "stream",
          "name": "stdout",
          "text": [
            "True\n"
          ]
        }
      ]
    },
    {
      "cell_type": "code",
      "source": [
        "a = 5\n",
        "b = 10\n",
        "print(a < 0 or b < 5)"
      ],
      "metadata": {
        "colab": {
          "base_uri": "https://localhost:8080/"
        },
        "id": "D2SrCMwo0fz-",
        "outputId": "69eded72-8a79-4a05-e31c-30871be7bdae"
      },
      "execution_count": null,
      "outputs": [
        {
          "output_type": "stream",
          "name": "stdout",
          "text": [
            "False\n"
          ]
        }
      ]
    },
    {
      "cell_type": "markdown",
      "source": [
        "3.  not (Logical NOT)\n",
        "    *    Reverses the Boolean value of the condition.\n"
      ],
      "metadata": {
        "id": "25Xboxow0rDS"
      }
    },
    {
      "cell_type": "code",
      "source": [
        "# For example:\n",
        "a = 5\n",
        "print(not a > 0)"
      ],
      "metadata": {
        "colab": {
          "base_uri": "https://localhost:8080/"
        },
        "id": "cXMSRD0R0l_K",
        "outputId": "7abe8b24-c011-4c3a-c92c-3a49b98ac7ee"
      },
      "execution_count": null,
      "outputs": [
        {
          "output_type": "stream",
          "name": "stdout",
          "text": [
            "False\n"
          ]
        }
      ]
    },
    {
      "cell_type": "code",
      "source": [
        "a = 5\n",
        "print(not a < 0)"
      ],
      "metadata": {
        "colab": {
          "base_uri": "https://localhost:8080/"
        },
        "id": "FZLnWDEB04cP",
        "outputId": "3df5c16a-fb6d-46a9-bee7-c5f268e5af5a"
      },
      "execution_count": null,
      "outputs": [
        {
          "output_type": "stream",
          "name": "stdout",
          "text": [
            "True\n"
          ]
        }
      ]
    },
    {
      "cell_type": "markdown",
      "source": [
        "9.  What is type casting in Python?\n",
        "    *    Type casting, also referred to as type conversion, is the process of changing one data type to another in Python.\n",
        "    *    Python provides built-in functions for type casting, such as int(), float(), str(), list(), tuple(), dict(), etc.\n",
        "    *    Type casting is often necessary for performing arithmetic operations, data manipulation, and input/output operations in Python programs."
      ],
      "metadata": {
        "id": "3zz0NmJL1IHg"
      }
    },
    {
      "cell_type": "markdown",
      "source": [
        "10.  What is the difference between implicit and explicit type casting?\n",
        "    *    ***Implicit Type Casting:*** In implicit type casting, the programming language automatically converts data from one type to another if needed. For example, if you have an integer variable and you try to assign it to a float variable, the programming language will automatically convert the integer to a float without you having to do anything.\n",
        "\n",
        "    *    ***Advantages:***\n",
        "\n",
        "    *    Convenience: Implicit casting saves time and effort because you don't have to manually convert data types.\n",
        "Automatic: It happens automatically, reducing the chance of errors due to forgetting to convert types.\n",
        "Disadvantages:\n",
        "\n",
        "    *    Loss of Precision: Sometimes, when converting between data types, there can be a loss of precision. For example, converting from a float to an integer may result in losing the decimal part of the number.\n",
        "    *    Unexpected Results: Implicit casting can sometimes lead to unexpected results if the programmer is not aware of how the conversion rules work.\n",
        "\n",
        "    *    ***Explicit Type Casting:***\n",
        "Explicit type casting, also known as type conversion or type coercion, occurs when the programmer explicitly converts a value from one data type to another. Unlike implicit type casting, explicit type casting requires the programmer to specify the desired data type conversion.\n",
        "\n",
        "    *    ***Advantages:***\n",
        "\n",
        "    *    Control: Explicit type casting gives the programmer more control over the conversion process, allowing for precise manipulation of data types.\n",
        "    *    Clarity: By explicitly indicating the type conversion, the code becomes more readable and understandable to other developers.\n",
        "    *    Avoidance of Loss of Precision: In cases where precision is crucial, explicit type casting allows the programmer to handle the conversion carefully to avoid loss of precision.\n",
        "    *    ***Disadvantages:***\n",
        "\n",
        "    *    Complexity: Explicit type casting can introduce complexity to the code, especially when dealing with multiple data type conversions.\n",
        "    *    Potential Errors: If the programmer incorrectly performs explicit type casting, it may result in runtime errors or unexpected behavior.\n",
        "Additional Syntax: Explicit type casting requires additional syntax or function calls, which may increase code verbosity."
      ],
      "metadata": {
        "id": "fywabVv11WEb"
      }
    },
    {
      "cell_type": "markdown",
      "source": [
        "11. What is the purpose of conditional statements in Python?\n",
        "    *    Conditionals in Python are used to execute code based on the evaluation of one or more conditions.\n",
        "    *    Python supports conditional statements such as if, elif (else if), and else to control the flow of execution.\n",
        "    *    Conditionals can be nested to handle multiple conditions and control different branches of execution based on the outcome of logical expressions."
      ],
      "metadata": {
        "id": "kH_kFibH3Cs1"
      }
    },
    {
      "cell_type": "markdown",
      "source": [
        "12.  How does the elif statement work?\n",
        "    *    In Python, the elif keyword is used in conditional statements as an abbreviation for \"else if.\" It allows for additional conditions to be checked if the previous conditions were not met.\n",
        "    *    Examples:\n",
        "    *    if condition1:\n",
        "# execute this block\n",
        "elif condition2:\n",
        "# execute this block\n",
        "else:\n",
        "# execute this block\n",
        "    *    After the elif keyword, a condition follows which is evaluated. If the condition is True, the indented block of code directly below it will be executed. If the condition is False, the program will continue to check any subsequent elif or else blocks.\n",
        "    *    Considerations\n",
        "\n",
        "i) The elif block can only be used after an if statement and before an else statement.\n",
        "\n",
        "ii) There can be multiple elif blocks following an if.\n",
        "\n",
        "iii) Each elif must have its own condition to check.\n",
        "\n",
        "iv) The code block under an elif must be indented."
      ],
      "metadata": {
        "id": "oq3iniNV3V-Y"
      }
    },
    {
      "cell_type": "markdown",
      "source": [
        "13.  What is the difference between for and while loops?\n",
        "    *    Both for loops and while loops are control flow structures used to repeatedly execute a block of code. However, they differ in their syntax, use cases, and behavior.\n",
        "\n",
        "    *    ***A for*** loop is typically used when the number of iterations is known in advance. It iterates over a sequence (like a list, tuple, or range) and executes the block of code for each item in the sequence. The loop variable takes the value of each item during each iteration.\n",
        "    *    On the other hand, ***a while*** loop is used when the number of iterations is not known beforehand. It continues to execute as long as a specified condition remains true. It is essential to ensure the condition eventually becomes false to avoid infinite loops."
      ],
      "metadata": {
        "id": "V3mHVB0W4qPg"
      }
    },
    {
      "cell_type": "markdown",
      "source": [
        "14.  Describe a scenario where a while loop is more suitable than a for loop.\n",
        "    *   One main difference is while loops are best suited when you do not know ahead of time the number of iterations that you need to do. When you know this before entering the loop you can use for loop."
      ],
      "metadata": {
        "id": "Z2Wa_AWV5QGj"
      }
    },
    {
      "cell_type": "markdown",
      "source": [
        "# PRACTICAL QUESTIONS"
      ],
      "metadata": {
        "id": "wuf0f6Mr5mSU"
      }
    },
    {
      "cell_type": "code",
      "source": [
        "#  Write a Python program to print \"Hello, World!\"\n",
        "print(\"Hello, World!\")"
      ],
      "metadata": {
        "id": "OigpsrPB1ARG",
        "colab": {
          "base_uri": "https://localhost:8080/"
        },
        "outputId": "a213d651-a30f-4fd0-b01a-7f8233287470"
      },
      "execution_count": null,
      "outputs": [
        {
          "output_type": "stream",
          "name": "stdout",
          "text": [
            "Hello, World!\n"
          ]
        }
      ]
    },
    {
      "cell_type": "code",
      "source": [
        "#  Write a Python program that displays your name and age.\n",
        "name = input(\"Enter your name: \")\n",
        "age = int(input(\"Enter your age: \"))\n",
        "print(\"Name:\", name)\n",
        "print(\"Age:\", age)"
      ],
      "metadata": {
        "colab": {
          "base_uri": "https://localhost:8080/"
        },
        "id": "NihjTHnY6Fxa",
        "outputId": "d31420e4-2660-4628-f4f9-71287eef00b2"
      },
      "execution_count": null,
      "outputs": [
        {
          "output_type": "stream",
          "name": "stdout",
          "text": [
            "Enter your name: Sunaina Mishra\n",
            "Enter your age: 25\n",
            "Name: Sunaina Mishra\n",
            "Age: 25\n"
          ]
        }
      ]
    },
    {
      "cell_type": "code",
      "source": [
        "#  Write code to print all the pre-defined keywords in Python using the keyword library.\n",
        "import keyword\n",
        "print(keyword.kwlist)"
      ],
      "metadata": {
        "colab": {
          "base_uri": "https://localhost:8080/"
        },
        "id": "k8Bfph_a6Utl",
        "outputId": "dbd5bf48-f11d-4ae8-c6f9-81b383b7ebf4"
      },
      "execution_count": null,
      "outputs": [
        {
          "output_type": "stream",
          "name": "stdout",
          "text": [
            "['False', 'None', 'True', 'and', 'as', 'assert', 'async', 'await', 'break', 'class', 'continue', 'def', 'del', 'elif', 'else', 'except', 'finally', 'for', 'from', 'global', 'if', 'import', 'in', 'is', 'lambda', 'nonlocal', 'not', 'or', 'pass', 'raise', 'return', 'try', 'while', 'with', 'yield']\n"
          ]
        }
      ]
    },
    {
      "cell_type": "code",
      "source": [
        "#  Write a program that checks if a given word is a Python keyword.\n",
        "import keyword\n",
        "word = input(\"Enter a word: \")\n",
        "if keyword.iskeyword(word):\n",
        "    print(f\"{word} is a Python keyword.\")\n",
        "else:\n",
        "    print(f\"{word} is not a Python keyword.\")"
      ],
      "metadata": {
        "colab": {
          "base_uri": "https://localhost:8080/"
        },
        "id": "Eme9uWqJ6wPg",
        "outputId": "802e9613-eab4-4083-c20d-5c036454be25"
      },
      "execution_count": null,
      "outputs": [
        {
          "output_type": "stream",
          "name": "stdout",
          "text": [
            "Enter a word: for\n",
            "for is a Python keyword.\n"
          ]
        }
      ]
    },
    {
      "cell_type": "code",
      "source": [
        "# Create a list and tuple in Python, and demonstrate how attempting to change an element works differently for each.\n",
        "\n",
        "my_list = [10, 20, 30, 40]\n",
        "print(\"Original list:\", my_list)\n",
        "\n",
        "# Attempt to change an element in the list (mutable)\n",
        "try:\n",
        "    my_list[1] = 25\n",
        "    print(\"List after attempting to change an element:\", my_list)\n",
        "except TypeError as e:\n",
        "    print(f\"Error when changing list element: {e}\")\n",
        "\n",
        "\n",
        "# Create a tuple\n",
        "my_tuple = (100, 200, 300, 400)\n",
        "print(\"\\nOriginal tuple:\", my_tuple)\n",
        "\n",
        "# Attempt to change an element in the tuple (immutable)\n",
        "try:\n",
        "    my_tuple[1] = 250\n",
        "    print(\"Tuple after attempting to change an element:\", my_tuple)\n",
        "except TypeError as e:\n",
        "    print(f\"Error when changing tuple element: {e}\")\n"
      ],
      "metadata": {
        "id": "cev_-WIs7gjZ",
        "colab": {
          "base_uri": "https://localhost:8080/"
        },
        "outputId": "c6444f35-67bf-4f0c-a080-dbb718430d8e"
      },
      "execution_count": null,
      "outputs": [
        {
          "output_type": "stream",
          "name": "stdout",
          "text": [
            "Original list: [10, 20, 30, 40]\n",
            "List after attempting to change an element: [10, 25, 30, 40]\n",
            "\n",
            "Original tuple: (100, 200, 300, 400)\n",
            "Error when changing tuple element: 'tuple' object does not support item assignment\n"
          ]
        }
      ]
    },
    {
      "cell_type": "code",
      "source": [
        "#  Write a function to demonstrate the behavior of mutable and immutable arguments.\n",
        "def demonstrate_mutability(mutable_list, immutable_string):\n",
        "  \"\"\"\n",
        "  Demonstrates the behavior of mutable and immutable arguments.\n",
        "\n",
        "  Args:\n",
        "    mutable_list: A list (mutable).\n",
        "    immutable_string: A string (immutable).\n",
        "  \"\"\"\n",
        "  print(\"Inside the function:\")\n",
        "  print(\"Initial mutable list:\", mutable_list)\n",
        "  print(\"Initial immutable string:\", immutable_string)\n",
        "\n",
        "  # Modify the mutable list\n",
        "  mutable_list.append(4)\n",
        "  print(\"Modified mutable list:\", mutable_list)\n",
        "\n",
        "  # Attempt to modify the immutable string (this will create a new string)\n",
        "  immutable_string = immutable_string + \" world\"\n",
        "  print(\"Modified immutable string:\", immutable_string)\n",
        "\n",
        "# Demonstrate with a mutable list and an immutable string\n",
        "my_list = [1, 2, 3]\n",
        "my_string = \"hello\"\n",
        "\n",
        "print(\"Outside the function (before call):\")\n",
        "print(\"My list:\", my_list)\n",
        "print(\"My string:\", my_string)\n",
        "\n",
        "demonstrate_mutability(my_list, my_string)\n",
        "\n",
        "print(\"Outside the function (after call):\")\n",
        "print(\"My list:\", my_list)\n",
        "print(\"My string:\", my_string)"
      ],
      "metadata": {
        "id": "czhCmVyh72Bc",
        "colab": {
          "base_uri": "https://localhost:8080/"
        },
        "outputId": "8639300f-52d9-476d-fa7a-baf49773fb48"
      },
      "execution_count": null,
      "outputs": [
        {
          "output_type": "stream",
          "name": "stdout",
          "text": [
            "Outside the function (before call):\n",
            "My list: [1, 2, 3]\n",
            "My string: hello\n",
            "Inside the function:\n",
            "Initial mutable list: [1, 2, 3]\n",
            "Initial immutable string: hello\n",
            "Modified mutable list: [1, 2, 3, 4]\n",
            "Modified immutable string: hello world\n",
            "Outside the function (after call):\n",
            "My list: [1, 2, 3, 4]\n",
            "My string: hello\n"
          ]
        }
      ]
    },
    {
      "cell_type": "code",
      "source": [
        "# Write a program that performs basic arithmetic operations on two user-input numbers.\n",
        "num1 = float(input(\"Enter the first number: \"))\n",
        "num2 = float(input(\"Enter the second number: \"))\n",
        "\n",
        "print(\"Addition:\", num1 + num2)\n"
      ],
      "metadata": {
        "id": "ZLO3kBcL79yS",
        "colab": {
          "base_uri": "https://localhost:8080/"
        },
        "outputId": "dff5dbfe-208d-4818-cac7-7272feb9db57"
      },
      "execution_count": null,
      "outputs": [
        {
          "output_type": "stream",
          "name": "stdout",
          "text": [
            "Enter the first number: 5\n",
            "Enter the second number: 6\n",
            "Addition: 11\n"
          ]
        }
      ]
    },
    {
      "cell_type": "code",
      "source": [
        "num1 = float(input(\"Enter the first number: \"))\n",
        "num2 = float(input(\"Enter the second number: \"))\n",
        "print(\"Subtraction:\", num1 - num2)"
      ],
      "metadata": {
        "colab": {
          "base_uri": "https://localhost:8080/"
        },
        "id": "z8eM8V_j8p1D",
        "outputId": "13d2eab3-15ed-489f-b50b-ee6b78967cc0"
      },
      "execution_count": null,
      "outputs": [
        {
          "output_type": "stream",
          "name": "stdout",
          "text": [
            "Enter the first number: 10\n",
            "Enter the second number: 2\n",
            "Subtraction: 8.0\n"
          ]
        }
      ]
    },
    {
      "cell_type": "code",
      "source": [
        "num1 = float(input(\"Enter the first number: \"))\n",
        "num2 = float(input(\"Enter the second number: \"))\n",
        "print(\"Multiplication:\", num1 * num2)"
      ],
      "metadata": {
        "colab": {
          "base_uri": "https://localhost:8080/"
        },
        "id": "GGSszcrs85dD",
        "outputId": "51dec78d-5052-4d1e-cf3f-33d83eec1476"
      },
      "execution_count": null,
      "outputs": [
        {
          "output_type": "stream",
          "name": "stdout",
          "text": [
            "Enter the first number: 3\n",
            "Enter the second number: 5\n",
            "Multiplication: 15.0\n"
          ]
        }
      ]
    },
    {
      "cell_type": "code",
      "source": [
        "num1 = float(input(\"Enter the first number: \"))\n",
        "num2 = float(input(\"Enter the second number: \"))\n",
        "if num2 != 0:\n",
        "    print(\"Division:\", num1 / num2)\n",
        "else:\n",
        "    print(\"Cannot divide by zero.\")"
      ],
      "metadata": {
        "colab": {
          "base_uri": "https://localhost:8080/"
        },
        "id": "QFZhZFBE9FeN",
        "outputId": "f78c8829-6b8e-4335-aeaa-615cb2f71c85"
      },
      "execution_count": null,
      "outputs": [
        {
          "output_type": "stream",
          "name": "stdout",
          "text": [
            "Enter the first number: 12\n",
            "Enter the second number: 6\n",
            "Division: 2.0\n"
          ]
        }
      ]
    },
    {
      "cell_type": "code",
      "source": [
        "# Write a program to demonstrate the use of logical operators.\n",
        "# Logical AND (and)\n",
        "print(\"Logical AND (and):\")\n",
        "a = 5\n",
        "b = 10\n",
        "print(f\"{a} > 0 and {b} > 5 is:\", a > 0 and b > 5)\n",
        "print(f\"{a} > 0 and {b} < 5 is:\", a > 0 and b < 5)"
      ],
      "metadata": {
        "colab": {
          "base_uri": "https://localhost:8080/"
        },
        "id": "2zt2B8fF9TkA",
        "outputId": "532fa2f3-91ca-4af5-aa48-af4a17797873"
      },
      "execution_count": null,
      "outputs": [
        {
          "output_type": "stream",
          "name": "stdout",
          "text": [
            "Logical AND (and):\n",
            "5 > 0 and 10 > 5 is: True\n",
            "5 > 0 and 10 < 5 is: False\n"
          ]
        }
      ]
    },
    {
      "cell_type": "code",
      "source": [
        "# Logical OR (or)\n",
        "print(\"\\nLogical OR (or):\")\n",
        "a = 5\n",
        "b = 10\n",
        "print(f\"{a} > 0 or {b} < 5 is:\", a > 0 or b < 5)\n",
        "print(f\"{a} < 0 or {b} < 5 is:\", a < 0 or b < 5)"
      ],
      "metadata": {
        "colab": {
          "base_uri": "https://localhost:8080/"
        },
        "id": "H0Yz5y01-c2p",
        "outputId": "92a8e9fa-2a82-4254-d989-4a1d92d0043b"
      },
      "execution_count": null,
      "outputs": [
        {
          "output_type": "stream",
          "name": "stdout",
          "text": [
            "\n",
            "Logical OR (or):\n",
            "5 > 0 or 10 < 5 is: True\n",
            "5 < 0 or 10 < 5 is: False\n"
          ]
        }
      ]
    },
    {
      "cell_type": "code",
      "source": [
        "# Logical NOT (not)\n",
        "print(\"\\nLogical NOT (not):\")\n",
        "a = 5\n",
        "print(f\"not {a} > 0 is:\", not a > 0)\n",
        "print(f\"not {a} < 0 is:\", not a < 0)"
      ],
      "metadata": {
        "colab": {
          "base_uri": "https://localhost:8080/"
        },
        "id": "3Cw1VV61-hUk",
        "outputId": "0681b0c7-b000-4824-cbcc-c696cceb0162"
      },
      "execution_count": null,
      "outputs": [
        {
          "output_type": "stream",
          "name": "stdout",
          "text": [
            "\n",
            "Logical NOT (not):\n",
            "not 5 > 0 is: False\n",
            "not 5 < 0 is: True\n"
          ]
        }
      ]
    },
    {
      "cell_type": "code",
      "source": [
        "#  Write a Python program to convert user input from string to integer, float, and boolean types.\n",
        "user_input_str = input(\"Enter a value: \")\n"
      ],
      "metadata": {
        "colab": {
          "base_uri": "https://localhost:8080/"
        },
        "id": "x0A4Wcv4-nhw",
        "outputId": "0b6380e2-646c-49eb-9199-b0c9d64efbad"
      },
      "execution_count": null,
      "outputs": [
        {
          "name": "stdout",
          "output_type": "stream",
          "text": [
            "Enter a value: 15\n"
          ]
        }
      ]
    },
    {
      "cell_type": "code",
      "source": [
        "# Convert to Integer\n",
        "try:\n",
        "    int_value = int(user_input_str)\n",
        "    print(f\"Converted to integer: {int_value} (Type: {type(int_value)})\")\n",
        "except ValueError:\n",
        "    print(f\"Cannot convert '{user_input_str}' to integer.\")\n"
      ],
      "metadata": {
        "colab": {
          "base_uri": "https://localhost:8080/"
        },
        "id": "LHVUp8yU-4GU",
        "outputId": "9634052c-17f1-4563-f37b-4f526839ec9a"
      },
      "execution_count": null,
      "outputs": [
        {
          "output_type": "stream",
          "name": "stdout",
          "text": [
            "Converted to integer: 15 (Type: <class 'int'>)\n"
          ]
        }
      ]
    },
    {
      "cell_type": "code",
      "source": [
        "# Convert to Float\n",
        "try:\n",
        "    float_value = float(user_input_str)\n",
        "    print(f\"Converted to float: {float_value} (Type: {type(float_value)})\")\n",
        "except ValueError:\n",
        "    print(f\"Cannot convert '{user_input_str}' to float.\")"
      ],
      "metadata": {
        "colab": {
          "base_uri": "https://localhost:8080/"
        },
        "id": "uJdI__iA-_q0",
        "outputId": "d9c2834d-74fa-472c-d48b-3ac5d8dd5fce"
      },
      "execution_count": null,
      "outputs": [
        {
          "output_type": "stream",
          "name": "stdout",
          "text": [
            "Converted to float: 15.0 (Type: <class 'float'>)\n"
          ]
        }
      ]
    },
    {
      "cell_type": "code",
      "source": [
        "# Convert to Boolean\n",
        "bool_value = bool(user_input_str)\n",
        "print(f\"Converted to boolean using bool(): {bool_value} (Type: {type(bool_value)})\")"
      ],
      "metadata": {
        "colab": {
          "base_uri": "https://localhost:8080/"
        },
        "id": "_YBBRybR_FY7",
        "outputId": "ec2e92d3-8158-4a6a-8063-4e0bbc5470af"
      },
      "execution_count": null,
      "outputs": [
        {
          "output_type": "stream",
          "name": "stdout",
          "text": [
            "Converted to boolean using bool(): True (Type: <class 'bool'>)\n"
          ]
        }
      ]
    },
    {
      "cell_type": "code",
      "source": [
        "#  Write code to demonstrate type casting with list elements.\n",
        "my_list = [\"123\", \"45.67\", \"True\", \"False\", \"99\"]\n",
        "print(\"Original list:\", my_list)\n",
        "print(\"Types of elements in the original list:\")\n",
        "for item in my_list:\n",
        "    print(f\"- {item}: {type(item)}\")"
      ],
      "metadata": {
        "colab": {
          "base_uri": "https://localhost:8080/"
        },
        "id": "EQy-aO5E_Pd-",
        "outputId": "59d9c204-91a2-4446-aa19-7ab13f56d706"
      },
      "execution_count": null,
      "outputs": [
        {
          "output_type": "stream",
          "name": "stdout",
          "text": [
            "Original list: ['123', '45.67', 'True', 'False', '99']\n",
            "Types of elements in the original list:\n",
            "- 123: <class 'str'>\n",
            "- 45.67: <class 'str'>\n",
            "- True: <class 'str'>\n",
            "- False: <class 'str'>\n",
            "- 99: <class 'str'>\n"
          ]
        }
      ]
    },
    {
      "cell_type": "code",
      "source": [
        "#  Write a program that checks if a number is positive, negative, or zero.\n",
        "num = float(input(\"Enter a number: \"))\n",
        "\n",
        "if num > 0:\n",
        "  print(\"The number is positive.\")\n",
        "elif num < 0:\n",
        "  print(\"The number is negative.\")\n",
        "else:\n",
        "  print(\"The number is zero.\")"
      ],
      "metadata": {
        "colab": {
          "base_uri": "https://localhost:8080/"
        },
        "id": "R_ZQg6gY_lHr",
        "outputId": "7fb709ee-2525-486c-90f4-14c9feb8115c"
      },
      "execution_count": null,
      "outputs": [
        {
          "output_type": "stream",
          "name": "stdout",
          "text": [
            "Enter a number: 13\n",
            "The number is positive.\n"
          ]
        }
      ]
    },
    {
      "cell_type": "code",
      "source": [
        "# Write a for loop to print numbers from 1 to 10.\n",
        "for i in range(1, 11):\n",
        "  print(i)"
      ],
      "metadata": {
        "colab": {
          "base_uri": "https://localhost:8080/"
        },
        "id": "qn2KBxN1_0qB",
        "outputId": "d8238ad1-b505-4311-fceb-06be70507cf4"
      },
      "execution_count": null,
      "outputs": [
        {
          "output_type": "stream",
          "name": "stdout",
          "text": [
            "1\n",
            "2\n",
            "3\n",
            "4\n",
            "5\n",
            "6\n",
            "7\n",
            "8\n",
            "9\n",
            "10\n"
          ]
        }
      ]
    },
    {
      "cell_type": "code",
      "source": [
        "# Write a Python program to find the sum of all even numbers between 1 and 50.\n",
        "sum_of_evens = 0\n",
        "\n",
        "# Iterate through numbers from 1 to 50\n",
        "for num in range(1, 51):\n",
        "  # Check if the number is even\n",
        "  if num % 2 == 0:\n",
        "    # Add the even number to the sum\n",
        "    sum_of_evens += num\n",
        "\n",
        "print(\"The sum of all even numbers between 1 and 50 is:\", sum_of_evens)"
      ],
      "metadata": {
        "colab": {
          "base_uri": "https://localhost:8080/"
        },
        "id": "ZSzslG5JAIAF",
        "outputId": "e906de6f-aa60-40f1-8aba-471d87a1c22a"
      },
      "execution_count": null,
      "outputs": [
        {
          "output_type": "stream",
          "name": "stdout",
          "text": [
            "The sum of all even numbers between 1 and 50 is: 650\n"
          ]
        }
      ]
    },
    {
      "cell_type": "code",
      "source": [
        "#  Write a program to reverse a string using a while loop.\n",
        "input_string = input(\"Enter a string to reverse: \")\n",
        "reversed_string = \"\"\n",
        "index = len(input_string) - 1\n",
        "\n",
        "while index >= 0:\n",
        "  reversed_string += input_string[index]\n",
        "  index -= 1\n",
        "\n",
        "print(\"Original string:\", input_string)\n",
        "print(\"Reversed string:\", reversed_string)"
      ],
      "metadata": {
        "colab": {
          "base_uri": "https://localhost:8080/"
        },
        "id": "rWADQvJbAZYR",
        "outputId": "a9212398-f362-47b5-aa0c-cfbc607762e8"
      },
      "execution_count": null,
      "outputs": [
        {
          "output_type": "stream",
          "name": "stdout",
          "text": [
            "Enter a string to reverse: Infinity\n",
            "Original string: Infinity\n",
            "Reversed string: ytinifnI\n"
          ]
        }
      ]
    },
    {
      "cell_type": "code",
      "source": [
        "# Write a Python program to calculate the factorial of a number provided by the user using a while loop.\n",
        "num = int(input(\"Enter a non-negative integer: \"))\n",
        "\n",
        "if num < 0:\n",
        "   print(\"Factorial is not defined for negative numbers.\")\n",
        "elif num == 0:\n",
        "   print(\"The factorial of 0 is 1.\")\n",
        "else:\n",
        "   factorial = 1\n",
        "   i = 1\n",
        "   while i <= num:\n",
        "       factorial *= i\n",
        "       i += 1\n",
        "   print(f\"The factorial of {num} is {factorial}.\")"
      ],
      "metadata": {
        "colab": {
          "base_uri": "https://localhost:8080/"
        },
        "id": "_c70_S18AzjK",
        "outputId": "5a0262d4-a2ef-4e15-a5f4-931a783a8ea0"
      },
      "execution_count": null,
      "outputs": [
        {
          "output_type": "stream",
          "name": "stdout",
          "text": [
            "Enter a non-negative integer: 12\n",
            "The factorial of 12 is 479001600.\n"
          ]
        }
      ]
    },
    {
      "cell_type": "code",
      "source": [],
      "metadata": {
        "id": "jRBtJHzcMZG5"
      },
      "execution_count": null,
      "outputs": []
    }
  ]
}